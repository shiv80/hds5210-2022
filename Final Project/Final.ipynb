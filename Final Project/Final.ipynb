{
 "cells": [
  {
   "cell_type": "markdown",
   "metadata": {
    "id": "SMtDzgy_3lYb"
   },
   "source": [
    "# Final Project"
   ]
  },
  {
   "cell_type": "markdown",
   "metadata": {
    "id": "wIY9SCWH3lYk"
   },
   "source": [
    "* In the United States, heart disease is the leading cause of death, accounting for one out of every four deaths. High blood pressure, high cholesterol, and smoking are all major risk factors for heart disease. Diabetes, obesity and overweight, physical inactivity, a poor diet, and excessive alcohol consumption are all medical problems and lifestyle choices that might increase the risk of heart disease. Heart disease risk can be considerably lowered by making lifestyle modifications and, in certain situations, taking medication.\n",
    "\n",
    "The following are the goals of this project:\n",
    "* Data on Missouri's leading causes of mortality from 2014 to 2017 is visualized and summarized.\n",
    "\n",
    "* Evaluate Missouri residents' heart disease status at the county level, including heart disease mortality, heart disease hospitalizations, and emergency room visits, to see if there is a link between heart disease mortality and emergency room visits, average personal income, population density, and other variables.\n",
    "\n",
    "* Examine whether there is a link between heart disease mortality and common risk factors in Missouri counties."
   ]
  },
  {
   "cell_type": "markdown",
   "metadata": {
    "id": "ClpTifWC3lYm"
   },
   "source": [
    "## 1. Data manipulation"
   ]
  },
  {
   "cell_type": "markdown",
   "metadata": {
    "id": "wyypS3eE3lYp"
   },
   "source": [
    "#### Data Source\n",
    "\n",
    "- Missouri leading causes of death information is retrieved from National center for health statistics in CDC website: https://www.cdc.gov/nchs/pressroom/states/missouri/missouri.htm.\n",
    "- Heart disease profile data were downloaded as local files from Missouri Public Health Information Management System.\n",
    "-  https://meric.mo.gov/data/income-measures/county-per-capita-personal-income, https://www.indexmundi.com/facts/united-states/quick-facts/missouri/land-area#table\n"
   ]
  },
  {
   "cell_type": "markdown",
   "metadata": {
    "id": "Aqc5ZDMc3lYs"
   },
   "source": [
    "#### Information about Missouri's major causes of mortality from 2014 to 2017.\n",
    "The Missouri leading causes of death data were read from CDC website:https://www.cdc.gov/nchs/pressroom/states/missouri/missouri.htm\n",
    "<br>\n"
   ]
  },
  {
   "cell_type": "code",
   "execution_count": 1,
   "metadata": {
    "id": "RqtxZC7r3lYv"
   },
   "outputs": [],
   "source": [
    "# Read tables from website\n",
    "import pandas as pd\n",
    "import numpy as np\n",
    "from pathlib import Path\n",
    "tables = pd.read_html('https://www.cdc.gov/nchs/pressroom/states/missouri/missouri.htm')"
   ]
  },
  {
   "cell_type": "code",
   "execution_count": 2,
   "metadata": {
    "id": "aTdPNq103lY2"
   },
   "outputs": [],
   "source": [
    "# 2014 -2017 Missouri leading causes of death data\n",
    "data_2017 = tables[1]\n",
    "data_2016 = tables[5]\n",
    "data_2015 = tables[9]\n",
    "data_2014 = tables[13]"
   ]
  },
  {
   "cell_type": "code",
   "execution_count": 3,
   "metadata": {
    "id": "LaqIfMXP3lY3"
   },
   "outputs": [],
   "source": [
    "# function used to change columns names, assign a new colunm.\n",
    "\n",
    "def changeColumns (dataframe, x):\n",
    "    \"\"\"(dataframe, str) -> dataframe\n",
    "    \n",
    "    This function returns a dataframe with the names of the columns changed and a new column added.\"\"\"\n",
    "    \n",
    "    a = dataframe.columns[0][:-6]\n",
    "    b = dataframe.columns[1]\n",
    "    c = dataframe.columns[2][:4]\n",
    "    d = dataframe.columns[3][:-1]\n",
    "    e = dataframe.columns[4][:-2]\n",
    "    dataframe.columns = [a, b, c, d, e]\n",
    "    dataframe['Year'] = x\n",
    "    dataframe[a] = dataframe[a].str[3:]\n",
    "    dataframe.iloc[9,0] = dataframe.iloc[9,0][1:]\n",
    "    \n",
    "    dataframe = dataframe[[a,'Year',b,c,d,e]].copy()\n",
    "    return dataframe"
   ]
  },
  {
   "cell_type": "code",
   "execution_count": 4,
   "metadata": {
    "id": "UWIS1B2H3lY6"
   },
   "outputs": [],
   "source": [
    "# change data columns names\n",
    "data_2017 = changeColumns(data_2017, 2017).copy()"
   ]
  },
  {
   "cell_type": "code",
   "execution_count": 5,
   "metadata": {
    "id": "KnBDAmvm3lY8"
   },
   "outputs": [],
   "source": [
    "data_2016 = changeColumns(data_2016, 2016)"
   ]
  },
  {
   "cell_type": "code",
   "execution_count": 6,
   "metadata": {
    "id": "kZ25pl8S3lY-"
   },
   "outputs": [],
   "source": [
    "data_2015 = changeColumns(data_2015, 2015)"
   ]
  },
  {
   "cell_type": "code",
   "execution_count": 7,
   "metadata": {
    "id": "gEKTyORY3lZB"
   },
   "outputs": [],
   "source": [
    "data_2014 = changeColumns(data_2014, 2014)"
   ]
  },
  {
   "cell_type": "code",
   "execution_count": 8,
   "metadata": {
    "id": "FJ6sw3zZ3lZD"
   },
   "outputs": [],
   "source": [
    "# Merge 2014 - 2017 years' data\n",
    "lcd_data = pd.concat([data_2014, data_2015, data_2016,data_2017])\n",
    "lcd_data = lcd_data.reset_index()"
   ]
  },
  {
   "cell_type": "code",
   "execution_count": 9,
   "metadata": {
    "colab": {
     "base_uri": "https://localhost:8080/"
    },
    "id": "vNkcF-u13lZE",
    "outputId": "d6a57dba-454a-4e4d-a6f1-24080e803f55"
   },
   "outputs": [
    {
     "data": {
      "text/plain": [
       "Index(['index', 'MO Leading Causes of Death', 'Year', 'Deaths', 'Rate',\n",
       "       'State Rank', 'U.S. Rate'],\n",
       "      dtype='object')"
      ]
     },
     "execution_count": 9,
     "metadata": {},
     "output_type": "execute_result"
    }
   ],
   "source": [
    "lcd_data.columns"
   ]
  },
  {
   "cell_type": "code",
   "execution_count": 10,
   "metadata": {
    "id": "knoZvEWA3lZG"
   },
   "outputs": [],
   "source": [
    "# long to wide pivoting tranformation\n",
    "pdata = lcd_data.pivot(index='Year', columns='MO Leading Causes of Death', values=['Deaths','Rate'])"
   ]
  },
  {
   "cell_type": "markdown",
   "metadata": {
    "id": "Al-Qj9Dr3lZJ"
   },
   "source": [
    "###  Data on heart disease death, hospitalization, and ER visits\n",
    "View heart disease mortality, heart disease hospitalizations, and heart disease emergency room visits on a county level from local files. To obtain information about income and land area through website.\n",
    "<br>\n",
    "Death rates are age-adjusted and expressed as deaths per 100,000 of the population. The age-adjusted hospitalization and procedure rates are per 10,000 people, whereas the age-adjusted emergency department visit rates are per 1,000 people."
   ]
  },
  {
   "cell_type": "code",
   "execution_count": 11,
   "metadata": {
    "id": "7VFQomRc3lZK"
   },
   "outputs": [],
   "source": [
    "# function to read csv and excel files\n",
    "\n",
    "class InputModule:\n",
    "    def __init__(self, fileFormat: str = \"EXCEL\"):\n",
    "        self.fileFormat = fileFormat.upper()\n",
    "        self.dataFrame = None\n",
    "        self.filterList = ['Statewide', 'County']\n",
    "        self.dropList = ['Lower 95% Confidence Limit', 'Upper 95% Confidence Limit', 'Significantly Different']\n",
    "\n",
    "    def readfiles(self, filePath: Path):\n",
    "        try:\n",
    "            if self.fileFormat.upper() == \"EXCEL\":\n",
    "                self.dataFrame = pd.read_excel(filePath, header=2, skipfooter=3)\n",
    "            elif self.fileFormat.upper() == \"CSV\":\n",
    "                self.dataFrame = pd.read_csv(filePath, header=2, skipfooter=3)\n",
    "            else:\n",
    "                print(\"Invalid File Format. Read Failure\")\n",
    "                SystemExit(1)\n",
    "        except Exception as e:\n",
    "            print(\"File Read Failure!!!, Filename:\" + str(filePath) + \" FileFormat:\" + self.fileFormat)\n",
    "            SystemExit(1)\n",
    "\n",
    "        return self.dataFrame\n",
    "\n",
    "    # function to filter data, drop columns, change columns names\n",
    "    def formatDataFrame(self, pre: str, formatType: int = 1):\n",
    "        self.dataFrame = self.dataFrame[self.dataFrame['Geography Type'].isin(self.filterList)]\n",
    "        self.dataFrame = self.dataFrame.drop(\n",
    "            self.dropList, axis=1)\n",
    "\n",
    "        self.dataFrame.columns = [self.dataFrame.columns[0],\n",
    "                                  self.dataFrame.columns[1],\n",
    "                                  pre + '_' + self.dataFrame.columns[2] if type == 1 else self.dataFrame.columns[2],\n",
    "                                  pre + '_' + self.dataFrame.columns[3],\n",
    "                                  pre + '_' + self.dataFrame.columns[4]]\n",
    "\n",
    "    def getDataFrame(self):\n",
    "        return self.dataFrame\n"
   ]
  },
  {
   "cell_type": "code",
   "execution_count": 12,
   "metadata": {
    "colab": {
     "base_uri": "https://localhost:8080/"
    },
    "id": "J4UDSo7I3lZL",
    "outputId": "9172cf75-7496-42e7-a7ed-3d30f93bd10d"
   },
   "outputs": [
    {
     "name": "stderr",
     "output_type": "stream",
     "text": [
      "/opt/tljh/user/lib/python3.6/site-packages/ipykernel_launcher.py:15: ParserWarning: Falling back to the 'python' engine because the 'c' engine does not support skipfooter; you can avoid this warning by specifying engine='python'.\n",
      "  from ipykernel import kernelapp as app\n"
     ]
    },
    {
     "data": {
      "text/html": [
       "<div>\n",
       "<style scoped>\n",
       "    .dataframe tbody tr th:only-of-type {\n",
       "        vertical-align: middle;\n",
       "    }\n",
       "\n",
       "    .dataframe tbody tr th {\n",
       "        vertical-align: top;\n",
       "    }\n",
       "\n",
       "    .dataframe thead th {\n",
       "        text-align: right;\n",
       "    }\n",
       "</style>\n",
       "<table border=\"1\" class=\"dataframe\">\n",
       "  <thead>\n",
       "    <tr style=\"text-align: right;\">\n",
       "      <th></th>\n",
       "      <th>Geography</th>\n",
       "      <th>Geography Type</th>\n",
       "      <th>Data Years</th>\n",
       "      <th>Population Estimate</th>\n",
       "      <th>Weighted Percent</th>\n",
       "      <th>Lower 95% Confidence Limit</th>\n",
       "      <th>Upper 95% Confidence Limit</th>\n",
       "      <th>Significantly Different</th>\n",
       "    </tr>\n",
       "  </thead>\n",
       "  <tbody>\n",
       "    <tr>\n",
       "      <th>0</th>\n",
       "      <td>Missouri</td>\n",
       "      <td>Statewide</td>\n",
       "      <td>2019</td>\n",
       "      <td>207,371</td>\n",
       "      <td>4.4</td>\n",
       "      <td>3.8</td>\n",
       "      <td>4.9</td>\n",
       "      <td>NaN</td>\n",
       "    </tr>\n",
       "    <tr>\n",
       "      <th>1</th>\n",
       "      <td>Central</td>\n",
       "      <td>BRFSS Region</td>\n",
       "      <td>2019</td>\n",
       "      <td>25,686</td>\n",
       "      <td>4.5</td>\n",
       "      <td>2.8</td>\n",
       "      <td>6.2</td>\n",
       "      <td>N/S</td>\n",
       "    </tr>\n",
       "    <tr>\n",
       "      <th>2</th>\n",
       "      <td>Kansas City Metro</td>\n",
       "      <td>BRFSS Region</td>\n",
       "      <td>2019</td>\n",
       "      <td>28,688</td>\n",
       "      <td>3.0</td>\n",
       "      <td>2.0</td>\n",
       "      <td>4.0</td>\n",
       "      <td>L</td>\n",
       "    </tr>\n",
       "    <tr>\n",
       "      <th>3</th>\n",
       "      <td>Northeast</td>\n",
       "      <td>BRFSS Region</td>\n",
       "      <td>2019</td>\n",
       "      <td>10,691</td>\n",
       "      <td>5.6</td>\n",
       "      <td>3.4</td>\n",
       "      <td>7.8</td>\n",
       "      <td>N/S</td>\n",
       "    </tr>\n",
       "    <tr>\n",
       "      <th>4</th>\n",
       "      <td>Northwest</td>\n",
       "      <td>BRFSS Region</td>\n",
       "      <td>2019</td>\n",
       "      <td>10,080</td>\n",
       "      <td>5.4</td>\n",
       "      <td>3.3</td>\n",
       "      <td>7.5</td>\n",
       "      <td>N/S</td>\n",
       "    </tr>\n",
       "    <tr>\n",
       "      <th>...</th>\n",
       "      <td>...</td>\n",
       "      <td>...</td>\n",
       "      <td>...</td>\n",
       "      <td>...</td>\n",
       "      <td>...</td>\n",
       "      <td>...</td>\n",
       "      <td>...</td>\n",
       "      <td>...</td>\n",
       "    </tr>\n",
       "    <tr>\n",
       "      <th>118</th>\n",
       "      <td>Washington</td>\n",
       "      <td>County</td>\n",
       "      <td>2019</td>\n",
       "      <td>25,686</td>\n",
       "      <td>4.5</td>\n",
       "      <td>2.8</td>\n",
       "      <td>6.2</td>\n",
       "      <td>N/S</td>\n",
       "    </tr>\n",
       "    <tr>\n",
       "      <th>119</th>\n",
       "      <td>Wayne</td>\n",
       "      <td>County</td>\n",
       "      <td>2019</td>\n",
       "      <td>24,660</td>\n",
       "      <td>5.7</td>\n",
       "      <td>4.2</td>\n",
       "      <td>7.2</td>\n",
       "      <td>N/S</td>\n",
       "    </tr>\n",
       "    <tr>\n",
       "      <th>120</th>\n",
       "      <td>Webster</td>\n",
       "      <td>County</td>\n",
       "      <td>2019</td>\n",
       "      <td>42,127</td>\n",
       "      <td>5.7</td>\n",
       "      <td>3.8</td>\n",
       "      <td>7.7</td>\n",
       "      <td>N/S</td>\n",
       "    </tr>\n",
       "    <tr>\n",
       "      <th>121</th>\n",
       "      <td>Worth</td>\n",
       "      <td>County</td>\n",
       "      <td>2019</td>\n",
       "      <td>10,080</td>\n",
       "      <td>5.4</td>\n",
       "      <td>3.3</td>\n",
       "      <td>7.5</td>\n",
       "      <td>N/S</td>\n",
       "    </tr>\n",
       "    <tr>\n",
       "      <th>122</th>\n",
       "      <td>Wright</td>\n",
       "      <td>County</td>\n",
       "      <td>2019</td>\n",
       "      <td>24,660</td>\n",
       "      <td>5.7</td>\n",
       "      <td>4.2</td>\n",
       "      <td>7.2</td>\n",
       "      <td>N/S</td>\n",
       "    </tr>\n",
       "  </tbody>\n",
       "</table>\n",
       "<p>123 rows × 8 columns</p>\n",
       "</div>"
      ],
      "text/plain": [
       "             Geography Geography Type  Data Years Population Estimate  \\\n",
       "0             Missouri      Statewide        2019             207,371   \n",
       "1              Central   BRFSS Region        2019              25,686   \n",
       "2    Kansas City Metro   BRFSS Region        2019              28,688   \n",
       "3            Northeast   BRFSS Region        2019              10,691   \n",
       "4            Northwest   BRFSS Region        2019              10,080   \n",
       "..                 ...            ...         ...                 ...   \n",
       "118         Washington         County        2019              25,686   \n",
       "119              Wayne         County        2019              24,660   \n",
       "120            Webster         County        2019              42,127   \n",
       "121              Worth         County        2019              10,080   \n",
       "122             Wright         County        2019              24,660   \n",
       "\n",
       "     Weighted Percent  Lower 95% Confidence Limit  Upper 95% Confidence Limit  \\\n",
       "0                 4.4                         3.8                         4.9   \n",
       "1                 4.5                         2.8                         6.2   \n",
       "2                 3.0                         2.0                         4.0   \n",
       "3                 5.6                         3.4                         7.8   \n",
       "4                 5.4                         3.3                         7.5   \n",
       "..                ...                         ...                         ...   \n",
       "118               4.5                         2.8                         6.2   \n",
       "119               5.7                         4.2                         7.2   \n",
       "120               5.7                         3.8                         7.7   \n",
       "121               5.4                         3.3                         7.5   \n",
       "122               5.7                         4.2                         7.2   \n",
       "\n",
       "    Significantly Different  \n",
       "0                       NaN  \n",
       "1                       N/S  \n",
       "2                         L  \n",
       "3                       N/S  \n",
       "4                       N/S  \n",
       "..                      ...  \n",
       "118                     N/S  \n",
       "119                     N/S  \n",
       "120                     N/S  \n",
       "121                     N/S  \n",
       "122                     N/S  \n",
       "\n",
       "[123 rows x 8 columns]"
      ]
     },
     "execution_count": 12,
     "metadata": {},
     "output_type": "execute_result"
    }
   ],
   "source": [
    "# read heart disease data from local files.\n",
    "    hd_data = InputModule('csv')\n",
    "    hd_data.readfiles('coronary.csv')"
   ]
  },
  {
   "cell_type": "code",
   "execution_count": 13,
   "metadata": {
    "id": "hcIcBkuR3lZM"
   },
   "outputs": [
    {
     "data": {
      "text/html": [
       "<div>\n",
       "<style scoped>\n",
       "    .dataframe tbody tr th:only-of-type {\n",
       "        vertical-align: middle;\n",
       "    }\n",
       "\n",
       "    .dataframe tbody tr th {\n",
       "        vertical-align: top;\n",
       "    }\n",
       "\n",
       "    .dataframe thead th {\n",
       "        text-align: right;\n",
       "    }\n",
       "</style>\n",
       "<table border=\"1\" class=\"dataframe\">\n",
       "  <thead>\n",
       "    <tr style=\"text-align: right;\">\n",
       "      <th></th>\n",
       "      <th>Geography</th>\n",
       "      <th>Geography Type</th>\n",
       "      <th>Data Years</th>\n",
       "      <th>Count</th>\n",
       "      <th>Rate</th>\n",
       "      <th>Lower 95% Confidence Limit</th>\n",
       "      <th>Upper 95% Confidence Limit</th>\n",
       "      <th>Significantly Different</th>\n",
       "    </tr>\n",
       "  </thead>\n",
       "  <tbody>\n",
       "    <tr>\n",
       "      <th>0</th>\n",
       "      <td>Missouri</td>\n",
       "      <td>Statewide</td>\n",
       "      <td>2009 - 2019</td>\n",
       "      <td>157199</td>\n",
       "      <td>193.95</td>\n",
       "      <td>192.99</td>\n",
       "      <td>194.91</td>\n",
       "      <td>NaN</td>\n",
       "    </tr>\n",
       "    <tr>\n",
       "      <th>1</th>\n",
       "      <td>Central</td>\n",
       "      <td>BRFSS Region</td>\n",
       "      <td>2009 - 2019</td>\n",
       "      <td>17511</td>\n",
       "      <td>192.46</td>\n",
       "      <td>189.61</td>\n",
       "      <td>195.31</td>\n",
       "      <td>N/S</td>\n",
       "    </tr>\n",
       "    <tr>\n",
       "      <th>2</th>\n",
       "      <td>Kansas City Metro</td>\n",
       "      <td>BRFSS Region</td>\n",
       "      <td>2009 - 2019</td>\n",
       "      <td>25252</td>\n",
       "      <td>168.64</td>\n",
       "      <td>166.56</td>\n",
       "      <td>170.72</td>\n",
       "      <td>L</td>\n",
       "    </tr>\n",
       "    <tr>\n",
       "      <th>3</th>\n",
       "      <td>Northeast</td>\n",
       "      <td>BRFSS Region</td>\n",
       "      <td>2009 - 2019</td>\n",
       "      <td>8010</td>\n",
       "      <td>199.59</td>\n",
       "      <td>195.22</td>\n",
       "      <td>203.96</td>\n",
       "      <td>H</td>\n",
       "    </tr>\n",
       "    <tr>\n",
       "      <th>4</th>\n",
       "      <td>Northwest</td>\n",
       "      <td>BRFSS Region</td>\n",
       "      <td>2009 - 2019</td>\n",
       "      <td>6704</td>\n",
       "      <td>201.59</td>\n",
       "      <td>196.76</td>\n",
       "      <td>206.42</td>\n",
       "      <td>H</td>\n",
       "    </tr>\n",
       "    <tr>\n",
       "      <th>...</th>\n",
       "      <td>...</td>\n",
       "      <td>...</td>\n",
       "      <td>...</td>\n",
       "      <td>...</td>\n",
       "      <td>...</td>\n",
       "      <td>...</td>\n",
       "      <td>...</td>\n",
       "      <td>...</td>\n",
       "    </tr>\n",
       "    <tr>\n",
       "      <th>150</th>\n",
       "      <td>Washington</td>\n",
       "      <td>County</td>\n",
       "      <td>2009 - 2019</td>\n",
       "      <td>1048</td>\n",
       "      <td>349.25</td>\n",
       "      <td>328.10</td>\n",
       "      <td>370.40</td>\n",
       "      <td>H</td>\n",
       "    </tr>\n",
       "    <tr>\n",
       "      <th>151</th>\n",
       "      <td>Wayne</td>\n",
       "      <td>County</td>\n",
       "      <td>2009 - 2019</td>\n",
       "      <td>405</td>\n",
       "      <td>183.93</td>\n",
       "      <td>166.45</td>\n",
       "      <td>202.75</td>\n",
       "      <td>N/S</td>\n",
       "    </tr>\n",
       "    <tr>\n",
       "      <th>152</th>\n",
       "      <td>Webster</td>\n",
       "      <td>County</td>\n",
       "      <td>2009 - 2019</td>\n",
       "      <td>915</td>\n",
       "      <td>206.99</td>\n",
       "      <td>193.58</td>\n",
       "      <td>220.40</td>\n",
       "      <td>N/S</td>\n",
       "    </tr>\n",
       "    <tr>\n",
       "      <th>153</th>\n",
       "      <td>Worth</td>\n",
       "      <td>County</td>\n",
       "      <td>2009 - 2019</td>\n",
       "      <td>66</td>\n",
       "      <td>135.79</td>\n",
       "      <td>105.02</td>\n",
       "      <td>172.76</td>\n",
       "      <td>L</td>\n",
       "    </tr>\n",
       "    <tr>\n",
       "      <th>154</th>\n",
       "      <td>Wright</td>\n",
       "      <td>County</td>\n",
       "      <td>2009 - 2019</td>\n",
       "      <td>769</td>\n",
       "      <td>275.59</td>\n",
       "      <td>256.11</td>\n",
       "      <td>295.07</td>\n",
       "      <td>H</td>\n",
       "    </tr>\n",
       "  </tbody>\n",
       "</table>\n",
       "<p>155 rows × 8 columns</p>\n",
       "</div>"
      ],
      "text/plain": [
       "             Geography Geography Type   Data Years   Count    Rate  \\\n",
       "0             Missouri      Statewide  2009 - 2019  157199  193.95   \n",
       "1              Central   BRFSS Region  2009 - 2019   17511  192.46   \n",
       "2    Kansas City Metro   BRFSS Region  2009 - 2019   25252  168.64   \n",
       "3            Northeast   BRFSS Region  2009 - 2019    8010  199.59   \n",
       "4            Northwest   BRFSS Region  2009 - 2019    6704  201.59   \n",
       "..                 ...            ...          ...     ...     ...   \n",
       "150         Washington         County  2009 - 2019    1048  349.25   \n",
       "151              Wayne         County  2009 - 2019     405  183.93   \n",
       "152            Webster         County  2009 - 2019     915  206.99   \n",
       "153              Worth         County  2009 - 2019      66  135.79   \n",
       "154             Wright         County  2009 - 2019     769  275.59   \n",
       "\n",
       "     Lower 95% Confidence Limit  Upper 95% Confidence Limit  \\\n",
       "0                        192.99                      194.91   \n",
       "1                        189.61                      195.31   \n",
       "2                        166.56                      170.72   \n",
       "3                        195.22                      203.96   \n",
       "4                        196.76                      206.42   \n",
       "..                          ...                         ...   \n",
       "150                      328.10                      370.40   \n",
       "151                      166.45                      202.75   \n",
       "152                      193.58                      220.40   \n",
       "153                      105.02                      172.76   \n",
       "154                      256.11                      295.07   \n",
       "\n",
       "    Significantly Different  \n",
       "0                       NaN  \n",
       "1                       N/S  \n",
       "2                         L  \n",
       "3                         H  \n",
       "4                         H  \n",
       "..                      ...  \n",
       "150                       H  \n",
       "151                     N/S  \n",
       "152                     N/S  \n",
       "153                       L  \n",
       "154                       H  \n",
       "\n",
       "[155 rows x 8 columns]"
      ]
     },
     "execution_count": 13,
     "metadata": {},
     "output_type": "execute_result"
    }
   ],
   "source": [
    "# heart disease mortality data\n",
    "    hdm_data = InputModule('excel')\n",
    "    hdm_data.readfiles('mortality_data.xlsx')\n"
   ]
  },
  {
   "cell_type": "code",
   "execution_count": 14,
   "metadata": {
    "id": "9uivw6vz3lZN"
   },
   "outputs": [
    {
     "data": {
      "text/html": [
       "<div>\n",
       "<style scoped>\n",
       "    .dataframe tbody tr th:only-of-type {\n",
       "        vertical-align: middle;\n",
       "    }\n",
       "\n",
       "    .dataframe tbody tr th {\n",
       "        vertical-align: top;\n",
       "    }\n",
       "\n",
       "    .dataframe thead th {\n",
       "        text-align: right;\n",
       "    }\n",
       "</style>\n",
       "<table border=\"1\" class=\"dataframe\">\n",
       "  <thead>\n",
       "    <tr style=\"text-align: right;\">\n",
       "      <th></th>\n",
       "      <th>Geography</th>\n",
       "      <th>Geography Type</th>\n",
       "      <th>Data Years</th>\n",
       "      <th>Count</th>\n",
       "      <th>Rate</th>\n",
       "      <th>Lower 95% Confidence Limit</th>\n",
       "      <th>Upper 95% Confidence Limit</th>\n",
       "      <th>Significantly Different</th>\n",
       "    </tr>\n",
       "  </thead>\n",
       "  <tbody>\n",
       "    <tr>\n",
       "      <th>0</th>\n",
       "      <td>Missouri</td>\n",
       "      <td>Statewide</td>\n",
       "      <td>2011 - 2015</td>\n",
       "      <td>470474</td>\n",
       "      <td>15.12</td>\n",
       "      <td>15.08</td>\n",
       "      <td>15.16</td>\n",
       "      <td>NaN</td>\n",
       "    </tr>\n",
       "    <tr>\n",
       "      <th>1</th>\n",
       "      <td>Central</td>\n",
       "      <td>BRFSS Region</td>\n",
       "      <td>2011 - 2015</td>\n",
       "      <td>54106</td>\n",
       "      <td>14.82</td>\n",
       "      <td>14.70</td>\n",
       "      <td>14.94</td>\n",
       "      <td>L</td>\n",
       "    </tr>\n",
       "    <tr>\n",
       "      <th>2</th>\n",
       "      <td>Kansas City Metro</td>\n",
       "      <td>BRFSS Region</td>\n",
       "      <td>2011 - 2015</td>\n",
       "      <td>100792</td>\n",
       "      <td>16.44</td>\n",
       "      <td>16.34</td>\n",
       "      <td>16.54</td>\n",
       "      <td>H</td>\n",
       "    </tr>\n",
       "    <tr>\n",
       "      <th>3</th>\n",
       "      <td>Northeast</td>\n",
       "      <td>BRFSS Region</td>\n",
       "      <td>2011 - 2015</td>\n",
       "      <td>23416</td>\n",
       "      <td>16.72</td>\n",
       "      <td>16.51</td>\n",
       "      <td>16.93</td>\n",
       "      <td>H</td>\n",
       "    </tr>\n",
       "    <tr>\n",
       "      <th>4</th>\n",
       "      <td>Northwest</td>\n",
       "      <td>BRFSS Region</td>\n",
       "      <td>2011 - 2015</td>\n",
       "      <td>19594</td>\n",
       "      <td>15.78</td>\n",
       "      <td>15.56</td>\n",
       "      <td>16.00</td>\n",
       "      <td>H</td>\n",
       "    </tr>\n",
       "    <tr>\n",
       "      <th>...</th>\n",
       "      <td>...</td>\n",
       "      <td>...</td>\n",
       "      <td>...</td>\n",
       "      <td>...</td>\n",
       "      <td>...</td>\n",
       "      <td>...</td>\n",
       "      <td>...</td>\n",
       "      <td>...</td>\n",
       "    </tr>\n",
       "    <tr>\n",
       "      <th>150</th>\n",
       "      <td>Washington</td>\n",
       "      <td>County</td>\n",
       "      <td>2011 - 2015</td>\n",
       "      <td>3569</td>\n",
       "      <td>26.96</td>\n",
       "      <td>26.08</td>\n",
       "      <td>27.84</td>\n",
       "      <td>H</td>\n",
       "    </tr>\n",
       "    <tr>\n",
       "      <th>151</th>\n",
       "      <td>Wayne</td>\n",
       "      <td>County</td>\n",
       "      <td>2011 - 2015</td>\n",
       "      <td>1127</td>\n",
       "      <td>15.33</td>\n",
       "      <td>14.43</td>\n",
       "      <td>16.23</td>\n",
       "      <td>N/S</td>\n",
       "    </tr>\n",
       "    <tr>\n",
       "      <th>152</th>\n",
       "      <td>Webster</td>\n",
       "      <td>County</td>\n",
       "      <td>2011 - 2015</td>\n",
       "      <td>2062</td>\n",
       "      <td>11.41</td>\n",
       "      <td>10.92</td>\n",
       "      <td>11.90</td>\n",
       "      <td>L</td>\n",
       "    </tr>\n",
       "    <tr>\n",
       "      <th>153</th>\n",
       "      <td>Worth</td>\n",
       "      <td>County</td>\n",
       "      <td>2011 - 2015</td>\n",
       "      <td>180</td>\n",
       "      <td>13.71</td>\n",
       "      <td>11.78</td>\n",
       "      <td>15.87</td>\n",
       "      <td>N/S</td>\n",
       "    </tr>\n",
       "    <tr>\n",
       "      <th>154</th>\n",
       "      <td>Wright</td>\n",
       "      <td>County</td>\n",
       "      <td>2011 - 2015</td>\n",
       "      <td>1371</td>\n",
       "      <td>14.43</td>\n",
       "      <td>13.67</td>\n",
       "      <td>15.19</td>\n",
       "      <td>N/S</td>\n",
       "    </tr>\n",
       "  </tbody>\n",
       "</table>\n",
       "<p>155 rows × 8 columns</p>\n",
       "</div>"
      ],
      "text/plain": [
       "             Geography Geography Type   Data Years   Count   Rate  \\\n",
       "0             Missouri      Statewide  2011 - 2015  470474  15.12   \n",
       "1              Central   BRFSS Region  2011 - 2015   54106  14.82   \n",
       "2    Kansas City Metro   BRFSS Region  2011 - 2015  100792  16.44   \n",
       "3            Northeast   BRFSS Region  2011 - 2015   23416  16.72   \n",
       "4            Northwest   BRFSS Region  2011 - 2015   19594  15.78   \n",
       "..                 ...            ...          ...     ...    ...   \n",
       "150         Washington         County  2011 - 2015    3569  26.96   \n",
       "151              Wayne         County  2011 - 2015    1127  15.33   \n",
       "152            Webster         County  2011 - 2015    2062  11.41   \n",
       "153              Worth         County  2011 - 2015     180  13.71   \n",
       "154             Wright         County  2011 - 2015    1371  14.43   \n",
       "\n",
       "     Lower 95% Confidence Limit  Upper 95% Confidence Limit  \\\n",
       "0                         15.08                       15.16   \n",
       "1                         14.70                       14.94   \n",
       "2                         16.34                       16.54   \n",
       "3                         16.51                       16.93   \n",
       "4                         15.56                       16.00   \n",
       "..                          ...                         ...   \n",
       "150                       26.08                       27.84   \n",
       "151                       14.43                       16.23   \n",
       "152                       10.92                       11.90   \n",
       "153                       11.78                       15.87   \n",
       "154                       13.67                       15.19   \n",
       "\n",
       "    Significantly Different  \n",
       "0                       NaN  \n",
       "1                         L  \n",
       "2                         H  \n",
       "3                         H  \n",
       "4                         H  \n",
       "..                      ...  \n",
       "150                       H  \n",
       "151                     N/S  \n",
       "152                       L  \n",
       "153                     N/S  \n",
       "154                     N/S  \n",
       "\n",
       "[155 rows x 8 columns]"
      ]
     },
     "execution_count": 14,
     "metadata": {},
     "output_type": "execute_result"
    }
   ],
   "source": [
    "# data for emergency room visits discharges with a principal diagnosis of heart disease\n",
    "    erv_data = InputModule('excel')\n",
    "    erv_data.readfiles('emergency_room_visits_data.xlsx')\n"
   ]
  },
  {
   "cell_type": "code",
   "execution_count": 15,
   "metadata": {
    "id": "H91qM9A03lZP"
   },
   "outputs": [
    {
     "data": {
      "text/html": [
       "<div>\n",
       "<style scoped>\n",
       "    .dataframe tbody tr th:only-of-type {\n",
       "        vertical-align: middle;\n",
       "    }\n",
       "\n",
       "    .dataframe tbody tr th {\n",
       "        vertical-align: top;\n",
       "    }\n",
       "\n",
       "    .dataframe thead th {\n",
       "        text-align: right;\n",
       "    }\n",
       "</style>\n",
       "<table border=\"1\" class=\"dataframe\">\n",
       "  <thead>\n",
       "    <tr style=\"text-align: right;\">\n",
       "      <th></th>\n",
       "      <th>Geography</th>\n",
       "      <th>Geography Type</th>\n",
       "      <th>Data Years</th>\n",
       "      <th>Count</th>\n",
       "      <th>Rate</th>\n",
       "      <th>Lower 95% Confidence Limit</th>\n",
       "      <th>Upper 95% Confidence Limit</th>\n",
       "      <th>Significantly Different</th>\n",
       "    </tr>\n",
       "  </thead>\n",
       "  <tbody>\n",
       "    <tr>\n",
       "      <th>0</th>\n",
       "      <td>Missouri</td>\n",
       "      <td>Statewide</td>\n",
       "      <td>2011 - 2015</td>\n",
       "      <td>384331</td>\n",
       "      <td>109.46</td>\n",
       "      <td>109.11</td>\n",
       "      <td>109.81</td>\n",
       "      <td>NaN</td>\n",
       "    </tr>\n",
       "    <tr>\n",
       "      <th>1</th>\n",
       "      <td>Central</td>\n",
       "      <td>BRFSS Region</td>\n",
       "      <td>2011 - 2015</td>\n",
       "      <td>41441</td>\n",
       "      <td>103.88</td>\n",
       "      <td>102.88</td>\n",
       "      <td>104.88</td>\n",
       "      <td>L</td>\n",
       "    </tr>\n",
       "    <tr>\n",
       "      <th>2</th>\n",
       "      <td>Kansas City Metro</td>\n",
       "      <td>BRFSS Region</td>\n",
       "      <td>2011 - 2015</td>\n",
       "      <td>76109</td>\n",
       "      <td>115.51</td>\n",
       "      <td>114.69</td>\n",
       "      <td>116.33</td>\n",
       "      <td>H</td>\n",
       "    </tr>\n",
       "    <tr>\n",
       "      <th>3</th>\n",
       "      <td>Northeast</td>\n",
       "      <td>BRFSS Region</td>\n",
       "      <td>2011 - 2015</td>\n",
       "      <td>17452</td>\n",
       "      <td>105.14</td>\n",
       "      <td>103.58</td>\n",
       "      <td>106.70</td>\n",
       "      <td>L</td>\n",
       "    </tr>\n",
       "    <tr>\n",
       "      <th>4</th>\n",
       "      <td>Northwest</td>\n",
       "      <td>BRFSS Region</td>\n",
       "      <td>2011 - 2015</td>\n",
       "      <td>15067</td>\n",
       "      <td>108.16</td>\n",
       "      <td>106.43</td>\n",
       "      <td>109.89</td>\n",
       "      <td>N/S</td>\n",
       "    </tr>\n",
       "    <tr>\n",
       "      <th>...</th>\n",
       "      <td>...</td>\n",
       "      <td>...</td>\n",
       "      <td>...</td>\n",
       "      <td>...</td>\n",
       "      <td>...</td>\n",
       "      <td>...</td>\n",
       "      <td>...</td>\n",
       "      <td>...</td>\n",
       "    </tr>\n",
       "    <tr>\n",
       "      <th>150</th>\n",
       "      <td>Washington</td>\n",
       "      <td>County</td>\n",
       "      <td>2011 - 2015</td>\n",
       "      <td>2181</td>\n",
       "      <td>149.54</td>\n",
       "      <td>143.26</td>\n",
       "      <td>155.82</td>\n",
       "      <td>H</td>\n",
       "    </tr>\n",
       "    <tr>\n",
       "      <th>151</th>\n",
       "      <td>Wayne</td>\n",
       "      <td>County</td>\n",
       "      <td>2011 - 2015</td>\n",
       "      <td>1514</td>\n",
       "      <td>155.74</td>\n",
       "      <td>147.89</td>\n",
       "      <td>163.59</td>\n",
       "      <td>H</td>\n",
       "    </tr>\n",
       "    <tr>\n",
       "      <th>152</th>\n",
       "      <td>Webster</td>\n",
       "      <td>County</td>\n",
       "      <td>2011 - 2015</td>\n",
       "      <td>2125</td>\n",
       "      <td>105.49</td>\n",
       "      <td>101.00</td>\n",
       "      <td>109.98</td>\n",
       "      <td>N/S</td>\n",
       "    </tr>\n",
       "    <tr>\n",
       "      <th>153</th>\n",
       "      <td>Worth</td>\n",
       "      <td>County</td>\n",
       "      <td>2011 - 2015</td>\n",
       "      <td>137</td>\n",
       "      <td>81.55</td>\n",
       "      <td>68.47</td>\n",
       "      <td>96.41</td>\n",
       "      <td>L</td>\n",
       "    </tr>\n",
       "    <tr>\n",
       "      <th>154</th>\n",
       "      <td>Wright</td>\n",
       "      <td>County</td>\n",
       "      <td>2011 - 2015</td>\n",
       "      <td>1405</td>\n",
       "      <td>115.23</td>\n",
       "      <td>109.20</td>\n",
       "      <td>121.26</td>\n",
       "      <td>N/S</td>\n",
       "    </tr>\n",
       "  </tbody>\n",
       "</table>\n",
       "<p>155 rows × 8 columns</p>\n",
       "</div>"
      ],
      "text/plain": [
       "             Geography Geography Type   Data Years   Count    Rate  \\\n",
       "0             Missouri      Statewide  2011 - 2015  384331  109.46   \n",
       "1              Central   BRFSS Region  2011 - 2015   41441  103.88   \n",
       "2    Kansas City Metro   BRFSS Region  2011 - 2015   76109  115.51   \n",
       "3            Northeast   BRFSS Region  2011 - 2015   17452  105.14   \n",
       "4            Northwest   BRFSS Region  2011 - 2015   15067  108.16   \n",
       "..                 ...            ...          ...     ...     ...   \n",
       "150         Washington         County  2011 - 2015    2181  149.54   \n",
       "151              Wayne         County  2011 - 2015    1514  155.74   \n",
       "152            Webster         County  2011 - 2015    2125  105.49   \n",
       "153              Worth         County  2011 - 2015     137   81.55   \n",
       "154             Wright         County  2011 - 2015    1405  115.23   \n",
       "\n",
       "     Lower 95% Confidence Limit  Upper 95% Confidence Limit  \\\n",
       "0                        109.11                      109.81   \n",
       "1                        102.88                      104.88   \n",
       "2                        114.69                      116.33   \n",
       "3                        103.58                      106.70   \n",
       "4                        106.43                      109.89   \n",
       "..                          ...                         ...   \n",
       "150                      143.26                      155.82   \n",
       "151                      147.89                      163.59   \n",
       "152                      101.00                      109.98   \n",
       "153                       68.47                       96.41   \n",
       "154                      109.20                      121.26   \n",
       "\n",
       "    Significantly Different  \n",
       "0                       NaN  \n",
       "1                         L  \n",
       "2                         H  \n",
       "3                         L  \n",
       "4                       N/S  \n",
       "..                      ...  \n",
       "150                       H  \n",
       "151                       H  \n",
       "152                     N/S  \n",
       "153                       L  \n",
       "154                     N/S  \n",
       "\n",
       "[155 rows x 8 columns]"
      ]
     },
     "execution_count": 15,
     "metadata": {},
     "output_type": "execute_result"
    }
   ],
   "source": [
    "# data: hospitalizations discharges with a principal diagnosis of heart disease\n",
    "    hd_discharge = InputModule('excel')\n",
    "    hd_discharge.readfiles('hospitalization_data.xlsx')"
   ]
  },
  {
   "cell_type": "code",
   "execution_count": 16,
   "metadata": {
    "id": "XvrAeUWZ3lZP"
   },
   "outputs": [],
   "source": [
    "# transform data columns and filter data\n",
    "    hd_data.formatDataFrame('Heart Disease')\n",
    "    hdm_data.formatDataFrame('HD Mortality')\n",
    "    erv_data.formatDataFrame('HD Emergency Room Visits')\n",
    "    hd_discharge.formatDataFrame('HD Hospitalizations')"
   ]
  },
  {
   "cell_type": "code",
   "execution_count": 17,
   "metadata": {
    "id": "vnpZWP2k3lZR"
   },
   "outputs": [],
   "source": [
    "from functools import reduce"
   ]
  },
  {
   "cell_type": "code",
   "execution_count": 18,
   "metadata": {
    "id": "Dp-1caO33lZS"
   },
   "outputs": [],
   "source": [
    "# Merge data\n",
    "hdmc_data = reduce(lambda x,y: pd.merge(x,y, on=[\"Geography\", \"Geography Type\"], how='left'), [hdm_data.getDataFrame(),\n",
    "                                                                                                hd_data.getDataFrame(),\n",
    "                                                                                                erv_data.getDataFrame(),\n",
    "                                                                                                hd_discharge.getDataFrame()])"
   ]
  },
  {
   "cell_type": "code",
   "execution_count": 19,
   "metadata": {
    "colab": {
     "base_uri": "https://localhost:8080/"
    },
    "id": "y4WWvyqE3lZS",
    "outputId": "0b013672-d7b5-4b6c-f266-c7afd660e685"
   },
   "outputs": [
    {
     "data": {
      "text/plain": [
       "2"
      ]
     },
     "execution_count": 19,
     "metadata": {},
     "output_type": "execute_result"
    }
   ],
   "source": [
    "#Retrieve personal income data from website\n",
    "pcpi= pd.read_html('https://meric.mo.gov/data/income-measures/county-per-capita-personal-income', header = 1)\n",
    "len(pcpi)"
   ]
  },
  {
   "cell_type": "code",
   "execution_count": 20,
   "metadata": {
    "id": "yoR-rW1k3lZT"
   },
   "outputs": [],
   "source": [
    "pcpi1 = pcpi[1]"
   ]
  },
  {
   "cell_type": "code",
   "execution_count": 21,
   "metadata": {
    "colab": {
     "base_uri": "https://localhost:8080/"
    },
    "id": "nz5p7Gh43lZU",
    "outputId": "2d889276-b64b-475e-bf1d-4dfb8ca9a6a0"
   },
   "outputs": [
    {
     "name": "stderr",
     "output_type": "stream",
     "text": [
      "/opt/tljh/user/lib/python3.6/site-packages/ipykernel_launcher.py:5: SettingWithCopyWarning: \n",
      "A value is trying to be set on a copy of a slice from a DataFrame.\n",
      "Try using .loc[row_indexer,col_indexer] = value instead\n",
      "\n",
      "See the caveats in the documentation: https://pandas.pydata.org/pandas-docs/stable/user_guide/indexing.html#returning-a-view-versus-a-copy\n",
      "  \"\"\"\n"
     ]
    }
   ],
   "source": [
    "# reshape dataframe\n",
    "pi1 = pcpi1[pcpi1.columns[0:3]]\n",
    "pi2 = pcpi1[pcpi1.columns[5:8]]\n",
    "pi2.columns = pi1.columns\n",
    "pi2['Area'] = pi2['Area'].replace(['St. Louis', 'St. Louis City'], ['St. Louis City', 'St. Louis County'])"
   ]
  },
  {
   "cell_type": "code",
   "execution_count": 22,
   "metadata": {
    "id": "9yqQYX6D3lZV"
   },
   "outputs": [],
   "source": [
    "pi = pi1.append(pi2)\n",
    "pi.columns = ['Geography', '2016 Per Capita Income', '2017 Per Capita Income']"
   ]
  },
  {
   "cell_type": "code",
   "execution_count": 23,
   "metadata": {
    "id": "kF8sjoxi3lZV"
   },
   "outputs": [],
   "source": [
    "# Convert income data to numeric and append to heart disease mortality dataframe.\n",
    "pi['2016 Per Capita Income'] = pi['2016 Per Capita Income'].str[1:].str.replace(',', '').astype(float)\n",
    "pi['2017 Per Capita Income'] = pi['2017 Per Capita Income'].str[1:].str.replace(',', '').astype(float)\n",
    "hdmc_data['2016 Per Capita Income'] = pi['2016 Per Capita Income'].values\n",
    "hdmc_data['2017 Per Capita Income'] = pi['2017 Per Capita Income'].values"
   ]
  },
  {
   "cell_type": "code",
   "execution_count": 24,
   "metadata": {
    "colab": {
     "base_uri": "https://localhost:8080/"
    },
    "id": "mfwjTdvA3lZW",
    "outputId": "35e97216-e638-4bff-ff6c-fa080be98942"
   },
   "outputs": [
    {
     "data": {
      "text/plain": [
       "1"
      ]
     },
     "execution_count": 24,
     "metadata": {},
     "output_type": "execute_result"
    }
   ],
   "source": [
    "# Retrieve county land area data\n",
    "lands = pd.read_html('https://www.indexmundi.com/facts/united-states/quick-facts/missouri/land-area#table')\n",
    "len(lands)"
   ]
  },
  {
   "cell_type": "code",
   "execution_count": 25,
   "metadata": {
    "id": "kMDOO3fP3lZX"
   },
   "outputs": [],
   "source": [
    "# Manipulate land area data: change data columns name, add Missouri land area data to first row, sort data by county names.\n",
    "land = lands[0]\n",
    "land.columns= ['Geography', 'Area']\n",
    "new_row = pd.DataFrame({'Geography':'Missouri', 'Area': 68741.52}, index = [0])\n",
    "land = pd.concat([new_row, land]).reset_index(drop = True)\n",
    "land.iloc[101,0] = 'St. Louis county'\n",
    "land = land.sort_values(by ='Geography')"
   ]
  },
  {
   "cell_type": "code",
   "execution_count": 26,
   "metadata": {
    "colab": {
     "base_uri": "https://localhost:8080/"
    },
    "id": "D5aLxBxA3lZZ",
    "outputId": "4972b7aa-d9fe-4b3b-dec0-bc1c5b78014d"
   },
   "outputs": [
    {
     "data": {
      "text/plain": [
       "Index(['Geography', 'Geography Type', 'Data Years_x', 'HD Mortality_Count',\n",
       "       'HD Mortality_Rate', 'Data Years_y',\n",
       "       'Heart Disease_Population Estimate', 'Heart Disease_Weighted Percent',\n",
       "       'Data Years_x', 'HD Emergency Room Visits_Count',\n",
       "       'HD Emergency Room Visits_Rate', 'Data Years_y',\n",
       "       'HD Hospitalizations_Count', 'HD Hospitalizations_Rate',\n",
       "       '2016 Per Capita Income', '2017 Per Capita Income'],\n",
       "      dtype='object')"
      ]
     },
     "execution_count": 26,
     "metadata": {},
     "output_type": "execute_result"
    }
   ],
   "source": [
    "hdmc_data.columns"
   ]
  },
  {
   "cell_type": "markdown",
   "metadata": {
    "id": "ngSzjyTQ3lZa"
   },
   "source": [
    "####  Risk factors for heart disease\n",
    "To read heart disease risk factors data from local files - data downloaded from Missouri Public Health Information Management System. The data include Risk Factors for Heart Disease Among Adults 18 Years and Older.\n",
    "<br>\n"
   ]
  },
  {
   "cell_type": "code",
   "execution_count": 27,
   "metadata": {},
   "outputs": [
    {
     "name": "stderr",
     "output_type": "stream",
     "text": [
      "/opt/tljh/user/lib/python3.6/site-packages/ipykernel_launcher.py:15: ParserWarning: Falling back to the 'python' engine because the 'c' engine does not support skipfooter; you can avoid this warning by specifying engine='python'.\n",
      "  from ipykernel import kernelapp as app\n"
     ]
    },
    {
     "data": {
      "text/html": [
       "<div>\n",
       "<style scoped>\n",
       "    .dataframe tbody tr th:only-of-type {\n",
       "        vertical-align: middle;\n",
       "    }\n",
       "\n",
       "    .dataframe tbody tr th {\n",
       "        vertical-align: top;\n",
       "    }\n",
       "\n",
       "    .dataframe thead th {\n",
       "        text-align: right;\n",
       "    }\n",
       "</style>\n",
       "<table border=\"1\" class=\"dataframe\">\n",
       "  <thead>\n",
       "    <tr style=\"text-align: right;\">\n",
       "      <th></th>\n",
       "      <th>Geography</th>\n",
       "      <th>Geography Type</th>\n",
       "      <th>Data Years</th>\n",
       "      <th>Population Estimate</th>\n",
       "      <th>Weighted Percent</th>\n",
       "      <th>Lower 95% Confidence Limit</th>\n",
       "      <th>Upper 95% Confidence Limit</th>\n",
       "      <th>Significantly Different</th>\n",
       "    </tr>\n",
       "  </thead>\n",
       "  <tbody>\n",
       "    <tr>\n",
       "      <th>0</th>\n",
       "      <td>Missouri</td>\n",
       "      <td>Statewide</td>\n",
       "      <td>2016</td>\n",
       "      <td>1,590,674</td>\n",
       "      <td>33.8</td>\n",
       "      <td>32.9</td>\n",
       "      <td>34.8</td>\n",
       "      <td>NaN</td>\n",
       "    </tr>\n",
       "    <tr>\n",
       "      <th>1</th>\n",
       "      <td>Central</td>\n",
       "      <td>BRFSS Region</td>\n",
       "      <td>2016</td>\n",
       "      <td>185,172</td>\n",
       "      <td>32.8</td>\n",
       "      <td>31.0</td>\n",
       "      <td>34.6</td>\n",
       "      <td>N/S</td>\n",
       "    </tr>\n",
       "    <tr>\n",
       "      <th>2</th>\n",
       "      <td>Kansas City Metro</td>\n",
       "      <td>BRFSS Region</td>\n",
       "      <td>2016</td>\n",
       "      <td>313,842</td>\n",
       "      <td>33.5</td>\n",
       "      <td>30.4</td>\n",
       "      <td>36.6</td>\n",
       "      <td>N/S</td>\n",
       "    </tr>\n",
       "    <tr>\n",
       "      <th>3</th>\n",
       "      <td>Northeast</td>\n",
       "      <td>BRFSS Region</td>\n",
       "      <td>2016</td>\n",
       "      <td>69,617</td>\n",
       "      <td>35.8</td>\n",
       "      <td>33.8</td>\n",
       "      <td>37.8</td>\n",
       "      <td>N/S</td>\n",
       "    </tr>\n",
       "    <tr>\n",
       "      <th>4</th>\n",
       "      <td>Northwest</td>\n",
       "      <td>BRFSS Region</td>\n",
       "      <td>2016</td>\n",
       "      <td>60,439</td>\n",
       "      <td>32.2</td>\n",
       "      <td>29.2</td>\n",
       "      <td>35.3</td>\n",
       "      <td>N/S</td>\n",
       "    </tr>\n",
       "    <tr>\n",
       "      <th>...</th>\n",
       "      <td>...</td>\n",
       "      <td>...</td>\n",
       "      <td>...</td>\n",
       "      <td>...</td>\n",
       "      <td>...</td>\n",
       "      <td>...</td>\n",
       "      <td>...</td>\n",
       "      <td>...</td>\n",
       "    </tr>\n",
       "    <tr>\n",
       "      <th>118</th>\n",
       "      <td>Washington</td>\n",
       "      <td>County</td>\n",
       "      <td>2016</td>\n",
       "      <td>8,260</td>\n",
       "      <td>43.2</td>\n",
       "      <td>36.3</td>\n",
       "      <td>50.0</td>\n",
       "      <td>H</td>\n",
       "    </tr>\n",
       "    <tr>\n",
       "      <th>119</th>\n",
       "      <td>Wayne</td>\n",
       "      <td>County</td>\n",
       "      <td>2016</td>\n",
       "      <td>5,141</td>\n",
       "      <td>49.2</td>\n",
       "      <td>42.0</td>\n",
       "      <td>56.4</td>\n",
       "      <td>H</td>\n",
       "    </tr>\n",
       "    <tr>\n",
       "      <th>120</th>\n",
       "      <td>Webster</td>\n",
       "      <td>County</td>\n",
       "      <td>2016</td>\n",
       "      <td>9,832</td>\n",
       "      <td>35.4</td>\n",
       "      <td>29.0</td>\n",
       "      <td>41.7</td>\n",
       "      <td>N/S</td>\n",
       "    </tr>\n",
       "    <tr>\n",
       "      <th>121</th>\n",
       "      <td>Worth</td>\n",
       "      <td>County</td>\n",
       "      <td>2016</td>\n",
       "      <td>728</td>\n",
       "      <td>45.1</td>\n",
       "      <td>33.8</td>\n",
       "      <td>56.5</td>\n",
       "      <td>N/S</td>\n",
       "    </tr>\n",
       "    <tr>\n",
       "      <th>122</th>\n",
       "      <td>Wright</td>\n",
       "      <td>County</td>\n",
       "      <td>2016</td>\n",
       "      <td>5,281</td>\n",
       "      <td>38.7</td>\n",
       "      <td>32.2</td>\n",
       "      <td>45.2</td>\n",
       "      <td>N/S</td>\n",
       "    </tr>\n",
       "  </tbody>\n",
       "</table>\n",
       "<p>123 rows × 8 columns</p>\n",
       "</div>"
      ],
      "text/plain": [
       "             Geography Geography Type  Data Years Population Estimate  \\\n",
       "0             Missouri      Statewide        2016           1,590,674   \n",
       "1              Central   BRFSS Region        2016             185,172   \n",
       "2    Kansas City Metro   BRFSS Region        2016             313,842   \n",
       "3            Northeast   BRFSS Region        2016              69,617   \n",
       "4            Northwest   BRFSS Region        2016              60,439   \n",
       "..                 ...            ...         ...                 ...   \n",
       "118         Washington         County        2016               8,260   \n",
       "119              Wayne         County        2016               5,141   \n",
       "120            Webster         County        2016               9,832   \n",
       "121              Worth         County        2016                 728   \n",
       "122             Wright         County        2016               5,281   \n",
       "\n",
       "     Weighted Percent  Lower 95% Confidence Limit  Upper 95% Confidence Limit  \\\n",
       "0                33.8                        32.9                        34.8   \n",
       "1                32.8                        31.0                        34.6   \n",
       "2                33.5                        30.4                        36.6   \n",
       "3                35.8                        33.8                        37.8   \n",
       "4                32.2                        29.2                        35.3   \n",
       "..                ...                         ...                         ...   \n",
       "118              43.2                        36.3                        50.0   \n",
       "119              49.2                        42.0                        56.4   \n",
       "120              35.4                        29.0                        41.7   \n",
       "121              45.1                        33.8                        56.5   \n",
       "122              38.7                        32.2                        45.2   \n",
       "\n",
       "    Significantly Different  \n",
       "0                       NaN  \n",
       "1                       N/S  \n",
       "2                       N/S  \n",
       "3                       N/S  \n",
       "4                       N/S  \n",
       "..                      ...  \n",
       "118                       H  \n",
       "119                       H  \n",
       "120                     N/S  \n",
       "121                     N/S  \n",
       "122                     N/S  \n",
       "\n",
       "[123 rows x 8 columns]"
      ]
     },
     "execution_count": 27,
     "metadata": {},
     "output_type": "execute_result"
    }
   ],
   "source": [
    "# read adults 18 years and older with high blood pressure data by using readfiles function\n",
    "high_bp = InputModule('csv')\n",
    "high_bp.readfiles('blood pressure.csv')"
   ]
  },
  {
   "cell_type": "code",
   "execution_count": 28,
   "metadata": {},
   "outputs": [
    {
     "data": {
      "text/html": [
       "<div>\n",
       "<style scoped>\n",
       "    .dataframe tbody tr th:only-of-type {\n",
       "        vertical-align: middle;\n",
       "    }\n",
       "\n",
       "    .dataframe tbody tr th {\n",
       "        vertical-align: top;\n",
       "    }\n",
       "\n",
       "    .dataframe thead th {\n",
       "        text-align: right;\n",
       "    }\n",
       "</style>\n",
       "<table border=\"1\" class=\"dataframe\">\n",
       "  <thead>\n",
       "    <tr style=\"text-align: right;\">\n",
       "      <th></th>\n",
       "      <th>Geography</th>\n",
       "      <th>Geography Type</th>\n",
       "      <th>Data Years</th>\n",
       "      <th>Population Estimate</th>\n",
       "      <th>Weighted Percent</th>\n",
       "      <th>Lower 95% Confidence Limit</th>\n",
       "      <th>Upper 95% Confidence Limit</th>\n",
       "      <th>Significantly Different</th>\n",
       "    </tr>\n",
       "  </thead>\n",
       "  <tbody>\n",
       "    <tr>\n",
       "      <th>0</th>\n",
       "      <td>Missouri</td>\n",
       "      <td>Statewide</td>\n",
       "      <td>2016</td>\n",
       "      <td>1661266</td>\n",
       "      <td>35.3</td>\n",
       "      <td>34.1</td>\n",
       "      <td>36.4</td>\n",
       "      <td>NaN</td>\n",
       "    </tr>\n",
       "    <tr>\n",
       "      <th>1</th>\n",
       "      <td>Central</td>\n",
       "      <td>BRFSS Region</td>\n",
       "      <td>2016</td>\n",
       "      <td>193076</td>\n",
       "      <td>34.2</td>\n",
       "      <td>32.2</td>\n",
       "      <td>36.2</td>\n",
       "      <td>N/S</td>\n",
       "    </tr>\n",
       "    <tr>\n",
       "      <th>2</th>\n",
       "      <td>Kansas City Metro</td>\n",
       "      <td>BRFSS Region</td>\n",
       "      <td>2016</td>\n",
       "      <td>352252</td>\n",
       "      <td>37.6</td>\n",
       "      <td>33.9</td>\n",
       "      <td>41.3</td>\n",
       "      <td>N/S</td>\n",
       "    </tr>\n",
       "    <tr>\n",
       "      <th>3</th>\n",
       "      <td>Northeast</td>\n",
       "      <td>BRFSS Region</td>\n",
       "      <td>2016</td>\n",
       "      <td>71173</td>\n",
       "      <td>36.6</td>\n",
       "      <td>34.3</td>\n",
       "      <td>38.9</td>\n",
       "      <td>N/S</td>\n",
       "    </tr>\n",
       "    <tr>\n",
       "      <th>4</th>\n",
       "      <td>Northwest</td>\n",
       "      <td>BRFSS Region</td>\n",
       "      <td>2016</td>\n",
       "      <td>60815</td>\n",
       "      <td>32.4</td>\n",
       "      <td>29.1</td>\n",
       "      <td>35.7</td>\n",
       "      <td>N/S</td>\n",
       "    </tr>\n",
       "    <tr>\n",
       "      <th>...</th>\n",
       "      <td>...</td>\n",
       "      <td>...</td>\n",
       "      <td>...</td>\n",
       "      <td>...</td>\n",
       "      <td>...</td>\n",
       "      <td>...</td>\n",
       "      <td>...</td>\n",
       "      <td>...</td>\n",
       "    </tr>\n",
       "    <tr>\n",
       "      <th>118</th>\n",
       "      <td>Washington</td>\n",
       "      <td>County</td>\n",
       "      <td>2016</td>\n",
       "      <td>9818</td>\n",
       "      <td>51.3</td>\n",
       "      <td>43.7</td>\n",
       "      <td>59.0</td>\n",
       "      <td>H</td>\n",
       "    </tr>\n",
       "    <tr>\n",
       "      <th>119</th>\n",
       "      <td>Wayne</td>\n",
       "      <td>County</td>\n",
       "      <td>2016</td>\n",
       "      <td>4526</td>\n",
       "      <td>43.3</td>\n",
       "      <td>35.8</td>\n",
       "      <td>50.8</td>\n",
       "      <td>H</td>\n",
       "    </tr>\n",
       "    <tr>\n",
       "      <th>120</th>\n",
       "      <td>Webster</td>\n",
       "      <td>County</td>\n",
       "      <td>2016</td>\n",
       "      <td>9244</td>\n",
       "      <td>33.3</td>\n",
       "      <td>26.2</td>\n",
       "      <td>40.3</td>\n",
       "      <td>N/S</td>\n",
       "    </tr>\n",
       "    <tr>\n",
       "      <th>121</th>\n",
       "      <td>Worth</td>\n",
       "      <td>County</td>\n",
       "      <td>2016</td>\n",
       "      <td>647</td>\n",
       "      <td>40.1</td>\n",
       "      <td>28.7</td>\n",
       "      <td>51.5</td>\n",
       "      <td>N/S</td>\n",
       "    </tr>\n",
       "    <tr>\n",
       "      <th>122</th>\n",
       "      <td>Wright</td>\n",
       "      <td>County</td>\n",
       "      <td>2016</td>\n",
       "      <td>5424</td>\n",
       "      <td>39.8</td>\n",
       "      <td>32.7</td>\n",
       "      <td>46.8</td>\n",
       "      <td>N/S</td>\n",
       "    </tr>\n",
       "  </tbody>\n",
       "</table>\n",
       "<p>123 rows × 8 columns</p>\n",
       "</div>"
      ],
      "text/plain": [
       "             Geography Geography Type  Data Years  Population Estimate  \\\n",
       "0             Missouri      Statewide        2016              1661266   \n",
       "1              Central   BRFSS Region        2016               193076   \n",
       "2    Kansas City Metro   BRFSS Region        2016               352252   \n",
       "3            Northeast   BRFSS Region        2016                71173   \n",
       "4            Northwest   BRFSS Region        2016                60815   \n",
       "..                 ...            ...         ...                  ...   \n",
       "118         Washington         County        2016                 9818   \n",
       "119              Wayne         County        2016                 4526   \n",
       "120            Webster         County        2016                 9244   \n",
       "121              Worth         County        2016                  647   \n",
       "122             Wright         County        2016                 5424   \n",
       "\n",
       "     Weighted Percent  Lower 95% Confidence Limit  Upper 95% Confidence Limit  \\\n",
       "0                35.3                        34.1                        36.4   \n",
       "1                34.2                        32.2                        36.2   \n",
       "2                37.6                        33.9                        41.3   \n",
       "3                36.6                        34.3                        38.9   \n",
       "4                32.4                        29.1                        35.7   \n",
       "..                ...                         ...                         ...   \n",
       "118              51.3                        43.7                        59.0   \n",
       "119              43.3                        35.8                        50.8   \n",
       "120              33.3                        26.2                        40.3   \n",
       "121              40.1                        28.7                        51.5   \n",
       "122              39.8                        32.7                        46.8   \n",
       "\n",
       "    Significantly Different  \n",
       "0                       NaN  \n",
       "1                       N/S  \n",
       "2                       N/S  \n",
       "3                       N/S  \n",
       "4                       N/S  \n",
       "..                      ...  \n",
       "118                       H  \n",
       "119                       H  \n",
       "120                     N/S  \n",
       "121                     N/S  \n",
       "122                     N/S  \n",
       "\n",
       "[123 rows x 8 columns]"
      ]
     },
     "execution_count": 28,
     "metadata": {},
     "output_type": "execute_result"
    }
   ],
   "source": [
    "# read high cholesterol data\n",
    "high_chol = InputModule('excel')\n",
    "high_chol.readfiles('high_cholestrol_data.xlsx')"
   ]
  },
  {
   "cell_type": "code",
   "execution_count": 29,
   "metadata": {
    "id": "SZtP5z0W3lZc"
   },
   "outputs": [
    {
     "data": {
      "text/html": [
       "<div>\n",
       "<style scoped>\n",
       "    .dataframe tbody tr th:only-of-type {\n",
       "        vertical-align: middle;\n",
       "    }\n",
       "\n",
       "    .dataframe tbody tr th {\n",
       "        vertical-align: top;\n",
       "    }\n",
       "\n",
       "    .dataframe thead th {\n",
       "        text-align: right;\n",
       "    }\n",
       "</style>\n",
       "<table border=\"1\" class=\"dataframe\">\n",
       "  <thead>\n",
       "    <tr style=\"text-align: right;\">\n",
       "      <th></th>\n",
       "      <th>Geography</th>\n",
       "      <th>Geography Type</th>\n",
       "      <th>Data Years</th>\n",
       "      <th>Population Estimate</th>\n",
       "      <th>Weighted Percent</th>\n",
       "      <th>Lower 95% Confidence Limit</th>\n",
       "      <th>Upper 95% Confidence Limit</th>\n",
       "      <th>Significantly Different</th>\n",
       "    </tr>\n",
       "  </thead>\n",
       "  <tbody>\n",
       "    <tr>\n",
       "      <th>0</th>\n",
       "      <td>Missouri</td>\n",
       "      <td>Statewide</td>\n",
       "      <td>2016</td>\n",
       "      <td>1035350</td>\n",
       "      <td>22.0</td>\n",
       "      <td>21.1</td>\n",
       "      <td>22.9</td>\n",
       "      <td>NaN</td>\n",
       "    </tr>\n",
       "    <tr>\n",
       "      <th>1</th>\n",
       "      <td>Central</td>\n",
       "      <td>BRFSS Region</td>\n",
       "      <td>2016</td>\n",
       "      <td>120813</td>\n",
       "      <td>21.4</td>\n",
       "      <td>19.7</td>\n",
       "      <td>23.1</td>\n",
       "      <td>N/S</td>\n",
       "    </tr>\n",
       "    <tr>\n",
       "      <th>2</th>\n",
       "      <td>Kansas City Metro</td>\n",
       "      <td>BRFSS Region</td>\n",
       "      <td>2016</td>\n",
       "      <td>208916</td>\n",
       "      <td>22.3</td>\n",
       "      <td>19.4</td>\n",
       "      <td>25.2</td>\n",
       "      <td>N/S</td>\n",
       "    </tr>\n",
       "    <tr>\n",
       "      <th>3</th>\n",
       "      <td>Northeast</td>\n",
       "      <td>BRFSS Region</td>\n",
       "      <td>2016</td>\n",
       "      <td>47837</td>\n",
       "      <td>24.6</td>\n",
       "      <td>22.5</td>\n",
       "      <td>26.7</td>\n",
       "      <td>H</td>\n",
       "    </tr>\n",
       "    <tr>\n",
       "      <th>4</th>\n",
       "      <td>Northwest</td>\n",
       "      <td>BRFSS Region</td>\n",
       "      <td>2016</td>\n",
       "      <td>42608</td>\n",
       "      <td>22.7</td>\n",
       "      <td>19.8</td>\n",
       "      <td>25.6</td>\n",
       "      <td>N/S</td>\n",
       "    </tr>\n",
       "    <tr>\n",
       "      <th>...</th>\n",
       "      <td>...</td>\n",
       "      <td>...</td>\n",
       "      <td>...</td>\n",
       "      <td>...</td>\n",
       "      <td>...</td>\n",
       "      <td>...</td>\n",
       "      <td>...</td>\n",
       "      <td>...</td>\n",
       "    </tr>\n",
       "    <tr>\n",
       "      <th>115</th>\n",
       "      <td>Texas</td>\n",
       "      <td>County</td>\n",
       "      <td>2016</td>\n",
       "      <td>5558</td>\n",
       "      <td>27.5</td>\n",
       "      <td>21.0</td>\n",
       "      <td>34.1</td>\n",
       "      <td>N/S</td>\n",
       "    </tr>\n",
       "    <tr>\n",
       "      <th>116</th>\n",
       "      <td>Vernon</td>\n",
       "      <td>County</td>\n",
       "      <td>2016</td>\n",
       "      <td>4369</td>\n",
       "      <td>27.8</td>\n",
       "      <td>21.5</td>\n",
       "      <td>34.1</td>\n",
       "      <td>N/S</td>\n",
       "    </tr>\n",
       "    <tr>\n",
       "      <th>117</th>\n",
       "      <td>Warren</td>\n",
       "      <td>County</td>\n",
       "      <td>2016</td>\n",
       "      <td>5916</td>\n",
       "      <td>23.1</td>\n",
       "      <td>16.8</td>\n",
       "      <td>29.4</td>\n",
       "      <td>N/S</td>\n",
       "    </tr>\n",
       "    <tr>\n",
       "      <th>118</th>\n",
       "      <td>Washington</td>\n",
       "      <td>County</td>\n",
       "      <td>2016</td>\n",
       "      <td>6767</td>\n",
       "      <td>35.4</td>\n",
       "      <td>28.1</td>\n",
       "      <td>42.6</td>\n",
       "      <td>H</td>\n",
       "    </tr>\n",
       "    <tr>\n",
       "      <th>119</th>\n",
       "      <td>Wayne</td>\n",
       "      <td>County</td>\n",
       "      <td>2016</td>\n",
       "      <td>2848</td>\n",
       "      <td>27.2</td>\n",
       "      <td>20.2</td>\n",
       "      <td>34.3</td>\n",
       "      <td>N/S</td>\n",
       "    </tr>\n",
       "  </tbody>\n",
       "</table>\n",
       "<p>120 rows × 8 columns</p>\n",
       "</div>"
      ],
      "text/plain": [
       "             Geography Geography Type  Data Years  Population Estimate  \\\n",
       "0             Missouri      Statewide        2016              1035350   \n",
       "1              Central   BRFSS Region        2016               120813   \n",
       "2    Kansas City Metro   BRFSS Region        2016               208916   \n",
       "3            Northeast   BRFSS Region        2016                47837   \n",
       "4            Northwest   BRFSS Region        2016                42608   \n",
       "..                 ...            ...         ...                  ...   \n",
       "115              Texas         County        2016                 5558   \n",
       "116             Vernon         County        2016                 4369   \n",
       "117             Warren         County        2016                 5916   \n",
       "118         Washington         County        2016                 6767   \n",
       "119              Wayne         County        2016                 2848   \n",
       "\n",
       "     Weighted Percent  Lower 95% Confidence Limit  Upper 95% Confidence Limit  \\\n",
       "0                22.0                        21.1                        22.9   \n",
       "1                21.4                        19.7                        23.1   \n",
       "2                22.3                        19.4                        25.2   \n",
       "3                24.6                        22.5                        26.7   \n",
       "4                22.7                        19.8                        25.6   \n",
       "..                ...                         ...                         ...   \n",
       "115              27.5                        21.0                        34.1   \n",
       "116              27.8                        21.5                        34.1   \n",
       "117              23.1                        16.8                        29.4   \n",
       "118              35.4                        28.1                        42.6   \n",
       "119              27.2                        20.2                        34.3   \n",
       "\n",
       "    Significantly Different  \n",
       "0                       NaN  \n",
       "1                       N/S  \n",
       "2                       N/S  \n",
       "3                         H  \n",
       "4                       N/S  \n",
       "..                      ...  \n",
       "115                     N/S  \n",
       "116                     N/S  \n",
       "117                     N/S  \n",
       "118                       H  \n",
       "119                     N/S  \n",
       "\n",
       "[120 rows x 8 columns]"
      ]
     },
     "execution_count": 29,
     "metadata": {},
     "output_type": "execute_result"
    }
   ],
   "source": [
    "# read current smoking data\n",
    "smoking = InputModule('excel')\n",
    "smoking.readfiles('current smoking.xlsx')"
   ]
  },
  {
   "cell_type": "code",
   "execution_count": 30,
   "metadata": {
    "id": "zn6DxmE13lZd"
   },
   "outputs": [
    {
     "data": {
      "text/html": [
       "<div>\n",
       "<style scoped>\n",
       "    .dataframe tbody tr th:only-of-type {\n",
       "        vertical-align: middle;\n",
       "    }\n",
       "\n",
       "    .dataframe tbody tr th {\n",
       "        vertical-align: top;\n",
       "    }\n",
       "\n",
       "    .dataframe thead th {\n",
       "        text-align: right;\n",
       "    }\n",
       "</style>\n",
       "<table border=\"1\" class=\"dataframe\">\n",
       "  <thead>\n",
       "    <tr style=\"text-align: right;\">\n",
       "      <th></th>\n",
       "      <th>Geography</th>\n",
       "      <th>Geography Type</th>\n",
       "      <th>Data Years</th>\n",
       "      <th>Population Estimate</th>\n",
       "      <th>Weighted Percent</th>\n",
       "      <th>Lower 95% Confidence Limit</th>\n",
       "      <th>Upper 95% Confidence Limit</th>\n",
       "      <th>Significantly Different</th>\n",
       "    </tr>\n",
       "  </thead>\n",
       "  <tbody>\n",
       "    <tr>\n",
       "      <th>0</th>\n",
       "      <td>Missouri</td>\n",
       "      <td>Statewide</td>\n",
       "      <td>2016</td>\n",
       "      <td>522381</td>\n",
       "      <td>11.1</td>\n",
       "      <td>10.5</td>\n",
       "      <td>11.7</td>\n",
       "      <td>NaN</td>\n",
       "    </tr>\n",
       "    <tr>\n",
       "      <th>1</th>\n",
       "      <td>Central</td>\n",
       "      <td>BRFSS Region</td>\n",
       "      <td>2016</td>\n",
       "      <td>53068</td>\n",
       "      <td>9.4</td>\n",
       "      <td>8.5</td>\n",
       "      <td>10.4</td>\n",
       "      <td>L</td>\n",
       "    </tr>\n",
       "    <tr>\n",
       "      <th>2</th>\n",
       "      <td>Kansas City Metro</td>\n",
       "      <td>BRFSS Region</td>\n",
       "      <td>2016</td>\n",
       "      <td>113358</td>\n",
       "      <td>12.1</td>\n",
       "      <td>9.9</td>\n",
       "      <td>14.3</td>\n",
       "      <td>N/S</td>\n",
       "    </tr>\n",
       "    <tr>\n",
       "      <th>3</th>\n",
       "      <td>Northeast</td>\n",
       "      <td>BRFSS Region</td>\n",
       "      <td>2016</td>\n",
       "      <td>24697</td>\n",
       "      <td>12.7</td>\n",
       "      <td>11.4</td>\n",
       "      <td>14.1</td>\n",
       "      <td>H</td>\n",
       "    </tr>\n",
       "    <tr>\n",
       "      <th>4</th>\n",
       "      <td>Northwest</td>\n",
       "      <td>BRFSS Region</td>\n",
       "      <td>2016</td>\n",
       "      <td>17644</td>\n",
       "      <td>9.4</td>\n",
       "      <td>7.9</td>\n",
       "      <td>10.9</td>\n",
       "      <td>L</td>\n",
       "    </tr>\n",
       "    <tr>\n",
       "      <th>...</th>\n",
       "      <td>...</td>\n",
       "      <td>...</td>\n",
       "      <td>...</td>\n",
       "      <td>...</td>\n",
       "      <td>...</td>\n",
       "      <td>...</td>\n",
       "      <td>...</td>\n",
       "      <td>...</td>\n",
       "    </tr>\n",
       "    <tr>\n",
       "      <th>118</th>\n",
       "      <td>Washington</td>\n",
       "      <td>County</td>\n",
       "      <td>2016</td>\n",
       "      <td>2991</td>\n",
       "      <td>15.6</td>\n",
       "      <td>11.1</td>\n",
       "      <td>20.2</td>\n",
       "      <td>N/S</td>\n",
       "    </tr>\n",
       "    <tr>\n",
       "      <th>119</th>\n",
       "      <td>Wayne</td>\n",
       "      <td>County</td>\n",
       "      <td>2016</td>\n",
       "      <td>1701</td>\n",
       "      <td>16.3</td>\n",
       "      <td>11.1</td>\n",
       "      <td>21.4</td>\n",
       "      <td>N/S</td>\n",
       "    </tr>\n",
       "    <tr>\n",
       "      <th>120</th>\n",
       "      <td>Webster</td>\n",
       "      <td>County</td>\n",
       "      <td>2016</td>\n",
       "      <td>2386</td>\n",
       "      <td>8.6</td>\n",
       "      <td>5.6</td>\n",
       "      <td>11.5</td>\n",
       "      <td>N/S</td>\n",
       "    </tr>\n",
       "    <tr>\n",
       "      <th>121</th>\n",
       "      <td>Worth</td>\n",
       "      <td>County</td>\n",
       "      <td>2016</td>\n",
       "      <td>289</td>\n",
       "      <td>17.9</td>\n",
       "      <td>9.2</td>\n",
       "      <td>26.7</td>\n",
       "      <td>N/S</td>\n",
       "    </tr>\n",
       "    <tr>\n",
       "      <th>122</th>\n",
       "      <td>Wright</td>\n",
       "      <td>County</td>\n",
       "      <td>2016</td>\n",
       "      <td>1878</td>\n",
       "      <td>13.8</td>\n",
       "      <td>9.3</td>\n",
       "      <td>18.3</td>\n",
       "      <td>N/S</td>\n",
       "    </tr>\n",
       "  </tbody>\n",
       "</table>\n",
       "<p>123 rows × 8 columns</p>\n",
       "</div>"
      ],
      "text/plain": [
       "             Geography Geography Type  Data Years  Population Estimate  \\\n",
       "0             Missouri      Statewide        2016               522381   \n",
       "1              Central   BRFSS Region        2016                53068   \n",
       "2    Kansas City Metro   BRFSS Region        2016               113358   \n",
       "3            Northeast   BRFSS Region        2016                24697   \n",
       "4            Northwest   BRFSS Region        2016                17644   \n",
       "..                 ...            ...         ...                  ...   \n",
       "118         Washington         County        2016                 2991   \n",
       "119              Wayne         County        2016                 1701   \n",
       "120            Webster         County        2016                 2386   \n",
       "121              Worth         County        2016                  289   \n",
       "122             Wright         County        2016                 1878   \n",
       "\n",
       "     Weighted Percent  Lower 95% Confidence Limit  Upper 95% Confidence Limit  \\\n",
       "0                11.1                        10.5                        11.7   \n",
       "1                 9.4                         8.5                        10.4   \n",
       "2                12.1                         9.9                        14.3   \n",
       "3                12.7                        11.4                        14.1   \n",
       "4                 9.4                         7.9                        10.9   \n",
       "..                ...                         ...                         ...   \n",
       "118              15.6                        11.1                        20.2   \n",
       "119              16.3                        11.1                        21.4   \n",
       "120               8.6                         5.6                        11.5   \n",
       "121              17.9                         9.2                        26.7   \n",
       "122              13.8                         9.3                        18.3   \n",
       "\n",
       "    Significantly Different  \n",
       "0                       NaN  \n",
       "1                         L  \n",
       "2                       N/S  \n",
       "3                         H  \n",
       "4                         L  \n",
       "..                      ...  \n",
       "118                     N/S  \n",
       "119                     N/S  \n",
       "120                     N/S  \n",
       "121                     N/S  \n",
       "122                     N/S  \n",
       "\n",
       "[123 rows x 8 columns]"
      ]
     },
     "execution_count": 30,
     "metadata": {},
     "output_type": "execute_result"
    }
   ],
   "source": [
    "# read diabetes data\n",
    "diabetes = InputModule('excel')\n",
    "diabetes.readfiles('diabetes_data.xlsx')"
   ]
  },
  {
   "cell_type": "code",
   "execution_count": 31,
   "metadata": {
    "id": "7MYP2wX43lZg"
   },
   "outputs": [
    {
     "data": {
      "text/html": [
       "<div>\n",
       "<style scoped>\n",
       "    .dataframe tbody tr th:only-of-type {\n",
       "        vertical-align: middle;\n",
       "    }\n",
       "\n",
       "    .dataframe tbody tr th {\n",
       "        vertical-align: top;\n",
       "    }\n",
       "\n",
       "    .dataframe thead th {\n",
       "        text-align: right;\n",
       "    }\n",
       "</style>\n",
       "<table border=\"1\" class=\"dataframe\">\n",
       "  <thead>\n",
       "    <tr style=\"text-align: right;\">\n",
       "      <th></th>\n",
       "      <th>Geography</th>\n",
       "      <th>Geography Type</th>\n",
       "      <th>Data Years</th>\n",
       "      <th>Population Estimate</th>\n",
       "      <th>Weighted Percent</th>\n",
       "      <th>Lower 95% Confidence Limit</th>\n",
       "      <th>Upper 95% Confidence Limit</th>\n",
       "      <th>Significantly Different</th>\n",
       "    </tr>\n",
       "  </thead>\n",
       "  <tbody>\n",
       "    <tr>\n",
       "      <th>0</th>\n",
       "      <td>Missouri</td>\n",
       "      <td>Statewide</td>\n",
       "      <td>2016</td>\n",
       "      <td>1468315</td>\n",
       "      <td>31.2</td>\n",
       "      <td>30.1</td>\n",
       "      <td>32.2</td>\n",
       "      <td>NaN</td>\n",
       "    </tr>\n",
       "    <tr>\n",
       "      <th>1</th>\n",
       "      <td>Central</td>\n",
       "      <td>BRFSS Region</td>\n",
       "      <td>2016</td>\n",
       "      <td>181220</td>\n",
       "      <td>32.1</td>\n",
       "      <td>30.1</td>\n",
       "      <td>34.1</td>\n",
       "      <td>N/S</td>\n",
       "    </tr>\n",
       "    <tr>\n",
       "      <th>2</th>\n",
       "      <td>Kansas City Metro</td>\n",
       "      <td>BRFSS Region</td>\n",
       "      <td>2016</td>\n",
       "      <td>267937</td>\n",
       "      <td>28.6</td>\n",
       "      <td>25.4</td>\n",
       "      <td>31.9</td>\n",
       "      <td>N/S</td>\n",
       "    </tr>\n",
       "    <tr>\n",
       "      <th>3</th>\n",
       "      <td>Northeast</td>\n",
       "      <td>BRFSS Region</td>\n",
       "      <td>2016</td>\n",
       "      <td>65144</td>\n",
       "      <td>33.5</td>\n",
       "      <td>31.4</td>\n",
       "      <td>35.6</td>\n",
       "      <td>N/S</td>\n",
       "    </tr>\n",
       "    <tr>\n",
       "      <th>4</th>\n",
       "      <td>Northwest</td>\n",
       "      <td>BRFSS Region</td>\n",
       "      <td>2016</td>\n",
       "      <td>61941</td>\n",
       "      <td>33.0</td>\n",
       "      <td>29.6</td>\n",
       "      <td>36.4</td>\n",
       "      <td>N/S</td>\n",
       "    </tr>\n",
       "    <tr>\n",
       "      <th>...</th>\n",
       "      <td>...</td>\n",
       "      <td>...</td>\n",
       "      <td>...</td>\n",
       "      <td>...</td>\n",
       "      <td>...</td>\n",
       "      <td>...</td>\n",
       "      <td>...</td>\n",
       "      <td>...</td>\n",
       "    </tr>\n",
       "    <tr>\n",
       "      <th>118</th>\n",
       "      <td>Washington</td>\n",
       "      <td>County</td>\n",
       "      <td>2016</td>\n",
       "      <td>7971</td>\n",
       "      <td>41.7</td>\n",
       "      <td>34.4</td>\n",
       "      <td>48.9</td>\n",
       "      <td>H</td>\n",
       "    </tr>\n",
       "    <tr>\n",
       "      <th>119</th>\n",
       "      <td>Wayne</td>\n",
       "      <td>County</td>\n",
       "      <td>2016</td>\n",
       "      <td>3126</td>\n",
       "      <td>29.9</td>\n",
       "      <td>23.1</td>\n",
       "      <td>36.7</td>\n",
       "      <td>N/S</td>\n",
       "    </tr>\n",
       "    <tr>\n",
       "      <th>120</th>\n",
       "      <td>Webster</td>\n",
       "      <td>County</td>\n",
       "      <td>2016</td>\n",
       "      <td>8066</td>\n",
       "      <td>29.0</td>\n",
       "      <td>22.6</td>\n",
       "      <td>35.4</td>\n",
       "      <td>N/S</td>\n",
       "    </tr>\n",
       "    <tr>\n",
       "      <th>121</th>\n",
       "      <td>Worth</td>\n",
       "      <td>County</td>\n",
       "      <td>2016</td>\n",
       "      <td>496</td>\n",
       "      <td>30.7</td>\n",
       "      <td>19.8</td>\n",
       "      <td>41.6</td>\n",
       "      <td>N/S</td>\n",
       "    </tr>\n",
       "    <tr>\n",
       "      <th>122</th>\n",
       "      <td>Wright</td>\n",
       "      <td>County</td>\n",
       "      <td>2016</td>\n",
       "      <td>5205</td>\n",
       "      <td>38.2</td>\n",
       "      <td>31.1</td>\n",
       "      <td>45.2</td>\n",
       "      <td>N/S</td>\n",
       "    </tr>\n",
       "  </tbody>\n",
       "</table>\n",
       "<p>123 rows × 8 columns</p>\n",
       "</div>"
      ],
      "text/plain": [
       "             Geography Geography Type  Data Years  Population Estimate  \\\n",
       "0             Missouri      Statewide        2016              1468315   \n",
       "1              Central   BRFSS Region        2016               181220   \n",
       "2    Kansas City Metro   BRFSS Region        2016               267937   \n",
       "3            Northeast   BRFSS Region        2016                65144   \n",
       "4            Northwest   BRFSS Region        2016                61941   \n",
       "..                 ...            ...         ...                  ...   \n",
       "118         Washington         County        2016                 7971   \n",
       "119              Wayne         County        2016                 3126   \n",
       "120            Webster         County        2016                 8066   \n",
       "121              Worth         County        2016                  496   \n",
       "122             Wright         County        2016                 5205   \n",
       "\n",
       "     Weighted Percent  Lower 95% Confidence Limit  Upper 95% Confidence Limit  \\\n",
       "0                31.2                        30.1                        32.2   \n",
       "1                32.1                        30.1                        34.1   \n",
       "2                28.6                        25.4                        31.9   \n",
       "3                33.5                        31.4                        35.6   \n",
       "4                33.0                        29.6                        36.4   \n",
       "..                ...                         ...                         ...   \n",
       "118              41.7                        34.4                        48.9   \n",
       "119              29.9                        23.1                        36.7   \n",
       "120              29.0                        22.6                        35.4   \n",
       "121              30.7                        19.8                        41.6   \n",
       "122              38.2                        31.1                        45.2   \n",
       "\n",
       "    Significantly Different  \n",
       "0                       NaN  \n",
       "1                       N/S  \n",
       "2                       N/S  \n",
       "3                       N/S  \n",
       "4                       N/S  \n",
       "..                      ...  \n",
       "118                       H  \n",
       "119                     N/S  \n",
       "120                     N/S  \n",
       "121                     N/S  \n",
       "122                     N/S  \n",
       "\n",
       "[123 rows x 8 columns]"
      ]
     },
     "execution_count": 31,
     "metadata": {},
     "output_type": "execute_result"
    }
   ],
   "source": [
    "# read obesity data\n",
    "obesity = InputModule('excel')\n",
    "obesity.readfiles('obesity_data.xlsx')"
   ]
  },
  {
   "cell_type": "code",
   "execution_count": 32,
   "metadata": {
    "id": "Vh_Jt3gq3lZh"
   },
   "outputs": [
    {
     "data": {
      "text/html": [
       "<div>\n",
       "<style scoped>\n",
       "    .dataframe tbody tr th:only-of-type {\n",
       "        vertical-align: middle;\n",
       "    }\n",
       "\n",
       "    .dataframe tbody tr th {\n",
       "        vertical-align: top;\n",
       "    }\n",
       "\n",
       "    .dataframe thead th {\n",
       "        text-align: right;\n",
       "    }\n",
       "</style>\n",
       "<table border=\"1\" class=\"dataframe\">\n",
       "  <thead>\n",
       "    <tr style=\"text-align: right;\">\n",
       "      <th></th>\n",
       "      <th>Geography</th>\n",
       "      <th>Geography Type</th>\n",
       "      <th>Data Years</th>\n",
       "      <th>Population Estimate</th>\n",
       "      <th>Weighted Percent</th>\n",
       "      <th>Lower 95% Confidence Limit</th>\n",
       "      <th>Upper 95% Confidence Limit</th>\n",
       "      <th>Significantly Different</th>\n",
       "    </tr>\n",
       "  </thead>\n",
       "  <tbody>\n",
       "    <tr>\n",
       "      <th>0</th>\n",
       "      <td>Missouri</td>\n",
       "      <td>Statewide</td>\n",
       "      <td>2016</td>\n",
       "      <td>1656560</td>\n",
       "      <td>35.2</td>\n",
       "      <td>34.1</td>\n",
       "      <td>36.3</td>\n",
       "      <td>NaN</td>\n",
       "    </tr>\n",
       "    <tr>\n",
       "      <th>1</th>\n",
       "      <td>Central</td>\n",
       "      <td>BRFSS Region</td>\n",
       "      <td>2016</td>\n",
       "      <td>193076</td>\n",
       "      <td>34.2</td>\n",
       "      <td>32.2</td>\n",
       "      <td>36.2</td>\n",
       "      <td>N/S</td>\n",
       "    </tr>\n",
       "    <tr>\n",
       "      <th>2</th>\n",
       "      <td>Kansas City Metro</td>\n",
       "      <td>BRFSS Region</td>\n",
       "      <td>2016</td>\n",
       "      <td>342884</td>\n",
       "      <td>36.6</td>\n",
       "      <td>33.1</td>\n",
       "      <td>40.1</td>\n",
       "      <td>N/S</td>\n",
       "    </tr>\n",
       "    <tr>\n",
       "      <th>3</th>\n",
       "      <td>Northeast</td>\n",
       "      <td>BRFSS Region</td>\n",
       "      <td>2016</td>\n",
       "      <td>66506</td>\n",
       "      <td>34.2</td>\n",
       "      <td>32.0</td>\n",
       "      <td>36.4</td>\n",
       "      <td>N/S</td>\n",
       "    </tr>\n",
       "    <tr>\n",
       "      <th>4</th>\n",
       "      <td>Northwest</td>\n",
       "      <td>BRFSS Region</td>\n",
       "      <td>2016</td>\n",
       "      <td>68135</td>\n",
       "      <td>36.3</td>\n",
       "      <td>32.8</td>\n",
       "      <td>39.7</td>\n",
       "      <td>N/S</td>\n",
       "    </tr>\n",
       "    <tr>\n",
       "      <th>...</th>\n",
       "      <td>...</td>\n",
       "      <td>...</td>\n",
       "      <td>...</td>\n",
       "      <td>...</td>\n",
       "      <td>...</td>\n",
       "      <td>...</td>\n",
       "      <td>...</td>\n",
       "      <td>...</td>\n",
       "    </tr>\n",
       "    <tr>\n",
       "      <th>118</th>\n",
       "      <td>Washington</td>\n",
       "      <td>County</td>\n",
       "      <td>2016</td>\n",
       "      <td>5039</td>\n",
       "      <td>26.3</td>\n",
       "      <td>20.0</td>\n",
       "      <td>32.7</td>\n",
       "      <td>L</td>\n",
       "    </tr>\n",
       "    <tr>\n",
       "      <th>119</th>\n",
       "      <td>Wayne</td>\n",
       "      <td>County</td>\n",
       "      <td>2016</td>\n",
       "      <td>3585</td>\n",
       "      <td>34.3</td>\n",
       "      <td>27.3</td>\n",
       "      <td>41.3</td>\n",
       "      <td>N/S</td>\n",
       "    </tr>\n",
       "    <tr>\n",
       "      <th>120</th>\n",
       "      <td>Webster</td>\n",
       "      <td>County</td>\n",
       "      <td>2016</td>\n",
       "      <td>10134</td>\n",
       "      <td>36.5</td>\n",
       "      <td>29.2</td>\n",
       "      <td>43.7</td>\n",
       "      <td>N/S</td>\n",
       "    </tr>\n",
       "    <tr>\n",
       "      <th>121</th>\n",
       "      <td>Worth</td>\n",
       "      <td>County</td>\n",
       "      <td>2016</td>\n",
       "      <td>522</td>\n",
       "      <td>32.4</td>\n",
       "      <td>21.6</td>\n",
       "      <td>43.1</td>\n",
       "      <td>N/S</td>\n",
       "    </tr>\n",
       "    <tr>\n",
       "      <th>122</th>\n",
       "      <td>Wright</td>\n",
       "      <td>County</td>\n",
       "      <td>2016</td>\n",
       "      <td>3817</td>\n",
       "      <td>28.0</td>\n",
       "      <td>21.5</td>\n",
       "      <td>34.5</td>\n",
       "      <td>L</td>\n",
       "    </tr>\n",
       "  </tbody>\n",
       "</table>\n",
       "<p>123 rows × 8 columns</p>\n",
       "</div>"
      ],
      "text/plain": [
       "             Geography Geography Type  Data Years  Population Estimate  \\\n",
       "0             Missouri      Statewide        2016              1656560   \n",
       "1              Central   BRFSS Region        2016               193076   \n",
       "2    Kansas City Metro   BRFSS Region        2016               342884   \n",
       "3            Northeast   BRFSS Region        2016                66506   \n",
       "4            Northwest   BRFSS Region        2016                68135   \n",
       "..                 ...            ...         ...                  ...   \n",
       "118         Washington         County        2016                 5039   \n",
       "119              Wayne         County        2016                 3585   \n",
       "120            Webster         County        2016                10134   \n",
       "121              Worth         County        2016                  522   \n",
       "122             Wright         County        2016                 3817   \n",
       "\n",
       "     Weighted Percent  Lower 95% Confidence Limit  Upper 95% Confidence Limit  \\\n",
       "0                35.2                        34.1                        36.3   \n",
       "1                34.2                        32.2                        36.2   \n",
       "2                36.6                        33.1                        40.1   \n",
       "3                34.2                        32.0                        36.4   \n",
       "4                36.3                        32.8                        39.7   \n",
       "..                ...                         ...                         ...   \n",
       "118              26.3                        20.0                        32.7   \n",
       "119              34.3                        27.3                        41.3   \n",
       "120              36.5                        29.2                        43.7   \n",
       "121              32.4                        21.6                        43.1   \n",
       "122              28.0                        21.5                        34.5   \n",
       "\n",
       "    Significantly Different  \n",
       "0                       NaN  \n",
       "1                       N/S  \n",
       "2                       N/S  \n",
       "3                       N/S  \n",
       "4                       N/S  \n",
       "..                      ...  \n",
       "118                       L  \n",
       "119                     N/S  \n",
       "120                     N/S  \n",
       "121                     N/S  \n",
       "122                       L  \n",
       "\n",
       "[123 rows x 8 columns]"
      ]
     },
     "execution_count": 32,
     "metadata": {},
     "output_type": "execute_result"
    }
   ],
   "source": [
    "# read overweight data\n",
    "over_wt = InputModule('excel')\n",
    "over_wt.readfiles('overweight_data.xlsx')"
   ]
  },
  {
   "cell_type": "code",
   "execution_count": 33,
   "metadata": {
    "id": "xpk5yrvR3lZj"
   },
   "outputs": [
    {
     "data": {
      "text/html": [
       "<div>\n",
       "<style scoped>\n",
       "    .dataframe tbody tr th:only-of-type {\n",
       "        vertical-align: middle;\n",
       "    }\n",
       "\n",
       "    .dataframe tbody tr th {\n",
       "        vertical-align: top;\n",
       "    }\n",
       "\n",
       "    .dataframe thead th {\n",
       "        text-align: right;\n",
       "    }\n",
       "</style>\n",
       "<table border=\"1\" class=\"dataframe\">\n",
       "  <thead>\n",
       "    <tr style=\"text-align: right;\">\n",
       "      <th></th>\n",
       "      <th>Geography</th>\n",
       "      <th>Geography Type</th>\n",
       "      <th>Data Years</th>\n",
       "      <th>Population Estimate</th>\n",
       "      <th>Weighted Percent</th>\n",
       "      <th>Lower 95% Confidence Limit</th>\n",
       "      <th>Upper 95% Confidence Limit</th>\n",
       "      <th>Significantly Different</th>\n",
       "    </tr>\n",
       "  </thead>\n",
       "  <tbody>\n",
       "    <tr>\n",
       "      <th>0</th>\n",
       "      <td>Missouri</td>\n",
       "      <td>Statewide</td>\n",
       "      <td>2016</td>\n",
       "      <td>1218889</td>\n",
       "      <td>25.9</td>\n",
       "      <td>25.0</td>\n",
       "      <td>26.8</td>\n",
       "      <td>NaN</td>\n",
       "    </tr>\n",
       "    <tr>\n",
       "      <th>1</th>\n",
       "      <td>Central</td>\n",
       "      <td>BRFSS Region</td>\n",
       "      <td>2016</td>\n",
       "      <td>137750</td>\n",
       "      <td>24.4</td>\n",
       "      <td>22.7</td>\n",
       "      <td>26.1</td>\n",
       "      <td>N/S</td>\n",
       "    </tr>\n",
       "    <tr>\n",
       "      <th>2</th>\n",
       "      <td>Kansas City Metro</td>\n",
       "      <td>BRFSS Region</td>\n",
       "      <td>2016</td>\n",
       "      <td>246389</td>\n",
       "      <td>26.3</td>\n",
       "      <td>23.3</td>\n",
       "      <td>29.4</td>\n",
       "      <td>N/S</td>\n",
       "    </tr>\n",
       "    <tr>\n",
       "      <th>3</th>\n",
       "      <td>Northeast</td>\n",
       "      <td>BRFSS Region</td>\n",
       "      <td>2016</td>\n",
       "      <td>58922</td>\n",
       "      <td>30.3</td>\n",
       "      <td>28.2</td>\n",
       "      <td>32.3</td>\n",
       "      <td>H</td>\n",
       "    </tr>\n",
       "    <tr>\n",
       "      <th>4</th>\n",
       "      <td>Northwest</td>\n",
       "      <td>BRFSS Region</td>\n",
       "      <td>2016</td>\n",
       "      <td>54433</td>\n",
       "      <td>29.0</td>\n",
       "      <td>25.8</td>\n",
       "      <td>32.1</td>\n",
       "      <td>N/S</td>\n",
       "    </tr>\n",
       "    <tr>\n",
       "      <th>...</th>\n",
       "      <td>...</td>\n",
       "      <td>...</td>\n",
       "      <td>...</td>\n",
       "      <td>...</td>\n",
       "      <td>...</td>\n",
       "      <td>...</td>\n",
       "      <td>...</td>\n",
       "      <td>...</td>\n",
       "    </tr>\n",
       "    <tr>\n",
       "      <th>118</th>\n",
       "      <td>Washington</td>\n",
       "      <td>County</td>\n",
       "      <td>2016</td>\n",
       "      <td>7065</td>\n",
       "      <td>36.9</td>\n",
       "      <td>29.9</td>\n",
       "      <td>43.9</td>\n",
       "      <td>H</td>\n",
       "    </tr>\n",
       "    <tr>\n",
       "      <th>119</th>\n",
       "      <td>Wayne</td>\n",
       "      <td>County</td>\n",
       "      <td>2016</td>\n",
       "      <td>3795</td>\n",
       "      <td>36.3</td>\n",
       "      <td>29.5</td>\n",
       "      <td>43.1</td>\n",
       "      <td>H</td>\n",
       "    </tr>\n",
       "    <tr>\n",
       "      <th>120</th>\n",
       "      <td>Webster</td>\n",
       "      <td>County</td>\n",
       "      <td>2016</td>\n",
       "      <td>8051</td>\n",
       "      <td>29.0</td>\n",
       "      <td>22.5</td>\n",
       "      <td>35.4</td>\n",
       "      <td>N/S</td>\n",
       "    </tr>\n",
       "    <tr>\n",
       "      <th>121</th>\n",
       "      <td>Worth</td>\n",
       "      <td>County</td>\n",
       "      <td>2016</td>\n",
       "      <td>508</td>\n",
       "      <td>31.5</td>\n",
       "      <td>21.6</td>\n",
       "      <td>41.5</td>\n",
       "      <td>N/S</td>\n",
       "    </tr>\n",
       "    <tr>\n",
       "      <th>122</th>\n",
       "      <td>Wright</td>\n",
       "      <td>County</td>\n",
       "      <td>2016</td>\n",
       "      <td>4549</td>\n",
       "      <td>33.3</td>\n",
       "      <td>26.9</td>\n",
       "      <td>39.8</td>\n",
       "      <td>H</td>\n",
       "    </tr>\n",
       "  </tbody>\n",
       "</table>\n",
       "<p>123 rows × 8 columns</p>\n",
       "</div>"
      ],
      "text/plain": [
       "             Geography Geography Type  Data Years  Population Estimate  \\\n",
       "0             Missouri      Statewide        2016              1218889   \n",
       "1              Central   BRFSS Region        2016               137750   \n",
       "2    Kansas City Metro   BRFSS Region        2016               246389   \n",
       "3            Northeast   BRFSS Region        2016                58922   \n",
       "4            Northwest   BRFSS Region        2016                54433   \n",
       "..                 ...            ...         ...                  ...   \n",
       "118         Washington         County        2016                 7065   \n",
       "119              Wayne         County        2016                 3795   \n",
       "120            Webster         County        2016                 8051   \n",
       "121              Worth         County        2016                  508   \n",
       "122             Wright         County        2016                 4549   \n",
       "\n",
       "     Weighted Percent  Lower 95% Confidence Limit  Upper 95% Confidence Limit  \\\n",
       "0                25.9                        25.0                        26.8   \n",
       "1                24.4                        22.7                        26.1   \n",
       "2                26.3                        23.3                        29.4   \n",
       "3                30.3                        28.2                        32.3   \n",
       "4                29.0                        25.8                        32.1   \n",
       "..                ...                         ...                         ...   \n",
       "118              36.9                        29.9                        43.9   \n",
       "119              36.3                        29.5                        43.1   \n",
       "120              29.0                        22.5                        35.4   \n",
       "121              31.5                        21.6                        41.5   \n",
       "122              33.3                        26.9                        39.8   \n",
       "\n",
       "    Significantly Different  \n",
       "0                       NaN  \n",
       "1                       N/S  \n",
       "2                       N/S  \n",
       "3                         H  \n",
       "4                       N/S  \n",
       "..                      ...  \n",
       "118                       H  \n",
       "119                       H  \n",
       "120                     N/S  \n",
       "121                     N/S  \n",
       "122                       H  \n",
       "\n",
       "[123 rows x 8 columns]"
      ]
     },
     "execution_count": 33,
     "metadata": {},
     "output_type": "execute_result"
    }
   ],
   "source": [
    "# read physical inactivity data\n",
    "ph_inactive = InputModule('excel')\n",
    "ph_inactive.readfiles('physical_inactivity_data.xlsx')"
   ]
  },
  {
   "cell_type": "code",
   "execution_count": 34,
   "metadata": {
    "id": "AkuFEGVq3lZm"
   },
   "outputs": [],
   "source": [
    "# transform data frames\n",
    "high_bp.formatDataFrame('High Blood Pressure',2)\n",
    "high_chol.formatDataFrame('High Cholesterol',2)\n",
    "smoking.formatDataFrame('Smoking',2)\n",
    "diabetes.formatDataFrame('Diabetes',2)\n",
    "obesity.formatDataFrame('Obesity',2)\n",
    "over_wt.formatDataFrame('Overweight',2)\n",
    "ph_inactive.formatDataFrame('Physical Inactivity',2)"
   ]
  },
  {
   "cell_type": "code",
   "execution_count": 35,
   "metadata": {
    "colab": {
     "base_uri": "https://localhost:8080/"
    },
    "id": "QjT_kIx_3lZm",
    "outputId": "4feeea4e-8786-45c0-ce11-b63255cd85d0"
   },
   "outputs": [
    {
     "data": {
      "text/plain": [
       "Index(['Geography', 'Geography Type', 'Data Years',\n",
       "       'Physical Inactivity_Population Estimate',\n",
       "       'Physical Inactivity_Weighted Percent'],\n",
       "      dtype='object')"
      ]
     },
     "execution_count": 35,
     "metadata": {},
     "output_type": "execute_result"
    }
   ],
   "source": [
    "ph_inactive.dataFrame.columns"
   ]
  },
  {
   "cell_type": "code",
   "execution_count": 36,
   "metadata": {
    "id": "u-7Yxc5a3lZn"
   },
   "outputs": [],
   "source": [
    "from functools import reduce"
   ]
  },
  {
   "cell_type": "code",
   "execution_count": 37,
   "metadata": {
    "id": "fKP6CQu53lZn"
   },
   "outputs": [],
   "source": [
    "# merge data\n",
    "riskfactors = reduce(lambda x,y: pd.merge(x,y, on=[\"Geography\", \"Geography Type\", \"Data Years\"], how='left'), [high_bp.getDataFrame(), high_chol.getDataFrame(), smoking.getDataFrame(), diabetes.getDataFrame(), obesity.getDataFrame(), over_wt.getDataFrame(), ph_inactive.getDataFrame()])"
   ]
  },
  {
   "cell_type": "code",
   "execution_count": 38,
   "metadata": {
    "id": "d_FLOJz83lZo"
   },
   "outputs": [],
   "source": [
    "rf1 = hdmc_data[['Geography', 'Geography Type','2016 Per Capita Income']]"
   ]
  },
  {
   "cell_type": "code",
   "execution_count": 39,
   "metadata": {
    "id": "TH7IkdWx3lZo"
   },
   "outputs": [],
   "source": [
    "# Merge heart disease, heart disease mortality, population density, income data to risk factors data\n",
    "hd_riskfactors = reduce(lambda x,y: pd.merge(x,y, on=[\"Geography\", \"Geography Type\"], how='left'), [hd_data.getDataFrame(), hdm_data.getDataFrame(), riskfactors])"
   ]
  },
  {
   "cell_type": "markdown",
   "metadata": {
    "id": "gehJ-Ml83lZp"
   },
   "source": [
    "### 2. Data visualization"
   ]
  },
  {
   "cell_type": "markdown",
   "metadata": {
    "id": "Bl1pAiO43lZp"
   },
   "source": [
    "####  Missouri's major causes of mortality from 2014 to 2017"
   ]
  },
  {
   "cell_type": "code",
   "execution_count": 40,
   "metadata": {
    "colab": {
     "base_uri": "https://localhost:8080/",
     "height": 267
    },
    "id": "Mzyz8Z3f3lZq",
    "outputId": "e9c95dcc-ee0e-4bb7-804f-e533c10f2e58"
   },
   "outputs": [
    {
     "data": {
      "text/html": [
       "<div>\n",
       "<style scoped>\n",
       "    .dataframe tbody tr th:only-of-type {\n",
       "        vertical-align: middle;\n",
       "    }\n",
       "\n",
       "    .dataframe tbody tr th {\n",
       "        vertical-align: top;\n",
       "    }\n",
       "\n",
       "    .dataframe thead th {\n",
       "        text-align: right;\n",
       "    }\n",
       "</style>\n",
       "<table border=\"1\" class=\"dataframe\">\n",
       "  <thead>\n",
       "    <tr style=\"text-align: right;\">\n",
       "      <th>MO Leading Causes of Death</th>\n",
       "      <th>Accidents</th>\n",
       "      <th>Alzheimer’s disease</th>\n",
       "      <th>Cancer</th>\n",
       "      <th>Chronic Lower Respiratory Disease</th>\n",
       "      <th>Diabetes</th>\n",
       "      <th>Flu/Pneumonia</th>\n",
       "      <th>Heart Disease</th>\n",
       "      <th>Kidney Disease</th>\n",
       "      <th>Stroke</th>\n",
       "      <th>Suicide</th>\n",
       "    </tr>\n",
       "    <tr>\n",
       "      <th>Year</th>\n",
       "      <th></th>\n",
       "      <th></th>\n",
       "      <th></th>\n",
       "      <th></th>\n",
       "      <th></th>\n",
       "      <th></th>\n",
       "      <th></th>\n",
       "      <th></th>\n",
       "      <th></th>\n",
       "      <th></th>\n",
       "    </tr>\n",
       "  </thead>\n",
       "  <tbody>\n",
       "    <tr>\n",
       "      <th>2014</th>\n",
       "      <td>41.0</td>\n",
       "      <td>27.4</td>\n",
       "      <td>177.7</td>\n",
       "      <td>51.4</td>\n",
       "      <td>19.4</td>\n",
       "      <td>18.1</td>\n",
       "      <td>194.7</td>\n",
       "      <td>19.6</td>\n",
       "      <td>48.7</td>\n",
       "      <td>16.3</td>\n",
       "    </tr>\n",
       "    <tr>\n",
       "      <th>2015</th>\n",
       "      <td>50.9</td>\n",
       "      <td>28.7</td>\n",
       "      <td>173.4</td>\n",
       "      <td>52.8</td>\n",
       "      <td>19.7</td>\n",
       "      <td>17.9</td>\n",
       "      <td>197.9</td>\n",
       "      <td>19.9</td>\n",
       "      <td>40.8</td>\n",
       "      <td>17.1</td>\n",
       "    </tr>\n",
       "    <tr>\n",
       "      <th>2016</th>\n",
       "      <td>57.0</td>\n",
       "      <td>30.0</td>\n",
       "      <td>167.0</td>\n",
       "      <td>52.1</td>\n",
       "      <td>20.1</td>\n",
       "      <td>15.1</td>\n",
       "      <td>192.1</td>\n",
       "      <td>19.6</td>\n",
       "      <td>40.4</td>\n",
       "      <td>18.4</td>\n",
       "    </tr>\n",
       "    <tr>\n",
       "      <th>2017</th>\n",
       "      <td>58.8</td>\n",
       "      <td>32.3</td>\n",
       "      <td>167.2</td>\n",
       "      <td>50.7</td>\n",
       "      <td>21.0</td>\n",
       "      <td>16.7</td>\n",
       "      <td>191.1</td>\n",
       "      <td>19.6</td>\n",
       "      <td>41.0</td>\n",
       "      <td>18.5</td>\n",
       "    </tr>\n",
       "  </tbody>\n",
       "</table>\n",
       "</div>"
      ],
      "text/plain": [
       "MO Leading Causes of Death  Accidents  Alzheimer’s disease  Cancer  \\\n",
       "Year                                                                 \n",
       "2014                             41.0                 27.4   177.7   \n",
       "2015                             50.9                 28.7   173.4   \n",
       "2016                             57.0                 30.0   167.0   \n",
       "2017                             58.8                 32.3   167.2   \n",
       "\n",
       "MO Leading Causes of Death  Chronic Lower Respiratory Disease  Diabetes  \\\n",
       "Year                                                                      \n",
       "2014                                                     51.4      19.4   \n",
       "2015                                                     52.8      19.7   \n",
       "2016                                                     52.1      20.1   \n",
       "2017                                                     50.7      21.0   \n",
       "\n",
       "MO Leading Causes of Death  Flu/Pneumonia  Heart Disease  Kidney Disease  \\\n",
       "Year                                                                       \n",
       "2014                                 18.1          194.7            19.6   \n",
       "2015                                 17.9          197.9            19.9   \n",
       "2016                                 15.1          192.1            19.6   \n",
       "2017                                 16.7          191.1            19.6   \n",
       "\n",
       "MO Leading Causes of Death  Stroke  Suicide  \n",
       "Year                                         \n",
       "2014                          48.7     16.3  \n",
       "2015                          40.8     17.1  \n",
       "2016                          40.4     18.4  \n",
       "2017                          41.0     18.5  "
      ]
     },
     "execution_count": 40,
     "metadata": {},
     "output_type": "execute_result"
    }
   ],
   "source": [
    "# long to wide to pivot leading causes data to show the death rate\n",
    "lcd_data.pivot(index='Year', columns='MO Leading Causes of Death', values='Rate')"
   ]
  },
  {
   "cell_type": "code",
   "execution_count": 41,
   "metadata": {
    "id": "6NwLXksP3lZs"
   },
   "outputs": [],
   "source": [
    "import matplotlib.pyplot as plt\n",
    "import seaborn as sns"
   ]
  },
  {
   "cell_type": "code",
   "execution_count": 42,
   "metadata": {
    "colab": {
     "base_uri": "https://localhost:8080/",
     "height": 478
    },
    "id": "JpuPEdbI3lZs",
    "outputId": "cf5597e4-def9-4b4f-e631-70606da76c55"
   },
   "outputs": [
    {
     "data": {
      "text/plain": [
       "(array([0, 1, 2, 3, 4, 5, 6, 7, 8, 9]),\n",
       " <a list of 10 Text major ticklabel objects>)"
      ]
     },
     "execution_count": 42,
     "metadata": {},
     "output_type": "execute_result"
    },
    {
     "data": {
      "image/png": "[encoded data removed]",
      "text/plain": [
       "<Figure size 432x288 with 1 Axes>"
      ]
     },
     "metadata": {
      "needs_background": "light"
     },
     "output_type": "display_data"
    }
   ],
   "source": [
    "sns.barplot(x='MO Leading Causes of Death', y='Rate', data=lcd_data)\n",
    "plt.xticks(rotation=90)"
   ]
  },
  {
   "cell_type": "markdown",
   "metadata": {
    "id": "Wq-haear3lZu"
   },
   "source": [
    "* Interpretation: According to the table and graph, Heart disease is the top cause of death in Missouri, with a modest decrease in the incidence from 2014 to 2017."
   ]
  },
  {
   "cell_type": "markdown",
   "metadata": {
    "id": "t2d5ojMO3lZv"
   },
   "source": [
    "####  Missouri resident heart disease mortality, hospitalizaitons, emergency room visits data and the relations."
   ]
  },
  {
   "cell_type": "code",
   "execution_count": 43,
   "metadata": {
    "colab": {
     "base_uri": "https://localhost:8080/",
     "height": 245
    },
    "id": "htY090UH3lZv",
    "outputId": "425a9152-5366-4eca-c3af-183fa90bf817"
   },
   "outputs": [
    {
     "data": {
      "text/html": [
       "<div>\n",
       "<style scoped>\n",
       "    .dataframe tbody tr th:only-of-type {\n",
       "        vertical-align: middle;\n",
       "    }\n",
       "\n",
       "    .dataframe tbody tr th {\n",
       "        vertical-align: top;\n",
       "    }\n",
       "\n",
       "    .dataframe thead th {\n",
       "        text-align: right;\n",
       "    }\n",
       "</style>\n",
       "<table border=\"1\" class=\"dataframe\">\n",
       "  <thead>\n",
       "    <tr style=\"text-align: right;\">\n",
       "      <th></th>\n",
       "      <th>Geography</th>\n",
       "      <th>Geography Type</th>\n",
       "      <th>Data Years_x</th>\n",
       "      <th>HD Mortality_Count</th>\n",
       "      <th>HD Mortality_Rate</th>\n",
       "      <th>Data Years_y</th>\n",
       "      <th>Heart Disease_Population Estimate</th>\n",
       "      <th>Heart Disease_Weighted Percent</th>\n",
       "      <th>Data Years_x</th>\n",
       "      <th>HD Emergency Room Visits_Count</th>\n",
       "      <th>HD Emergency Room Visits_Rate</th>\n",
       "      <th>Data Years_y</th>\n",
       "      <th>HD Hospitalizations_Count</th>\n",
       "      <th>HD Hospitalizations_Rate</th>\n",
       "      <th>2016 Per Capita Income</th>\n",
       "      <th>2017 Per Capita Income</th>\n",
       "    </tr>\n",
       "  </thead>\n",
       "  <tbody>\n",
       "    <tr>\n",
       "      <th>0</th>\n",
       "      <td>Missouri</td>\n",
       "      <td>Statewide</td>\n",
       "      <td>2009 - 2019</td>\n",
       "      <td>157199</td>\n",
       "      <td>193.95</td>\n",
       "      <td>2019</td>\n",
       "      <td>207,371</td>\n",
       "      <td>4.4</td>\n",
       "      <td>2011 - 2015</td>\n",
       "      <td>470474</td>\n",
       "      <td>15.12</td>\n",
       "      <td>2011 - 2015</td>\n",
       "      <td>384331</td>\n",
       "      <td>109.46</td>\n",
       "      <td>43587.0</td>\n",
       "      <td>44978.0</td>\n",
       "    </tr>\n",
       "    <tr>\n",
       "      <th>1</th>\n",
       "      <td>Adair</td>\n",
       "      <td>County</td>\n",
       "      <td>2009 - 2019</td>\n",
       "      <td>510</td>\n",
       "      <td>164.90</td>\n",
       "      <td>2019</td>\n",
       "      <td>10,691</td>\n",
       "      <td>5.6</td>\n",
       "      <td>2011 - 2015</td>\n",
       "      <td>1839</td>\n",
       "      <td>15.50</td>\n",
       "      <td>2011 - 2015</td>\n",
       "      <td>1343</td>\n",
       "      <td>105.14</td>\n",
       "      <td>31186.0</td>\n",
       "      <td>32037.0</td>\n",
       "    </tr>\n",
       "  </tbody>\n",
       "</table>\n",
       "</div>"
      ],
      "text/plain": [
       "  Geography Geography Type Data Years_x  HD Mortality_Count  \\\n",
       "0  Missouri      Statewide  2009 - 2019              157199   \n",
       "1     Adair         County  2009 - 2019                 510   \n",
       "\n",
       "   HD Mortality_Rate Data Years_y Heart Disease_Population Estimate  \\\n",
       "0             193.95         2019                           207,371   \n",
       "1             164.90         2019                            10,691   \n",
       "\n",
       "   Heart Disease_Weighted Percent Data Years_x  \\\n",
       "0                             4.4  2011 - 2015   \n",
       "1                             5.6  2011 - 2015   \n",
       "\n",
       "   HD Emergency Room Visits_Count  HD Emergency Room Visits_Rate Data Years_y  \\\n",
       "0                          470474                          15.12  2011 - 2015   \n",
       "1                            1839                          15.50  2011 - 2015   \n",
       "\n",
       "   HD Hospitalizations_Count  HD Hospitalizations_Rate  \\\n",
       "0                     384331                    109.46   \n",
       "1                       1343                    105.14   \n",
       "\n",
       "   2016 Per Capita Income  2017 Per Capita Income  \n",
       "0                 43587.0                 44978.0  \n",
       "1                 31186.0                 32037.0  "
      ]
     },
     "execution_count": 43,
     "metadata": {},
     "output_type": "execute_result"
    }
   ],
   "source": [
    "hdmc_data.head(2)"
   ]
  },
  {
   "cell_type": "code",
   "execution_count": 44,
   "metadata": {
    "id": "-tM3V01E3lZw"
   },
   "outputs": [],
   "source": [
    "# Calulate the maximum and minimum values and display the counties with maxium value or minium value\n",
    "filter = hdmc_data['Geography Type'] == 'County'\n",
    "df = hdmc_data[filter]\n",
    "columnlist = [ 'HD Mortality_Rate','Heart Disease_Weighted Percent', \\\n",
    "          'HD Emergency Room Visits_Rate', 'HD Hospitalizations_Rate','2016 Per Capita Income']"
   ]
  },
  {
   "cell_type": "code",
   "execution_count": 45,
   "metadata": {
    "id": "tsc57jJH3lZx"
   },
   "outputs": [],
   "source": [
    "# Function to calulate the maximum and minimum values and display the counties with maxium value or minium value\n",
    "\n",
    "def stat(df, columnlist):\n",
    "    \"\"\"(filepath, list) -> dataframe\n",
    "    \n",
    "    This function returns a new dataframe with statistic data.\"\"\"\n",
    "    sdata ={}\n",
    "    for col in columnlist:\n",
    "        ma = df[col].max()\n",
    "        mal = df.loc[df[col] == df[col].max(), 'Geography'].values\n",
    "        mi = df[col].min()\n",
    "        mil = df.loc[df[col] == df[col].min(), 'Geography'].values\n",
    "        me = df[col].mean()\n",
    "        sdata[col] = {'County with maximum value': mal, 'Maximum value': ma, 'County with minimum value': mil, 'Minimum value': mi, \\\n",
    "                     'Average value': me}\n",
    "\n",
    "    return(pd.DataFrame.from_dict(sdata))"
   ]
  },
  {
   "cell_type": "code",
   "execution_count": 46,
   "metadata": {
    "colab": {
     "base_uri": "https://localhost:8080/",
     "height": 302
    },
    "id": "bWnmdqIR3lZz",
    "outputId": "4c82abb6-7a06-4991-d78b-68bc9f8000cf"
   },
   "outputs": [
    {
     "data": {
      "text/html": [
       "<div>\n",
       "<style scoped>\n",
       "    .dataframe tbody tr th:only-of-type {\n",
       "        vertical-align: middle;\n",
       "    }\n",
       "\n",
       "    .dataframe tbody tr th {\n",
       "        vertical-align: top;\n",
       "    }\n",
       "\n",
       "    .dataframe thead th {\n",
       "        text-align: right;\n",
       "    }\n",
       "</style>\n",
       "<table border=\"1\" class=\"dataframe\">\n",
       "  <thead>\n",
       "    <tr style=\"text-align: right;\">\n",
       "      <th></th>\n",
       "      <th>HD Mortality_Rate</th>\n",
       "      <th>Heart Disease_Weighted Percent</th>\n",
       "      <th>HD Emergency Room Visits_Rate</th>\n",
       "      <th>HD Hospitalizations_Rate</th>\n",
       "      <th>2016 Per Capita Income</th>\n",
       "    </tr>\n",
       "  </thead>\n",
       "  <tbody>\n",
       "    <tr>\n",
       "      <th>County with maximum value</th>\n",
       "      <td>[Pemiscot]</td>\n",
       "      <td>[Barry, Barton, Benton, Bollinger, Butler, Cap...</td>\n",
       "      <td>[Iron]</td>\n",
       "      <td>[Iron]</td>\n",
       "      <td>[St. Louis County]</td>\n",
       "    </tr>\n",
       "    <tr>\n",
       "      <th>Maximum value</th>\n",
       "      <td>351.32</td>\n",
       "      <td>5.7</td>\n",
       "      <td>33.03</td>\n",
       "      <td>176.16</td>\n",
       "      <td>64533</td>\n",
       "    </tr>\n",
       "    <tr>\n",
       "      <th>County with minimum value</th>\n",
       "      <td>[Worth]</td>\n",
       "      <td>[Bates, Caldwell, Cass, Clay, Clinton, Jackson...</td>\n",
       "      <td>[Lewis]</td>\n",
       "      <td>[Lewis]</td>\n",
       "      <td>[Douglas]</td>\n",
       "    </tr>\n",
       "    <tr>\n",
       "      <th>Minimum value</th>\n",
       "      <td>135.79</td>\n",
       "      <td>3</td>\n",
       "      <td>3.23</td>\n",
       "      <td>36.09</td>\n",
       "      <td>25511</td>\n",
       "    </tr>\n",
       "    <tr>\n",
       "      <th>Average value</th>\n",
       "      <td>211.157</td>\n",
       "      <td>5.10522</td>\n",
       "      <td>16.1329</td>\n",
       "      <td>107.662</td>\n",
       "      <td>35314.5</td>\n",
       "    </tr>\n",
       "  </tbody>\n",
       "</table>\n",
       "</div>"
      ],
      "text/plain": [
       "                          HD Mortality_Rate  \\\n",
       "County with maximum value        [Pemiscot]   \n",
       "Maximum value                        351.32   \n",
       "County with minimum value           [Worth]   \n",
       "Minimum value                        135.79   \n",
       "Average value                       211.157   \n",
       "\n",
       "                                              Heart Disease_Weighted Percent  \\\n",
       "County with maximum value  [Barry, Barton, Benton, Bollinger, Butler, Cap...   \n",
       "Maximum value                                                            5.7   \n",
       "County with minimum value  [Bates, Caldwell, Cass, Clay, Clinton, Jackson...   \n",
       "Minimum value                                                              3   \n",
       "Average value                                                        5.10522   \n",
       "\n",
       "                          HD Emergency Room Visits_Rate  \\\n",
       "County with maximum value                        [Iron]   \n",
       "Maximum value                                     33.03   \n",
       "County with minimum value                       [Lewis]   \n",
       "Minimum value                                      3.23   \n",
       "Average value                                   16.1329   \n",
       "\n",
       "                          HD Hospitalizations_Rate 2016 Per Capita Income  \n",
       "County with maximum value                   [Iron]     [St. Louis County]  \n",
       "Maximum value                               176.16                  64533  \n",
       "County with minimum value                  [Lewis]              [Douglas]  \n",
       "Minimum value                                36.09                  25511  \n",
       "Average value                              107.662                35314.5  "
      ]
     },
     "execution_count": 46,
     "metadata": {},
     "output_type": "execute_result"
    }
   ],
   "source": [
    "stat(df, columnlist)"
   ]
  },
  {
   "cell_type": "code",
   "execution_count": 47,
   "metadata": {
    "colab": {
     "base_uri": "https://localhost:8080/",
     "height": 1000
    },
    "id": "OQ4rsCxo3lZ0",
    "outputId": "812cedd5-85dc-44d8-ccf9-ce325c319f12"
   },
   "outputs": [
    {
     "data": {
      "text/plain": [
       "array([[<matplotlib.axes._subplots.AxesSubplot object at 0x7fa9388e86a0>,\n",
       "        <matplotlib.axes._subplots.AxesSubplot object at 0x7fa93889b940>],\n",
       "       [<matplotlib.axes._subplots.AxesSubplot object at 0x7fa93884fba8>,\n",
       "        <matplotlib.axes._subplots.AxesSubplot object at 0x7fa938802e10>],\n",
       "       [<matplotlib.axes._subplots.AxesSubplot object at 0x7fa9387c30b8>,\n",
       "        <matplotlib.axes._subplots.AxesSubplot object at 0x7fa9387f6320>]],\n",
       "      dtype=object)"
      ]
     },
     "execution_count": 47,
     "metadata": {},
     "output_type": "execute_result"
    },
    {
     "data": {
      "image/png": "[encoded data removed]",
      "text/plain": [
       "<Figure size 1296x1080 with 6 Axes>"
      ]
     },
     "metadata": {
      "needs_background": "light"
     },
     "output_type": "display_data"
    }
   ],
   "source": [
    "hdmc_data[columnlist].hist(figsize=(18,15))"
   ]
  },
  {
   "cell_type": "code",
   "execution_count": 48,
   "metadata": {
    "id": "THI_Fdcl3lZ2"
   },
   "outputs": [],
   "source": [
    "hdmc_data['2016 Per Capita Income/1000'] = hdmc_data['2016 Per Capita Income']/1000"
   ]
  },
  {
   "cell_type": "code",
   "execution_count": 49,
   "metadata": {
    "id": "P8Ck5KfM3lZ3"
   },
   "outputs": [],
   "source": [
    "plist = hdmc_data[['HD Mortality_Rate','Heart Disease_Weighted Percent', 'HD Emergency Room Visits_Rate', \\\n",
    "          'HD Hospitalizations_Rate', '2016 Per Capita Income/1000']].copy()"
   ]
  },
  {
   "cell_type": "code",
   "execution_count": 50,
   "metadata": {
    "colab": {
     "base_uri": "https://localhost:8080/",
     "height": 920
    },
    "id": "9KeYB4jd3lZ3",
    "outputId": "292b7ab9-9b8e-4afe-e659-104a1b8debe4"
   },
   "outputs": [
    {
     "data": {
      "text/plain": [
       "<seaborn.axisgrid.PairGrid at 0x7fa938679358>"
      ]
     },
     "execution_count": 50,
     "metadata": {},
     "output_type": "execute_result"
    },
    {
     "data": {
      "image/png": "[encoded data removed]",
      "text/plain": [
       "<Figure size 900x900 with 30 Axes>"
      ]
     },
     "metadata": {
      "needs_background": "light"
     },
     "output_type": "display_data"
    }
   ],
   "source": [
    "sns.pairplot(plist)"
   ]
  },
  {
   "cell_type": "markdown",
   "metadata": {
    "id": "uH2lEurO3lZ4"
   },
   "source": [
    "* Interpretation: According to the graphs, the incidence of heart disease death is linked to the rate of heart disease emergency department visits and heart disease hospitalization. The number of emergency department visits is linked to the number of inpatient discharges with a primary diagnosis of heart disease. Per capita income appears to be inversely associated with heart disease mortality in 2016."
   ]
  },
  {
   "cell_type": "code",
   "execution_count": 51,
   "metadata": {
    "colab": {
     "base_uri": "https://localhost:8080/",
     "height": 297
    },
    "id": "Mno7AW9l3lZ5",
    "outputId": "5ac007a2-d308-489f-bf45-6c9f4550e7d0"
   },
   "outputs": [
    {
     "data": {
      "text/plain": [
       "Text(0.5, 0, 'Heart Disease Mortality_Rate')"
      ]
     },
     "execution_count": 51,
     "metadata": {},
     "output_type": "execute_result"
    },
    {
     "data": {
      "image/png": "[encoded data removed]",
      "text/plain": [
       "<Figure size 432x288 with 1 Axes>"
      ]
     },
     "metadata": {
      "needs_background": "light"
     },
     "output_type": "display_data"
    }
   ],
   "source": [
    "ax = sns.regplot(data=hdmc_data, x='HD Mortality_Rate', y='HD Emergency Room Visits_Rate', order=2, label='HD Emergency Room Visits_Rate')\n",
    "sns.regplot(data=hdmc_data, x='HD Mortality_Rate', y='HD Hospitalizations_Rate', label='HD Hospitalizations_Rate', ax=ax)\n",
    "ax.legend()\n",
    "ax.set_ylabel('Rate')\n",
    "ax.set_xlabel('Heart Disease Mortality_Rate')"
   ]
  },
  {
   "cell_type": "code",
   "execution_count": 52,
   "metadata": {
    "colab": {
     "base_uri": "https://localhost:8080/",
     "height": 297
    },
    "id": "9pO6zs733lZ6",
    "outputId": "50b1f890-4f6f-4fe5-c944-0dcff6f9a692"
   },
   "outputs": [
    {
     "data": {
      "text/plain": [
       "Text(0.5, 0, 'Heart Disease Mortality_Rate')"
      ]
     },
     "execution_count": 52,
     "metadata": {},
     "output_type": "execute_result"
    },
    {
     "data": {
      "image/png": "[encoded data removed]",
      "text/plain": [
       "<Figure size 432x288 with 1 Axes>"
      ]
     },
     "metadata": {
      "needs_background": "light"
     },
     "output_type": "display_data"
    }
   ],
   "source": [
    "ax = sns.regplot(data=hdmc_data, x='HD Mortality_Rate', y='2016 Per Capita Income/1000', label='2016 Per Capita Income/1000')\n",
    "ax.legend()\n",
    "ax.set_ylabel('2016 Per Capita Income/1000')\n",
    "ax.set_xlabel('Heart Disease Mortality_Rate')"
   ]
  },
  {
   "cell_type": "markdown",
   "metadata": {
    "id": "ETZYddBb3lZ6"
   },
   "source": [
    "#### Heart disease commom risk factors"
   ]
  },
  {
   "cell_type": "code",
   "execution_count": 53,
   "metadata": {
    "colab": {
     "base_uri": "https://localhost:8080/"
    },
    "id": "sruTz5V_3lZ7",
    "outputId": "f3b3fb55-0316-4f5c-dfe9-00b13a8e935e"
   },
   "outputs": [
    {
     "data": {
      "text/plain": [
       "Index(['Geography', 'Geography Type', 'Data Years_x',\n",
       "       'Heart Disease_Population Estimate', 'Heart Disease_Weighted Percent',\n",
       "       'Data Years_y', 'HD Mortality_Count', 'HD Mortality_Rate', 'Data Years',\n",
       "       'High Blood Pressure_Population Estimate',\n",
       "       'High Blood Pressure_Weighted Percent',\n",
       "       'High Cholesterol_Population Estimate',\n",
       "       'High Cholesterol_Weighted Percent', 'Smoking_Population Estimate',\n",
       "       'Smoking_Weighted Percent', 'Diabetes_Population Estimate',\n",
       "       'Diabetes_Weighted Percent', 'Obesity_Population Estimate',\n",
       "       'Obesity_Weighted Percent', 'Overweight_Population Estimate',\n",
       "       'Overweight_Weighted Percent',\n",
       "       'Physical Inactivity_Population Estimate',\n",
       "       'Physical Inactivity_Weighted Percent'],\n",
       "      dtype='object')"
      ]
     },
     "execution_count": 53,
     "metadata": {},
     "output_type": "execute_result"
    }
   ],
   "source": [
    "hd_riskfactors.columns"
   ]
  },
  {
   "cell_type": "code",
   "execution_count": 54,
   "metadata": {
    "id": "RTuhuHlv3lZ7"
   },
   "outputs": [],
   "source": [
    "# Calulate the maximum, minimum and average values and display the counties with maximum value or minimum value\n",
    "filter = hd_riskfactors['Geography Type'] == 'County'\n",
    "df2 = hd_riskfactors[filter]\n",
    "columnlist2 = [ 'HD Mortality_Rate','Heart Disease_Weighted Percent', 'High Blood Pressure_Weighted Percent',\\\n",
    "               'High Cholesterol_Weighted Percent','Smoking_Weighted Percent','Diabetes_Weighted Percent','Obesity_Weighted Percent', \\\n",
    "               'Overweight_Weighted Percent','Physical Inactivity_Weighted Percent']"
   ]
  },
  {
   "cell_type": "code",
   "execution_count": 55,
   "metadata": {
    "colab": {
     "base_uri": "https://localhost:8080/",
     "height": 461
    },
    "id": "hKw16Ll-3lZ7",
    "outputId": "5b512fc9-b072-4ed5-d090-d388877ac493"
   },
   "outputs": [
    {
     "data": {
      "text/html": [
       "<div>\n",
       "<style scoped>\n",
       "    .dataframe tbody tr th:only-of-type {\n",
       "        vertical-align: middle;\n",
       "    }\n",
       "\n",
       "    .dataframe tbody tr th {\n",
       "        vertical-align: top;\n",
       "    }\n",
       "\n",
       "    .dataframe thead th {\n",
       "        text-align: right;\n",
       "    }\n",
       "</style>\n",
       "<table border=\"1\" class=\"dataframe\">\n",
       "  <thead>\n",
       "    <tr style=\"text-align: right;\">\n",
       "      <th></th>\n",
       "      <th>HD Mortality_Rate</th>\n",
       "      <th>Heart Disease_Weighted Percent</th>\n",
       "      <th>High Blood Pressure_Weighted Percent</th>\n",
       "      <th>High Cholesterol_Weighted Percent</th>\n",
       "      <th>Smoking_Weighted Percent</th>\n",
       "      <th>Diabetes_Weighted Percent</th>\n",
       "      <th>Obesity_Weighted Percent</th>\n",
       "      <th>Overweight_Weighted Percent</th>\n",
       "      <th>Physical Inactivity_Weighted Percent</th>\n",
       "    </tr>\n",
       "  </thead>\n",
       "  <tbody>\n",
       "    <tr>\n",
       "      <th>County with maximum value</th>\n",
       "      <td>[Pemiscot]</td>\n",
       "      <td>[Barry, Barton, Benton, Bollinger, Butler, Cap...</td>\n",
       "      <td>[Iron]</td>\n",
       "      <td>[Andrew]</td>\n",
       "      <td>[Iron]</td>\n",
       "      <td>[Iron]</td>\n",
       "      <td>[Iron]</td>\n",
       "      <td>[Andrew]</td>\n",
       "      <td>[Livingston]</td>\n",
       "    </tr>\n",
       "    <tr>\n",
       "      <th>Maximum value</th>\n",
       "      <td>351.32</td>\n",
       "      <td>5.7</td>\n",
       "      <td>67.3</td>\n",
       "      <td>57.5</td>\n",
       "      <td>39.5</td>\n",
       "      <td>37.2</td>\n",
       "      <td>52.9</td>\n",
       "      <td>50.1</td>\n",
       "      <td>48.7</td>\n",
       "    </tr>\n",
       "    <tr>\n",
       "      <th>County with minimum value</th>\n",
       "      <td>[Worth]</td>\n",
       "      <td>[Bates, Caldwell, Cass, Clay, Clinton, Jackson...</td>\n",
       "      <td>[Johnson]</td>\n",
       "      <td>[Shannon]</td>\n",
       "      <td>[Osage]</td>\n",
       "      <td>[Cole, Ste. Genevieve]</td>\n",
       "      <td>[Platte]</td>\n",
       "      <td>[Chariton]</td>\n",
       "      <td>[Boone]</td>\n",
       "    </tr>\n",
       "    <tr>\n",
       "      <th>Minimum value</th>\n",
       "      <td>135.79</td>\n",
       "      <td>3</td>\n",
       "      <td>25.2</td>\n",
       "      <td>25.2</td>\n",
       "      <td>5.2</td>\n",
       "      <td>5.8</td>\n",
       "      <td>23.8</td>\n",
       "      <td>25.2</td>\n",
       "      <td>17.5</td>\n",
       "    </tr>\n",
       "    <tr>\n",
       "      <th>Average value</th>\n",
       "      <td>211.157</td>\n",
       "      <td>5.10522</td>\n",
       "      <td>37.5713</td>\n",
       "      <td>37.9791</td>\n",
       "      <td>23.4643</td>\n",
       "      <td>12.3948</td>\n",
       "      <td>33.4078</td>\n",
       "      <td>34.6243</td>\n",
       "      <td>29.2878</td>\n",
       "    </tr>\n",
       "  </tbody>\n",
       "</table>\n",
       "</div>"
      ],
      "text/plain": [
       "                          HD Mortality_Rate  \\\n",
       "County with maximum value        [Pemiscot]   \n",
       "Maximum value                        351.32   \n",
       "County with minimum value           [Worth]   \n",
       "Minimum value                        135.79   \n",
       "Average value                       211.157   \n",
       "\n",
       "                                              Heart Disease_Weighted Percent  \\\n",
       "County with maximum value  [Barry, Barton, Benton, Bollinger, Butler, Cap...   \n",
       "Maximum value                                                            5.7   \n",
       "County with minimum value  [Bates, Caldwell, Cass, Clay, Clinton, Jackson...   \n",
       "Minimum value                                                              3   \n",
       "Average value                                                        5.10522   \n",
       "\n",
       "                          High Blood Pressure_Weighted Percent  \\\n",
       "County with maximum value                               [Iron]   \n",
       "Maximum value                                             67.3   \n",
       "County with minimum value                            [Johnson]   \n",
       "Minimum value                                             25.2   \n",
       "Average value                                          37.5713   \n",
       "\n",
       "                          High Cholesterol_Weighted Percent  \\\n",
       "County with maximum value                          [Andrew]   \n",
       "Maximum value                                          57.5   \n",
       "County with minimum value                         [Shannon]   \n",
       "Minimum value                                          25.2   \n",
       "Average value                                       37.9791   \n",
       "\n",
       "                          Smoking_Weighted Percent Diabetes_Weighted Percent  \\\n",
       "County with maximum value                   [Iron]                    [Iron]   \n",
       "Maximum value                                 39.5                      37.2   \n",
       "County with minimum value                  [Osage]    [Cole, Ste. Genevieve]   \n",
       "Minimum value                                  5.2                       5.8   \n",
       "Average value                              23.4643                   12.3948   \n",
       "\n",
       "                          Obesity_Weighted Percent  \\\n",
       "County with maximum value                   [Iron]   \n",
       "Maximum value                                 52.9   \n",
       "County with minimum value                 [Platte]   \n",
       "Minimum value                                 23.8   \n",
       "Average value                              33.4078   \n",
       "\n",
       "                          Overweight_Weighted Percent  \\\n",
       "County with maximum value                    [Andrew]   \n",
       "Maximum value                                    50.1   \n",
       "County with minimum value                  [Chariton]   \n",
       "Minimum value                                    25.2   \n",
       "Average value                                 34.6243   \n",
       "\n",
       "                          Physical Inactivity_Weighted Percent  \n",
       "County with maximum value                         [Livingston]  \n",
       "Maximum value                                             48.7  \n",
       "County with minimum value                              [Boone]  \n",
       "Minimum value                                             17.5  \n",
       "Average value                                          29.2878  "
      ]
     },
     "execution_count": 55,
     "metadata": {},
     "output_type": "execute_result"
    }
   ],
   "source": [
    "stat(df2, columnlist2)"
   ]
  },
  {
   "cell_type": "code",
   "execution_count": 56,
   "metadata": {
    "colab": {
     "base_uri": "https://localhost:8080/",
     "height": 1000
    },
    "id": "xWkGS_Yc3lZ8",
    "outputId": "25d14740-49aa-4656-ad84-61dc846f6653"
   },
   "outputs": [
    {
     "data": {
      "image/png": "[encoded data removed]",
      "text/plain": [
       "<Figure size 432x288 with 1 Axes>"
      ]
     },
     "metadata": {
      "needs_background": "light"
     },
     "output_type": "display_data"
    },
    {
     "data": {
      "image/png": "[encoded data removed]",
      "text/plain": [
       "<Figure size 432x288 with 1 Axes>"
      ]
     },
     "metadata": {
      "needs_background": "light"
     },
     "output_type": "display_data"
    },
    {
     "data": {
      "image/png": "[encoded data removed]",
      "text/plain": [
       "<Figure size 432x288 with 1 Axes>"
      ]
     },
     "metadata": {
      "needs_background": "light"
     },
     "output_type": "display_data"
    },
    {
     "data": {
      "image/png": "[encoded data removed]",
      "text/plain": [
       "<Figure size 432x288 with 1 Axes>"
      ]
     },
     "metadata": {
      "needs_background": "light"
     },
     "output_type": "display_data"
    },
    {
     "data": {
      "image/png": "[encoded data removed]",
      "text/plain": [
       "<Figure size 432x288 with 1 Axes>"
      ]
     },
     "metadata": {
      "needs_background": "light"
     },
     "output_type": "display_data"
    },
    {
     "data": {
      "image/png": "[encoded data removed]",
      "text/plain": [
       "<Figure size 432x288 with 1 Axes>"
      ]
     },
     "metadata": {
      "needs_background": "light"
     },
     "output_type": "display_data"
    },
    {
     "data": {
      "image/png": "[encoded data removed]",
      "text/plain": [
       "<Figure size 432x288 with 1 Axes>"
      ]
     },
     "metadata": {
      "needs_background": "light"
     },
     "output_type": "display_data"
    }
   ],
   "source": [
    "clists = columnlist2[2:]\n",
    "for i in clists:\n",
    "    ax = sns.regplot(data=hd_riskfactors, x='HD Mortality_Rate', y=i, label=i)\n",
    "    ax.legend()\n",
    "    ax.set_ylabel('Risk Factors')\n",
    "    ax.set_xlabel('Heart Disease Mortality_Rate')\n",
    "    plt.show()"
   ]
  },
  {
   "cell_type": "code",
   "execution_count": 57,
   "metadata": {
    "colab": {
     "base_uri": "https://localhost:8080/",
     "height": 1000
    },
    "id": "OAv0zcne3lZ8",
    "outputId": "c89add96-dfc8-47d0-d340-94feadd19ee8"
   },
   "outputs": [
    {
     "data": {
      "image/png": "[encoded data removed]",
      "text/plain": [
       "<Figure size 360x360 with 1 Axes>"
      ]
     },
     "metadata": {
      "needs_background": "light"
     },
     "output_type": "display_data"
    },
    {
     "data": {
      "image/png": "[encoded data removed]",
      "text/plain": [
       "<Figure size 360x360 with 1 Axes>"
      ]
     },
     "metadata": {
      "needs_background": "light"
     },
     "output_type": "display_data"
    },
    {
     "data": {
      "image/png": "[encoded data removed]",
      "text/plain": [
       "<Figure size 360x360 with 1 Axes>"
      ]
     },
     "metadata": {
      "needs_background": "light"
     },
     "output_type": "display_data"
    },
    {
     "data": {
      "image/png": "[encoded data removed]",
      "text/plain": [
       "<Figure size 360x360 with 1 Axes>"
      ]
     },
     "metadata": {
      "needs_background": "light"
     },
     "output_type": "display_data"
    },
    {
     "data": {
      "image/png": "[encoded data removed]",
      "text/plain": [
       "<Figure size 360x360 with 1 Axes>"
      ]
     },
     "metadata": {
      "needs_background": "light"
     },
     "output_type": "display_data"
    },
    {
     "data": {
      "image/png": "[encoded data removed]",
      "text/plain": [
       "<Figure size 360x360 with 1 Axes>"
      ]
     },
     "metadata": {
      "needs_background": "light"
     },
     "output_type": "display_data"
    },
    {
     "data": {
      "image/png": "[encoded data removed]",
      "text/plain": [
       "<Figure size 360x360 with 1 Axes>"
      ]
     },
     "metadata": {
      "needs_background": "light"
     },
     "output_type": "display_data"
    }
   ],
   "source": [
    "clists = columnlist2[2:]\n",
    "for i in clists:\n",
    "    ax = sns.lmplot(data=hd_riskfactors, x=\"Heart Disease_Weighted Percent\", y=i)\n",
    "    plt.show()"
   ]
  },
  {
   "cell_type": "code",
   "execution_count": 58,
   "metadata": {
    "colab": {
     "base_uri": "https://localhost:8080/",
     "height": 1000
    },
    "id": "LO_LeSlX3lZ8",
    "outputId": "1cf2c76e-5df2-4e22-bd6d-cdc1a62360d7"
   },
   "outputs": [
    {
     "data": {
      "image/png": "[encoded data removed]",
      "text/plain": [
       "<Figure size 432x288 with 1 Axes>"
      ]
     },
     "metadata": {
      "needs_background": "light"
     },
     "output_type": "display_data"
    },
    {
     "data": {
      "image/png": "[encoded data removed]",
      "text/plain": [
       "<Figure size 432x288 with 1 Axes>"
      ]
     },
     "metadata": {
      "needs_background": "light"
     },
     "output_type": "display_data"
    },
    {
     "data": {
      "image/png": "[encoded data removed]",
      "text/plain": [
       "<Figure size 432x288 with 1 Axes>"
      ]
     },
     "metadata": {
      "needs_background": "light"
     },
     "output_type": "display_data"
    },
    {
     "data": {
      "image/png": "[encoded data removed]",
      "text/plain": [
       "<Figure size 432x288 with 1 Axes>"
      ]
     },
     "metadata": {
      "needs_background": "light"
     },
     "output_type": "display_data"
    }
   ],
   "source": [
    "for i in columnlist2[3:7]:\n",
    "    ax = sns.regplot(data=hd_riskfactors, x='High Blood Pressure_Weighted Percent', y=i, label=i)\n",
    "    ax.legend()\n",
    "    ax.set_ylabel('Risk Factors')\n",
    "    ax.set_xlabel('High Blood Pressure_Weighted Percent')\n",
    "    plt.show()"
   ]
  },
  {
   "cell_type": "markdown",
   "metadata": {
    "id": "qKDCh8TI3lZ9"
   },
   "source": [
    "* Interpretation: It appears that current smoking, obesity, overweight, and physical inactivity have a positive connection with heart disease mortality. Heart disease and average personal income have negative connections."
   ]
  },
  {
   "cell_type": "markdown",
   "metadata": {
    "id": "kMiSGACC3lZ9"
   },
   "source": [
    "### 3. Correlation Analysis"
   ]
  },
  {
   "cell_type": "code",
   "execution_count": 59,
   "metadata": {
    "id": "hs_Ngn453lZ9"
   },
   "outputs": [],
   "source": [
    "from scipy.stats import pearsonr"
   ]
  },
  {
   "cell_type": "code",
   "execution_count": 60,
   "metadata": {
    "id": "i6epGyCz3lZ9"
   },
   "outputs": [],
   "source": [
    "def correlations(dt1, dt2, columnlists):\n",
    "    \"\"\"(dataframe, dataframe, list) -> print\n",
    "    \n",
    "    This function calculate and print the coefficent and p-value.\"\"\"\n",
    "    for i in columnlists:\n",
    "        a = pearsonr(dt1, dt2[i])\n",
    "        print(dt1.name+', '+ i +': coefficent: {}, p-value: {}'.format(round(a[0], 5), round(a[1],5)))"
   ]
  },
  {
   "cell_type": "code",
   "execution_count": 61,
   "metadata": {
    "colab": {
     "base_uri": "https://localhost:8080/"
    },
    "id": "NRp_0SJI3lZ-",
    "outputId": "cbc218e4-7336-4d69-96ff-a2ac01613a5c"
   },
   "outputs": [
    {
     "name": "stdout",
     "output_type": "stream",
     "text": [
      "HD Mortality_Rate, HD Emergency Room Visits_Rate: coefficent: 0.43244, p-value: 0.0\n",
      "HD Mortality_Rate, HD Hospitalizations_Rate: coefficent: 0.42996, p-value: 0.0\n",
      "HD Mortality_Rate, 2016 Per Capita Income: coefficent: -0.36541, p-value: 5e-05\n"
     ]
    }
   ],
   "source": [
    "correlations(hdmc_data['HD Mortality_Rate'], hdmc_data, columnlist[2:])"
   ]
  },
  {
   "cell_type": "markdown",
   "metadata": {
    "id": "aVpURktB3laE"
   },
   "source": [
    "* Interpretation: Because the sample sizes are limited, certain correlation coefficients are not significant. Other state data could be added in the future to increase sample sizes."
   ]
  },
  {
   "cell_type": "markdown",
   "metadata": {},
   "source": [
    "---\n",
    "\n",
    "\n",
    "\n",
    "### Submitting Your Work\n",
    "\n",
    "In order to submit your work, you'll need to use the `git` command line program to **add** your homework file (this file) to your local repository, **commit** your changes to your local repository, and then **push** those changes up to github.com.  From there, I'll be able to **pull** the changes down and do my grading.  I'll provide some feedback, **commit** and **push** my comments back to you.  Next week, I'll show you how to **pull** down my comments.\n",
    "\n",
    "To run through everything one last time and submit your work:\n",
    "1. Use the `Kernel` -> `Restart Kernel and Run All Cells` menu option to run everything from top to bottom and stop here.\n",
    "2. Follow the instruction on the prompt below to either ssave and submit your work, or continue working.\n",
    "\n",
    "If anything fails along the way with this submission part of the process, let me know.  I'll help you troubleshoort."
   ]
  },
  {
   "cell_type": "code",
   "execution_count": 62,
   "metadata": {},
   "outputs": [
    {
     "name": "stdin",
     "output_type": "stream",
     "text": [
      "\n",
      "Are you ready to submit your work?\n",
      "1. Click the Save icon (or do Ctrl-S / Cmd-S)\n",
      "2. Type \"yes\" or \"no\" below\n",
      "3. Press Enter\n",
      "\n",
      " yes\n"
     ]
    },
    {
     "name": "stdout",
     "output_type": "stream",
     "text": [
      "Already up to date.\n",
      "On branch main\n",
      "Your branch is up to date with 'origin/main'.\n",
      "\n",
      "Untracked files:\n",
      "\t\u001b[31mblood pressure.csv\u001b[m\n",
      "\t\u001b[31mcoronary.csv\u001b[m\n",
      "\t\u001b[31mcurrent smoking.xlsx\u001b[m\n",
      "\t\u001b[31mdiabetes_data.xlsx\u001b[m\n",
      "\t\u001b[31memergency_room_visits_data.xlsx\u001b[m\n",
      "\t\u001b[31mhigh_cholestrol_data.xlsx\u001b[m\n",
      "\t\u001b[31mhospitalization_data.xlsx\u001b[m\n",
      "\t\u001b[31mmortality_data.xlsx\u001b[m\n",
      "\t\u001b[31mobesity_data.xlsx\u001b[m\n",
      "\t\u001b[31moverweight_data.xlsx\u001b[m\n",
      "\t\u001b[31mphysical_inactivity_data.xlsx\u001b[m\n",
      "\t\u001b[31m../Untitled.ipynb\u001b[m\n",
      "\t\u001b[31m../week02/\u001b[m\n",
      "\t\u001b[31m../week04/week04_examples.ipynb\u001b[m\n",
      "\t\u001b[31m../week04/week04_inclass.ipynb\u001b[m\n",
      "\t\u001b[31m../week04/week04_lookups.ipynb\u001b[m\n",
      "\t\u001b[31m../week05/californiaDDS.ipynb\u001b[m\n",
      "\t\u001b[31m../week05/week05_inclass.ipynb\u001b[m\n",
      "\t\u001b[31m../week06/module29-xml-examples.ipynb\u001b[m\n",
      "\t\u001b[31m../week06/week06_inclass_1.ipynb\u001b[m\n",
      "\t\u001b[31m../week07/week07_inclass.ipynb\u001b[m\n",
      "\t\u001b[31m../week10/heart_2020_cleaned.csv\u001b[m\n",
      "\t\u001b[31m../week11/complications_all.csv\u001b[m\n",
      "\t\u001b[31m../week12/Untitled.ipynb\u001b[m\n",
      "\t\u001b[31m../week13/blood pressure.csv\u001b[m\n",
      "\t\u001b[31m../week13/coronary.csv\u001b[m\n",
      "\t\u001b[31m../week13/current smoking.xlsx\u001b[m\n",
      "\t\u001b[31m../week15/Electronic_Health_Record_EHR_Incentive_Program_Payments_to_Eligible_Hospitals.csv\u001b[m\n",
      "\n",
      "nothing added to commit but untracked files present\n",
      "Everything up-to-date\n"
     ]
    }
   ],
   "source": [
    "a=input('''\n",
    "Are you ready to submit your work?\n",
    "1. Click the Save icon (or do Ctrl-S / Cmd-S)\n",
    "2. Type \"yes\" or \"no\" below\n",
    "3. Press Enter\n",
    "\n",
    "''')\n",
    "\n",
    "if a=='yes':\n",
    "    !git pull\n",
    "    !git add Final.ipynb\n",
    "    !git commit -a -m \"Submitting the Final programming assignment\"\n",
    "    !git push\n",
    "else:\n",
    "    print('''\n",
    "    \n",
    "OK. We can wait.\n",
    "''')"
   ]
  }
 ],
 "metadata": {
  "colab": {
   "name": "shiva.ipynb",
   "provenance": []
  },
  "kernelspec": {
   "display_name": "Python 3",
   "language": "python",
   "name": "python3"
  },
  "language_info": {
   "codemirror_mode": {
    "name": "ipython",
    "version": 3
   },
   "file_extension": ".py",
   "mimetype": "text/x-python",
   "name": "python",
   "nbconvert_exporter": "python",
   "pygments_lexer": "ipython3",
   "version": "3.6.7"
  }
 },
 "nbformat": 4,
 "nbformat_minor": 2
}
