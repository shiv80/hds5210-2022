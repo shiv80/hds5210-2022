{
 "cells": [
  {
   "cell_type": "markdown",
   "metadata": {
    "id": "SMtDzgy_3lYb"
   },
   "source": [
    "# Final Project"
   ]
  },
  {
   "cell_type": "markdown",
   "metadata": {
    "id": "wIY9SCWH3lYk"
   },
   "source": [
    "* In the United States, heart disease is the leading cause of death, accounting for one out of every four deaths. High blood pressure, high cholesterol, and smoking are all major risk factors for heart disease. Diabetes, obesity and overweight, physical inactivity, a poor diet, and excessive alcohol consumption are all medical problems and lifestyle choices that might increase the risk of heart disease. Heart disease risk can be considerably lowered by making lifestyle modifications and, in certain situations, taking medication.\n",
    "\n",
    "The following are the goals of this project:\n",
    "* Data on Missouri's leading causes of mortality from 2014 to 2017 is visualized and summarized.\n",
    "\n",
    "* Evaluate Missouri residents' heart disease status at the county level, including heart disease mortality, heart disease hospitalizations, and emergency room visits, to see if there is a link between heart disease mortality and emergency room visits, average personal income, population density, and other variables.\n",
    "\n",
    "* Examine whether there is a link between heart disease mortality and common risk factors in Missouri counties."
   ]
  },
  {
   "cell_type": "markdown",
   "metadata": {
    "id": "ClpTifWC3lYm"
   },
   "source": [
    "## 1. Data manipulation"
   ]
  },
  {
   "cell_type": "markdown",
   "metadata": {
    "id": "wyypS3eE3lYp"
   },
   "source": [
    "#### Data Source\n",
    "\n",
    "- Missouri leading causes of death information is retrieved from National center for health statistics in CDC website: https://www.cdc.gov/nchs/pressroom/states/missouri/missouri.htm.\n",
    "- Heart disease profile data were downloaded as local files from Missouri Public Health Information Management System.\n",
    "-  https://meric.mo.gov/data/income-measures/county-per-capita-personal-income, https://www.indexmundi.com/facts/united-states/quick-facts/missouri/land-area#table\n"
   ]
  },
  {
   "cell_type": "markdown",
   "metadata": {
    "id": "Aqc5ZDMc3lYs"
   },
   "source": [
    "#### Information about Missouri's major causes of mortality from 2014 to 2017.\n",
    "The Missouri leading causes of death data were read from CDC website:https://www.cdc.gov/nchs/pressroom/states/missouri/missouri.htm\n",
    "<br>\n"
   ]
  },
  {
   "cell_type": "code",
   "execution_count": null,
   "metadata": {
    "id": "RqtxZC7r3lYv"
   },
   "outputs": [],
   "source": [
    "# Read tables from website\n",
    "import pandas as pd\n",
    "import numpy as np\n",
    "from pathlib import Path\n",
    "tables = pd.read_html('https://www.cdc.gov/nchs/pressroom/states/missouri/missouri.htm')"
   ]
  },
  {
   "cell_type": "code",
   "execution_count": null,
   "metadata": {
    "id": "aTdPNq103lY2"
   },
   "outputs": [],
   "source": [
    "# 2014 -2017 Missouri leading causes of death data\n",
    "data_2017 = tables[1]\n",
    "data_2016 = tables[5]\n",
    "data_2015 = tables[9]\n",
    "data_2014 = tables[13]"
   ]
  },
  {
   "cell_type": "code",
   "execution_count": null,
   "metadata": {
    "id": "LaqIfMXP3lY3"
   },
   "outputs": [],
   "source": [
    "# function used to change columns names, assign a new colunm.\n",
    "\n",
    "def changeColumns (dataframe, x):\n",
    "    \"\"\"(dataframe, str) -> dataframe\n",
    "    \n",
    "    This function returns a dataframe with the names of the columns changed and a new column added.\"\"\"\n",
    "    \n",
    "    a = dataframe.columns[0][:-6]\n",
    "    b = dataframe.columns[1]\n",
    "    c = dataframe.columns[2][:4]\n",
    "    d = dataframe.columns[3][:-1]\n",
    "    e = dataframe.columns[4][:-2]\n",
    "    dataframe.columns = [a, b, c, d, e]\n",
    "    dataframe['Year'] = x\n",
    "    dataframe[a] = dataframe[a].str[3:]\n",
    "    dataframe.iloc[9,0] = dataframe.iloc[9,0][1:]\n",
    "    \n",
    "    dataframe = dataframe[[a,'Year',b,c,d,e]].copy()\n",
    "    return dataframe"
   ]
  },
  {
   "cell_type": "code",
   "execution_count": null,
   "metadata": {
    "id": "UWIS1B2H3lY6"
   },
   "outputs": [],
   "source": [
    "# change data columns names\n",
    "data_2017 = changeColumns(data_2017, 2017).copy()"
   ]
  },
  {
   "cell_type": "code",
   "execution_count": null,
   "metadata": {
    "id": "KnBDAmvm3lY8"
   },
   "outputs": [],
   "source": [
    "data_2016 = changeColumns(data_2016, 2016)"
   ]
  },
  {
   "cell_type": "code",
   "execution_count": null,
   "metadata": {
    "id": "kZ25pl8S3lY-"
   },
   "outputs": [],
   "source": [
    "data_2015 = changeColumns(data_2015, 2015)"
   ]
  },
  {
   "cell_type": "code",
   "execution_count": null,
   "metadata": {
    "id": "gEKTyORY3lZB"
   },
   "outputs": [],
   "source": [
    "data_2014 = changeColumns(data_2014, 2014)"
   ]
  },
  {
   "cell_type": "code",
   "execution_count": null,
   "metadata": {
    "id": "FJ6sw3zZ3lZD"
   },
   "outputs": [],
   "source": [
    "# Merge 2014 - 2017 years' data\n",
    "lcd_data = pd.concat([data_2014, data_2015, data_2016,data_2017])\n",
    "lcd_data = lcd_data.reset_index()"
   ]
  },
  {
   "cell_type": "code",
   "execution_count": null,
   "metadata": {
    "colab": {
     "base_uri": "https://localhost:8080/"
    },
    "id": "vNkcF-u13lZE",
    "outputId": "d6a57dba-454a-4e4d-a6f1-24080e803f55"
   },
   "outputs": [],
   "source": [
    "lcd_data.columns"
   ]
  },
  {
   "cell_type": "code",
   "execution_count": null,
   "metadata": {
    "id": "knoZvEWA3lZG"
   },
   "outputs": [],
   "source": [
    "# long to wide pivoting tranformation\n",
    "pdata = lcd_data.pivot(index='Year', columns='MO Leading Causes of Death', values=['Deaths','Rate'])"
   ]
  },
  {
   "cell_type": "markdown",
   "metadata": {
    "id": "Al-Qj9Dr3lZJ"
   },
   "source": [
    "###  Data on heart disease death, hospitalization, and ER visits\n",
    "View heart disease mortality, heart disease hospitalizations, and heart disease emergency room visits on a county level from local files. To obtain information about income and land area through website.\n",
    "<br>\n",
    "Death rates are age-adjusted and expressed as deaths per 100,000 of the population. The age-adjusted hospitalization and procedure rates are per 10,000 people, whereas the age-adjusted emergency department visit rates are per 1,000 people."
   ]
  },
  {
   "cell_type": "code",
   "execution_count": null,
   "metadata": {
    "id": "7VFQomRc3lZK"
   },
   "outputs": [],
   "source": [
    "# function to read csv and excel files\n",
    "\n",
    "class InputModule:\n",
    "    def __init__(self, fileFormat: str = \"EXCEL\"):\n",
    "        self.fileFormat = fileFormat.upper()\n",
    "        self.dataFrame = None\n",
    "        self.filterList = ['Statewide', 'County']\n",
    "        self.dropList = ['Lower 95% Confidence Limit', 'Upper 95% Confidence Limit', 'Significantly Different']\n",
    "\n",
    "    def readfiles(self, filePath: Path):\n",
    "        try:\n",
    "            if self.fileFormat.upper() == \"EXCEL\":\n",
    "                self.dataFrame = pd.read_excel(filePath, header=2, skipfooter=3)\n",
    "            elif self.fileFormat.upper() == \"CSV\":\n",
    "                self.dataFrame = pd.read_csv(filePath, header=2, skipfooter=3)\n",
    "            else:\n",
    "                print(\"Invalid File Format. Read Failure\")\n",
    "                SystemExit(1)\n",
    "        except Exception as e:\n",
    "            print(\"File Read Failure!!!, Filename:\" + str(filePath) + \" FileFormat:\" + self.fileFormat)\n",
    "            SystemExit(1)\n",
    "\n",
    "        return self.dataFrame\n",
    "\n",
    "    # function to filter data, drop columns, change columns names\n",
    "    def formatDataFrame(self, pre: str, formatType: int = 1):\n",
    "        self.dataFrame = self.dataFrame[self.dataFrame['Geography Type'].isin(self.filterList)]\n",
    "        self.dataFrame = self.dataFrame.drop(\n",
    "            self.dropList, axis=1)\n",
    "\n",
    "        self.dataFrame.columns = [self.dataFrame.columns[0],\n",
    "                                  self.dataFrame.columns[1],\n",
    "                                  pre + '_' + self.dataFrame.columns[2] if type == 1 else self.dataFrame.columns[2],\n",
    "                                  pre + '_' + self.dataFrame.columns[3],\n",
    "                                  pre + '_' + self.dataFrame.columns[4]]\n",
    "\n",
    "    def getDataFrame(self):\n",
    "        return self.dataFrame\n"
   ]
  },
  {
   "cell_type": "code",
   "execution_count": null,
   "metadata": {
    "colab": {
     "base_uri": "https://localhost:8080/"
    },
    "id": "J4UDSo7I3lZL",
    "outputId": "9172cf75-7496-42e7-a7ed-3d30f93bd10d"
   },
   "outputs": [],
   "source": [
    "# read heart disease data from local files.\n",
    "    hd_data = InputModule('csv')\n",
    "    hd_data.readfiles('coronary.csv')"
   ]
  },
  {
   "cell_type": "code",
   "execution_count": null,
   "metadata": {
    "id": "hcIcBkuR3lZM"
   },
   "outputs": [],
   "source": [
    "# heart disease mortality data\n",
    "    hdm_data = InputModule('excel')\n",
    "    hdm_data.readfiles('mortality_data.xlsx')\n"
   ]
  },
  {
   "cell_type": "code",
   "execution_count": null,
   "metadata": {
    "id": "9uivw6vz3lZN"
   },
   "outputs": [],
   "source": [
    "# data for emergency room visits discharges with a principal diagnosis of heart disease\n",
    "    erv_data = InputModule('excel')\n",
    "    erv_data.readfiles('emergency_room_visits_data.xlsx')\n"
   ]
  },
  {
   "cell_type": "code",
   "execution_count": null,
   "metadata": {
    "id": "H91qM9A03lZP"
   },
   "outputs": [],
   "source": [
    "# data: hospitalizations discharges with a principal diagnosis of heart disease\n",
    "    hd_discharge = InputModule('excel')\n",
    "    hd_discharge.readfiles('hospitalization_data.xlsx')"
   ]
  },
  {
   "cell_type": "code",
   "execution_count": null,
   "metadata": {
    "id": "XvrAeUWZ3lZP"
   },
   "outputs": [],
   "source": [
    "# transform data columns and filter data\n",
    "    hd_data.formatDataFrame('Heart Disease')\n",
    "    hdm_data.formatDataFrame('HD Mortality')\n",
    "    erv_data.formatDataFrame('HD Emergency Room Visits')\n",
    "    hd_discharge.formatDataFrame('HD Hospitalizations')"
   ]
  },
  {
   "cell_type": "code",
   "execution_count": null,
   "metadata": {
    "id": "vnpZWP2k3lZR"
   },
   "outputs": [],
   "source": [
    "from functools import reduce"
   ]
  },
  {
   "cell_type": "code",
   "execution_count": null,
   "metadata": {
    "id": "Dp-1caO33lZS"
   },
   "outputs": [],
   "source": [
    "# Merge data\n",
    "hdmc_data = reduce(lambda x,y: pd.merge(x,y, on=[\"Geography\", \"Geography Type\"], how='left'), [hdm_data.getDataFrame(),\n",
    "                                                                                                hd_data.getDataFrame(),\n",
    "                                                                                                erv_data.getDataFrame(),\n",
    "                                                                                                hd_discharge.getDataFrame()])"
   ]
  },
  {
   "cell_type": "code",
   "execution_count": null,
   "metadata": {
    "colab": {
     "base_uri": "https://localhost:8080/"
    },
    "id": "y4WWvyqE3lZS",
    "outputId": "0b013672-d7b5-4b6c-f266-c7afd660e685"
   },
   "outputs": [],
   "source": [
    "#Retrieve personal income data from website\n",
    "pcpi= pd.read_html('https://meric.mo.gov/data/income-measures/county-per-capita-personal-income', header = 1)\n",
    "len(pcpi)"
   ]
  },
  {
   "cell_type": "code",
   "execution_count": null,
   "metadata": {
    "id": "yoR-rW1k3lZT"
   },
   "outputs": [],
   "source": [
    "pcpi1 = pcpi[1]"
   ]
  },
  {
   "cell_type": "code",
   "execution_count": null,
   "metadata": {
    "colab": {
     "base_uri": "https://localhost:8080/"
    },
    "id": "nz5p7Gh43lZU",
    "outputId": "2d889276-b64b-475e-bf1d-4dfb8ca9a6a0"
   },
   "outputs": [],
   "source": [
    "# reshape dataframe\n",
    "pi1 = pcpi1[pcpi1.columns[0:3]]\n",
    "pi2 = pcpi1[pcpi1.columns[5:8]]\n",
    "pi2.columns = pi1.columns\n",
    "pi2['Area'] = pi2['Area'].replace(['St. Louis', 'St. Louis City'], ['St. Louis City', 'St. Louis County'])"
   ]
  },
  {
   "cell_type": "code",
   "execution_count": null,
   "metadata": {
    "id": "9yqQYX6D3lZV"
   },
   "outputs": [],
   "source": [
    "pi = pi1.append(pi2)\n",
    "pi.columns = ['Geography', '2016 Per Capita Income', '2017 Per Capita Income']"
   ]
  },
  {
   "cell_type": "code",
   "execution_count": null,
   "metadata": {
    "id": "kF8sjoxi3lZV"
   },
   "outputs": [],
   "source": [
    "# Convert income data to numeric and append to heart disease mortality dataframe.\n",
    "pi['2016 Per Capita Income'] = pi['2016 Per Capita Income'].str[1:].str.replace(',', '').astype(float)\n",
    "pi['2017 Per Capita Income'] = pi['2017 Per Capita Income'].str[1:].str.replace(',', '').astype(float)\n",
    "hdmc_data['2016 Per Capita Income'] = pi['2016 Per Capita Income'].values\n",
    "hdmc_data['2017 Per Capita Income'] = pi['2017 Per Capita Income'].values"
   ]
  },
  {
   "cell_type": "code",
   "execution_count": null,
   "metadata": {
    "colab": {
     "base_uri": "https://localhost:8080/"
    },
    "id": "mfwjTdvA3lZW",
    "outputId": "35e97216-e638-4bff-ff6c-fa080be98942"
   },
   "outputs": [],
   "source": [
    "# Retrieve county land area data\n",
    "lands = pd.read_html('https://www.indexmundi.com/facts/united-states/quick-facts/missouri/land-area#table')\n",
    "len(lands)"
   ]
  },
  {
   "cell_type": "code",
   "execution_count": null,
   "metadata": {
    "id": "kMDOO3fP3lZX"
   },
   "outputs": [],
   "source": [
    "# Manipulate land area data: change data columns name, add Missouri land area data to first row, sort data by county names.\n",
    "land = lands[0]\n",
    "land.columns= ['Geography', 'Area']\n",
    "new_row = pd.DataFrame({'Geography':'Missouri', 'Area': 68741.52}, index = [0])\n",
    "land = pd.concat([new_row, land]).reset_index(drop = True)\n",
    "land.iloc[101,0] = 'St. Louis county'\n",
    "land = land.sort_values(by ='Geography')"
   ]
  },
  {
   "cell_type": "code",
   "execution_count": null,
   "metadata": {
    "colab": {
     "base_uri": "https://localhost:8080/"
    },
    "id": "D5aLxBxA3lZZ",
    "outputId": "4972b7aa-d9fe-4b3b-dec0-bc1c5b78014d"
   },
   "outputs": [],
   "source": [
    "hdmc_data.columns"
   ]
  },
  {
   "cell_type": "markdown",
   "metadata": {
    "id": "ngSzjyTQ3lZa"
   },
   "source": [
    "####  Risk factors for heart disease\n",
    "To read heart disease risk factors data from local files - data downloaded from Missouri Public Health Information Management System. The data include Risk Factors for Heart Disease Among Adults 18 Years and Older.\n",
    "<br>\n"
   ]
  },
  {
   "cell_type": "code",
   "execution_count": null,
   "metadata": {},
   "outputs": [],
   "source": [
    "# read adults 18 years and older with high blood pressure data by using readfiles function\n",
    "high_bp = InputModule('csv')\n",
    "high_bp.readfiles('blood pressure.csv')"
   ]
  },
  {
   "cell_type": "code",
   "execution_count": null,
   "metadata": {},
   "outputs": [],
   "source": [
    "# read high cholesterol data\n",
    "high_chol = InputModule('excel')\n",
    "high_chol.readfiles('high_cholestrol_data.xlsx')"
   ]
  },
  {
   "cell_type": "code",
   "execution_count": null,
   "metadata": {
    "id": "SZtP5z0W3lZc"
   },
   "outputs": [],
   "source": [
    "# read current smoking data\n",
    "smoking = InputModule('excel')\n",
    "smoking.readfiles('current smoking.xlsx')"
   ]
  },
  {
   "cell_type": "code",
   "execution_count": null,
   "metadata": {
    "id": "zn6DxmE13lZd"
   },
   "outputs": [],
   "source": [
    "# read diabetes data\n",
    "diabetes = InputModule('excel')\n",
    "diabetes.readfiles('diabetes_data.xlsx')"
   ]
  },
  {
   "cell_type": "code",
   "execution_count": null,
   "metadata": {
    "id": "7MYP2wX43lZg"
   },
   "outputs": [],
   "source": [
    "# read obesity data\n",
    "obesity = InputModule('excel')\n",
    "obesity.readfiles('obesity_data.xlsx')"
   ]
  },
  {
   "cell_type": "code",
   "execution_count": null,
   "metadata": {
    "id": "Vh_Jt3gq3lZh"
   },
   "outputs": [],
   "source": [
    "# read overweight data\n",
    "over_wt = InputModule('excel')\n",
    "over_wt.readfiles('overweight_data.xlsx')"
   ]
  },
  {
   "cell_type": "code",
   "execution_count": null,
   "metadata": {
    "id": "xpk5yrvR3lZj"
   },
   "outputs": [],
   "source": [
    "# read physical inactivity data\n",
    "ph_inactive = InputModule('excel')\n",
    "ph_inactive.readfiles('physical_inactivity_data.xlsx')"
   ]
  },
  {
   "cell_type": "code",
   "execution_count": null,
   "metadata": {
    "id": "AkuFEGVq3lZm"
   },
   "outputs": [],
   "source": [
    "# transform data frames\n",
    "high_bp.formatDataFrame('High Blood Pressure',2)\n",
    "high_chol.formatDataFrame('High Cholesterol',2)\n",
    "smoking.formatDataFrame('Smoking',2)\n",
    "diabetes.formatDataFrame('Diabetes',2)\n",
    "obesity.formatDataFrame('Obesity',2)\n",
    "over_wt.formatDataFrame('Overweight',2)\n",
    "ph_inactive.formatDataFrame('Physical Inactivity',2)"
   ]
  },
  {
   "cell_type": "code",
   "execution_count": null,
   "metadata": {
    "colab": {
     "base_uri": "https://localhost:8080/"
    },
    "id": "QjT_kIx_3lZm",
    "outputId": "4feeea4e-8786-45c0-ce11-b63255cd85d0"
   },
   "outputs": [],
   "source": [
    "ph_inactive.dataFrame.columns"
   ]
  },
  {
   "cell_type": "code",
   "execution_count": null,
   "metadata": {
    "id": "u-7Yxc5a3lZn"
   },
   "outputs": [],
   "source": [
    "from functools import reduce"
   ]
  },
  {
   "cell_type": "code",
   "execution_count": null,
   "metadata": {
    "id": "fKP6CQu53lZn"
   },
   "outputs": [],
   "source": [
    "# merge data\n",
    "riskfactors = reduce(lambda x,y: pd.merge(x,y, on=[\"Geography\", \"Geography Type\", \"Data Years\"], how='left'), [high_bp.getDataFrame(), high_chol.getDataFrame(), smoking.getDataFrame(), diabetes.getDataFrame(), obesity.getDataFrame(), over_wt.getDataFrame(), ph_inactive.getDataFrame()])"
   ]
  },
  {
   "cell_type": "code",
   "execution_count": null,
   "metadata": {
    "id": "d_FLOJz83lZo"
   },
   "outputs": [],
   "source": [
    "rf1 = hdmc_data[['Geography', 'Geography Type','2016 Per Capita Income']]"
   ]
  },
  {
   "cell_type": "code",
   "execution_count": null,
   "metadata": {
    "id": "TH7IkdWx3lZo"
   },
   "outputs": [],
   "source": [
    "# Merge heart disease, heart disease mortality, population density, income data to risk factors data\n",
    "hd_riskfactors = reduce(lambda x,y: pd.merge(x,y, on=[\"Geography\", \"Geography Type\"], how='left'), [hd_data.getDataFrame(), hdm_data.getDataFrame(), riskfactors])"
   ]
  },
  {
   "cell_type": "markdown",
   "metadata": {
    "id": "gehJ-Ml83lZp"
   },
   "source": [
    "### 2. Data visualization"
   ]
  },
  {
   "cell_type": "markdown",
   "metadata": {
    "id": "Bl1pAiO43lZp"
   },
   "source": [
    "####  Missouri's major causes of mortality from 2014 to 2017"
   ]
  },
  {
   "cell_type": "code",
   "execution_count": null,
   "metadata": {
    "colab": {
     "base_uri": "https://localhost:8080/",
     "height": 267
    },
    "id": "Mzyz8Z3f3lZq",
    "outputId": "e9c95dcc-ee0e-4bb7-804f-e533c10f2e58"
   },
   "outputs": [],
   "source": [
    "# long to wide to pivot leading causes data to show the death rate\n",
    "lcd_data.pivot(index='Year', columns='MO Leading Causes of Death', values='Rate')"
   ]
  },
  {
   "cell_type": "code",
   "execution_count": null,
   "metadata": {
    "id": "6NwLXksP3lZs"
   },
   "outputs": [],
   "source": [
    "import matplotlib.pyplot as plt\n",
    "import seaborn as sns"
   ]
  },
  {
   "cell_type": "code",
   "execution_count": null,
   "metadata": {
    "colab": {
     "base_uri": "https://localhost:8080/",
     "height": 478
    },
    "id": "JpuPEdbI3lZs",
    "outputId": "cf5597e4-def9-4b4f-e631-70606da76c55"
   },
   "outputs": [],
   "source": [
    "sns.barplot(x='MO Leading Causes of Death', y='Rate', data=lcd_data)\n",
    "plt.xticks(rotation=90)"
   ]
  },
  {
   "cell_type": "markdown",
   "metadata": {
    "id": "Wq-haear3lZu"
   },
   "source": [
    "* Interpretation: According to the table and graph, Heart disease is the top cause of death in Missouri, with a modest decrease in the incidence from 2014 to 2017."
   ]
  },
  {
   "cell_type": "markdown",
   "metadata": {
    "id": "t2d5ojMO3lZv"
   },
   "source": [
    "####  Missouri resident heart disease mortality, hospitalizaitons, emergency room visits data and the relations."
   ]
  },
  {
   "cell_type": "code",
   "execution_count": null,
   "metadata": {
    "colab": {
     "base_uri": "https://localhost:8080/",
     "height": 245
    },
    "id": "htY090UH3lZv",
    "outputId": "425a9152-5366-4eca-c3af-183fa90bf817"
   },
   "outputs": [],
   "source": [
    "hdmc_data.head(2)"
   ]
  },
  {
   "cell_type": "code",
   "execution_count": null,
   "metadata": {
    "id": "-tM3V01E3lZw"
   },
   "outputs": [],
   "source": [
    "# Calulate the maximum and minimum values and display the counties with maxium value or minium value\n",
    "filter = hdmc_data['Geography Type'] == 'County'\n",
    "df = hdmc_data[filter]\n",
    "columnlist = [ 'HD Mortality_Rate','Heart Disease_Weighted Percent', \\\n",
    "          'HD Emergency Room Visits_Rate', 'HD Hospitalizations_Rate','2016 Per Capita Income']"
   ]
  },
  {
   "cell_type": "code",
   "execution_count": null,
   "metadata": {
    "id": "tsc57jJH3lZx"
   },
   "outputs": [],
   "source": [
    "# Function to calulate the maximum and minimum values and display the counties with maxium value or minium value\n",
    "\n",
    "def stat(df, columnlist):\n",
    "    \"\"\"(filepath, list) -> dataframe\n",
    "    \n",
    "    This function returns a new dataframe with statistic data.\"\"\"\n",
    "    sdata ={}\n",
    "    for col in columnlist:\n",
    "        ma = df[col].max()\n",
    "        mal = df.loc[df[col] == df[col].max(), 'Geography'].values\n",
    "        mi = df[col].min()\n",
    "        mil = df.loc[df[col] == df[col].min(), 'Geography'].values\n",
    "        me = df[col].mean()\n",
    "        sdata[col] = {'County with maximum value': mal, 'Maximum value': ma, 'County with minimum value': mil, 'Minimum value': mi, \\\n",
    "                     'Average value': me}\n",
    "\n",
    "    return(pd.DataFrame.from_dict(sdata))"
   ]
  },
  {
   "cell_type": "code",
   "execution_count": null,
   "metadata": {
    "colab": {
     "base_uri": "https://localhost:8080/",
     "height": 302
    },
    "id": "bWnmdqIR3lZz",
    "outputId": "4c82abb6-7a06-4991-d78b-68bc9f8000cf"
   },
   "outputs": [],
   "source": [
    "stat(df, columnlist)"
   ]
  },
  {
   "cell_type": "code",
   "execution_count": null,
   "metadata": {
    "colab": {
     "base_uri": "https://localhost:8080/",
     "height": 1000
    },
    "id": "OQ4rsCxo3lZ0",
    "outputId": "812cedd5-85dc-44d8-ccf9-ce325c319f12"
   },
   "outputs": [],
   "source": [
    "hdmc_data[columnlist].hist(figsize=(18,15))"
   ]
  },
  {
   "cell_type": "code",
   "execution_count": null,
   "metadata": {
    "id": "THI_Fdcl3lZ2"
   },
   "outputs": [],
   "source": [
    "hdmc_data['2016 Per Capita Income/1000'] = hdmc_data['2016 Per Capita Income']/1000"
   ]
  },
  {
   "cell_type": "code",
   "execution_count": null,
   "metadata": {
    "id": "P8Ck5KfM3lZ3"
   },
   "outputs": [],
   "source": [
    "plist = hdmc_data[['HD Mortality_Rate','Heart Disease_Weighted Percent', 'HD Emergency Room Visits_Rate', \\\n",
    "          'HD Hospitalizations_Rate', '2016 Per Capita Income/1000']].copy()"
   ]
  },
  {
   "cell_type": "code",
   "execution_count": null,
   "metadata": {
    "colab": {
     "base_uri": "https://localhost:8080/",
     "height": 920
    },
    "id": "9KeYB4jd3lZ3",
    "outputId": "292b7ab9-9b8e-4afe-e659-104a1b8debe4"
   },
   "outputs": [],
   "source": [
    "sns.pairplot(plist)"
   ]
  },
  {
   "cell_type": "markdown",
   "metadata": {
    "id": "uH2lEurO3lZ4"
   },
   "source": [
    "* Interpretation: According to the graphs, the incidence of heart disease death is linked to the rate of heart disease emergency department visits and heart disease hospitalization. The number of emergency department visits is linked to the number of inpatient discharges with a primary diagnosis of heart disease. Per capita income appears to be inversely associated with heart disease mortality in 2016."
   ]
  },
  {
   "cell_type": "code",
   "execution_count": null,
   "metadata": {
    "colab": {
     "base_uri": "https://localhost:8080/",
     "height": 297
    },
    "id": "Mno7AW9l3lZ5",
    "outputId": "5ac007a2-d308-489f-bf45-6c9f4550e7d0"
   },
   "outputs": [],
   "source": [
    "ax = sns.regplot(data=hdmc_data, x='HD Mortality_Rate', y='HD Emergency Room Visits_Rate', order=2, label='HD Emergency Room Visits_Rate')\n",
    "sns.regplot(data=hdmc_data, x='HD Mortality_Rate', y='HD Hospitalizations_Rate', label='HD Hospitalizations_Rate', ax=ax)\n",
    "ax.legend()\n",
    "ax.set_ylabel('Rate')\n",
    "ax.set_xlabel('Heart Disease Mortality_Rate')"
   ]
  },
  {
   "cell_type": "code",
   "execution_count": null,
   "metadata": {
    "colab": {
     "base_uri": "https://localhost:8080/",
     "height": 297
    },
    "id": "9pO6zs733lZ6",
    "outputId": "50b1f890-4f6f-4fe5-c944-0dcff6f9a692"
   },
   "outputs": [],
   "source": [
    "ax = sns.regplot(data=hdmc_data, x='HD Mortality_Rate', y='2016 Per Capita Income/1000', label='2016 Per Capita Income/1000')\n",
    "ax.legend()\n",
    "ax.set_ylabel('2016 Per Capita Income/1000')\n",
    "ax.set_xlabel('Heart Disease Mortality_Rate')"
   ]
  },
  {
   "cell_type": "markdown",
   "metadata": {
    "id": "ETZYddBb3lZ6"
   },
   "source": [
    "#### Heart disease commom risk factors"
   ]
  },
  {
   "cell_type": "code",
   "execution_count": null,
   "metadata": {
    "colab": {
     "base_uri": "https://localhost:8080/"
    },
    "id": "sruTz5V_3lZ7",
    "outputId": "f3b3fb55-0316-4f5c-dfe9-00b13a8e935e"
   },
   "outputs": [],
   "source": [
    "hd_riskfactors.columns"
   ]
  },
  {
   "cell_type": "code",
   "execution_count": null,
   "metadata": {
    "id": "RTuhuHlv3lZ7"
   },
   "outputs": [],
   "source": [
    "# Calulate the maximum, minimum and average values and display the counties with maximum value or minimum value\n",
    "filter = hd_riskfactors['Geography Type'] == 'County'\n",
    "df2 = hd_riskfactors[filter]\n",
    "columnlist2 = [ 'HD Mortality_Rate','Heart Disease_Weighted Percent', 'High Blood Pressure_Weighted Percent',\\\n",
    "               'High Cholesterol_Weighted Percent','Smoking_Weighted Percent','Diabetes_Weighted Percent','Obesity_Weighted Percent', \\\n",
    "               'Overweight_Weighted Percent','Physical Inactivity_Weighted Percent']"
   ]
  },
  {
   "cell_type": "code",
   "execution_count": null,
   "metadata": {
    "colab": {
     "base_uri": "https://localhost:8080/",
     "height": 461
    },
    "id": "hKw16Ll-3lZ7",
    "outputId": "5b512fc9-b072-4ed5-d090-d388877ac493"
   },
   "outputs": [],
   "source": [
    "stat(df2, columnlist2)"
   ]
  },
  {
   "cell_type": "code",
   "execution_count": null,
   "metadata": {
    "colab": {
     "base_uri": "https://localhost:8080/",
     "height": 1000
    },
    "id": "xWkGS_Yc3lZ8",
    "outputId": "25d14740-49aa-4656-ad84-61dc846f6653"
   },
   "outputs": [],
   "source": [
    "clists = columnlist2[2:]\n",
    "for i in clists:\n",
    "    ax = sns.regplot(data=hd_riskfactors, x='HD Mortality_Rate', y=i, label=i)\n",
    "    ax.legend()\n",
    "    ax.set_ylabel('Risk Factors')\n",
    "    ax.set_xlabel('Heart Disease Mortality_Rate')\n",
    "    plt.show()"
   ]
  },
  {
   "cell_type": "code",
   "execution_count": null,
   "metadata": {
    "colab": {
     "base_uri": "https://localhost:8080/",
     "height": 1000
    },
    "id": "OAv0zcne3lZ8",
    "outputId": "c89add96-dfc8-47d0-d340-94feadd19ee8"
   },
   "outputs": [],
   "source": [
    "clists = columnlist2[2:]\n",
    "for i in clists:\n",
    "    ax = sns.lmplot(data=hd_riskfactors, x=\"Heart Disease_Weighted Percent\", y=i)\n",
    "    plt.show()"
   ]
  },
  {
   "cell_type": "code",
   "execution_count": null,
   "metadata": {
    "colab": {
     "base_uri": "https://localhost:8080/",
     "height": 1000
    },
    "id": "LO_LeSlX3lZ8",
    "outputId": "1cf2c76e-5df2-4e22-bd6d-cdc1a62360d7"
   },
   "outputs": [],
   "source": [
    "for i in columnlist2[3:7]:\n",
    "    ax = sns.regplot(data=hd_riskfactors, x='High Blood Pressure_Weighted Percent', y=i, label=i)\n",
    "    ax.legend()\n",
    "    ax.set_ylabel('Risk Factors')\n",
    "    ax.set_xlabel('High Blood Pressure_Weighted Percent')\n",
    "    plt.show()"
   ]
  },
  {
   "cell_type": "markdown",
   "metadata": {
    "id": "qKDCh8TI3lZ9"
   },
   "source": [
    "* Interpretation: It appears that current smoking, obesity, overweight, and physical inactivity have a positive connection with heart disease mortality. Heart disease and average personal income have negative connections."
   ]
  },
  {
   "cell_type": "markdown",
   "metadata": {
    "id": "kMiSGACC3lZ9"
   },
   "source": [
    "### 3. Correlation Analysis"
   ]
  },
  {
   "cell_type": "code",
   "execution_count": null,
   "metadata": {
    "id": "hs_Ngn453lZ9"
   },
   "outputs": [],
   "source": [
    "from scipy.stats import pearsonr"
   ]
  },
  {
   "cell_type": "code",
   "execution_count": null,
   "metadata": {
    "id": "i6epGyCz3lZ9"
   },
   "outputs": [],
   "source": [
    "def correlations(dt1, dt2, columnlists):\n",
    "    \"\"\"(dataframe, dataframe, list) -> print\n",
    "    \n",
    "    This function calculate and print the coefficent and p-value.\"\"\"\n",
    "    for i in columnlists:\n",
    "        a = pearsonr(dt1, dt2[i])\n",
    "        print(dt1.name+', '+ i +': coefficent: {}, p-value: {}'.format(round(a[0], 5), round(a[1],5)))"
   ]
  },
  {
   "cell_type": "code",
   "execution_count": null,
   "metadata": {
    "colab": {
     "base_uri": "https://localhost:8080/"
    },
    "id": "NRp_0SJI3lZ-",
    "outputId": "cbc218e4-7336-4d69-96ff-a2ac01613a5c"
   },
   "outputs": [],
   "source": [
    "correlations(hdmc_data['HD Mortality_Rate'], hdmc_data, columnlist[2:])"
   ]
  },
  {
   "cell_type": "markdown",
   "metadata": {
    "id": "aVpURktB3laE"
   },
   "source": [
    "* Interpretation: Because the sample sizes are limited, certain correlation coefficients are not significant. Other state data could be added in the future to increase sample sizes."
   ]
  },
  {
   "cell_type": "markdown",
   "metadata": {},
   "source": [
    "---\n",
    "\n",
    "\n",
    "\n",
    "### Submitting Your Work\n",
    "\n",
    "In order to submit your work, you'll need to use the `git` command line program to **add** your homework file (this file) to your local repository, **commit** your changes to your local repository, and then **push** those changes up to github.com.  From there, I'll be able to **pull** the changes down and do my grading.  I'll provide some feedback, **commit** and **push** my comments back to you.  Next week, I'll show you how to **pull** down my comments.\n",
    "\n",
    "To run through everything one last time and submit your work:\n",
    "1. Use the `Kernel` -> `Restart Kernel and Run All Cells` menu option to run everything from top to bottom and stop here.\n",
    "2. Follow the instruction on the prompt below to either ssave and submit your work, or continue working.\n",
    "\n",
    "If anything fails along the way with this submission part of the process, let me know.  I'll help you troubleshoort."
   ]
  },
  {
   "cell_type": "code",
   "execution_count": null,
   "metadata": {},
   "outputs": [],
   "source": [
    "a=input('''\n",
    "Are you ready to submit your work?\n",
    "1. Click the Save icon (or do Ctrl-S / Cmd-S)\n",
    "2. Type \"yes\" or \"no\" below\n",
    "3. Press Enter\n",
    "\n",
    "''')\n",
    "\n",
    "if a=='yes':\n",
    "    !git pull\n",
    "    !git add Final.ipynb\n",
    "    !git commit -a -m \"Submitting the Final programming assignment\"\n",
    "    !git push\n",
    "else:\n",
    "    print('''\n",
    "    \n",
    "OK. We can wait.\n",
    "''')"
   ]
  }
 ],
 "metadata": {
  "colab": {
   "name": "shiva.ipynb",
   "provenance": []
  },
  "kernelspec": {
   "display_name": "Python 3",
   "language": "python",
   "name": "python3"
  },
  "language_info": {
   "codemirror_mode": {
    "name": "ipython",
    "version": 3
   },
   "file_extension": ".py",
   "mimetype": "text/x-python",
   "name": "python",
   "nbconvert_exporter": "python",
   "pygments_lexer": "ipython3",
   "version": "3.6.7"
  }
 },
 "nbformat": 4,
 "nbformat_minor": 2
}
