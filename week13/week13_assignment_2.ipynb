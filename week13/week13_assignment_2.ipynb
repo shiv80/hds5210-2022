{
 "cells": [
  {
   "cell_type": "markdown",
   "metadata": {
    "nbgrader": {
     "grade": false,
     "grade_id": "cell-fc1c39d0d6f8b82a",
     "locked": true,
     "schema_version": 1,
     "solution": false
    }
   },
   "source": [
    "# Week 13 Programming Assignment\n",
    "\n",
    "As you're working on identifying data for your final project, it's helpful to spend some time exploring your various data files.  For this week's assignment, I'd like you to take a few of the ideas from the the lectures, review assignment, and tonight's lecture to start exploring the data you plan to use for the final project.\n",
    "\n",
    "For the following activities, you can use just one of the data files that you've identified, or you can do the activities using different data files.  That's up to you.  Please describe what you're doing in a Markdown cell or in the comments of your code.  When you've completed the assignment, submit it as normal."
   ]
  },
  {
   "cell_type": "markdown",
   "metadata": {},
   "source": [
    "### 1. Basic Statistics\n",
    "\n",
    "Use Python to read in your data file and show many rows and columns your data has."
   ]
  },
  {
   "cell_type": "code",
   "execution_count": 1,
   "metadata": {},
   "outputs": [],
   "source": [
    "import pandas as pd"
   ]
  },
  {
   "cell_type": "code",
   "execution_count": 2,
   "metadata": {},
   "outputs": [
    {
     "name": "stderr",
     "output_type": "stream",
     "text": [
      "/opt/tljh/user/lib/python3.6/site-packages/ipykernel_launcher.py:3: ParserWarning: Falling back to the 'python' engine because the 'c' engine does not support skipfooter; you can avoid this warning by specifying engine='python'.\n",
      "  This is separate from the ipykernel package so we can avoid doing imports until\n"
     ]
    }
   ],
   "source": [
    "# read Missouri county level Angina or coronary heart disease datafile (2019)--data derived from 'yes' response to the following question:'Has a doctor, nurse, or other health professional ever told you had angina or coronary heart disease?'# '\n",
    "\n",
    "coronary_hd = pd.read_csv('coronary.csv',header =2, skipfooter = 3)"
   ]
  },
  {
   "cell_type": "code",
   "execution_count": 3,
   "metadata": {},
   "outputs": [
    {
     "name": "stderr",
     "output_type": "stream",
     "text": [
      "/opt/tljh/user/lib/python3.6/site-packages/ipykernel_launcher.py:2: ParserWarning: Falling back to the 'python' engine because the 'c' engine does not support skipfooter; you can avoid this warning by specifying engine='python'.\n",
      "  \n"
     ]
    }
   ],
   "source": [
    "# read Missori county level risk factors for heart disease among adults 18 years and older high blood pressure datafile and current smoking datafile#\n",
    "riskfactors_hbp = pd.read_csv('blood pressure.csv', header=2, skipfooter = 3)\n",
    "riskfactors_smoking = pd.read_excel('current smoking.xlsx', header =2, skipfooter =3)"
   ]
  },
  {
   "cell_type": "code",
   "execution_count": 4,
   "metadata": {},
   "outputs": [],
   "source": [
    "def remove_col(dataframe):\n",
    "    dataframe = dataframe.drop(['Lower 95% Confidence Limit', 'Upper 95% Confidence Limit', 'Significantly Different'], axis = 1)\n",
    "    \n",
    "    return dataframe"
   ]
  },
  {
   "cell_type": "code",
   "execution_count": 5,
   "metadata": {},
   "outputs": [],
   "source": [
    "coronary_hd = remove_col(coronary_hd)\n",
    "riskfactors_hbp=remove_col(riskfactors_hbp)\n",
    "riskfactors_smoking = remove_col(riskfactors_smoking).copy()"
   ]
  },
  {
   "cell_type": "code",
   "execution_count": 6,
   "metadata": {},
   "outputs": [],
   "source": [
    "#remove some columns, keep columns:['Geography', 'Geography Type', 'Data Years', 'Population Estimate','Weighted Percent'], and merge datafiles#\n",
    "coronary_hd= coronary_hd.rename(columns={'Population Estimate':'hd_Population Estimate', 'Weighted Percent': 'hd_Weighted Percent', 'Data Years': 'HD_Date Year'})"
   ]
  },
  {
   "cell_type": "code",
   "execution_count": 7,
   "metadata": {},
   "outputs": [],
   "source": [
    "riskfactors_hbp= riskfactors_hbp.rename(columns={'Population Estimate':'HBP_Population Estimate', 'Weighted Percent': 'HBP_Weighted Percent'})\n",
    "riskfactors_smoking= riskfactors_smoking.rename(columns={'Population Estimate':'smoking_Population Estimate', 'Weighted Percent': 'smoking_Weighted Percent'})"
   ]
  },
  {
   "cell_type": "code",
   "execution_count": 8,
   "metadata": {},
   "outputs": [],
   "source": [
    "riskfactors = pd.merge(riskfactors_hbp, riskfactors_smoking, how=\"left\", on=[\"Geography\", \"Geography Type\", \"Data Years\"])\n",
    "riskfactors = riskfactors.rename(columns = {'Data Years':'Riskfactors_Data Years'})"
   ]
  },
  {
   "cell_type": "code",
   "execution_count": 9,
   "metadata": {},
   "outputs": [],
   "source": [
    "hd_rfs = pd.merge(coronary_hd, riskfactors, how = 'left', on=[\"Geography\", \"Geography Type\"] )"
   ]
  },
  {
   "cell_type": "code",
   "execution_count": 10,
   "metadata": {},
   "outputs": [
    {
     "name": "stdout",
     "output_type": "stream",
     "text": [
      "The merged data file has 123 rows and 10 columns.\n"
     ]
    }
   ],
   "source": [
    "hd_rfs.shape\n",
    "print(\"The merged data file has {} rows and {} columns.\".format(hd_rfs.shape[0], hd_rfs.shape[1]))"
   ]
  },
  {
   "cell_type": "code",
   "execution_count": 11,
   "metadata": {},
   "outputs": [
    {
     "data": {
      "text/html": [
       "<div>\n",
       "<style scoped>\n",
       "    .dataframe tbody tr th:only-of-type {\n",
       "        vertical-align: middle;\n",
       "    }\n",
       "\n",
       "    .dataframe tbody tr th {\n",
       "        vertical-align: top;\n",
       "    }\n",
       "\n",
       "    .dataframe thead th {\n",
       "        text-align: right;\n",
       "    }\n",
       "</style>\n",
       "<table border=\"1\" class=\"dataframe\">\n",
       "  <thead>\n",
       "    <tr style=\"text-align: right;\">\n",
       "      <th></th>\n",
       "      <th>Geography</th>\n",
       "      <th>Geography Type</th>\n",
       "      <th>HD_Date Year</th>\n",
       "      <th>hd_Population Estimate</th>\n",
       "      <th>hd_Weighted Percent</th>\n",
       "      <th>Riskfactors_Data Years</th>\n",
       "      <th>HBP_Population Estimate</th>\n",
       "      <th>HBP_Weighted Percent</th>\n",
       "      <th>smoking_Population Estimate</th>\n",
       "      <th>smoking_Weighted Percent</th>\n",
       "    </tr>\n",
       "  </thead>\n",
       "  <tbody>\n",
       "    <tr>\n",
       "      <th>0</th>\n",
       "      <td>Missouri</td>\n",
       "      <td>Statewide</td>\n",
       "      <td>2019</td>\n",
       "      <td>207,371</td>\n",
       "      <td>4.4</td>\n",
       "      <td>2016</td>\n",
       "      <td>1,590,674</td>\n",
       "      <td>33.8</td>\n",
       "      <td>1035350.0</td>\n",
       "      <td>22.0</td>\n",
       "    </tr>\n",
       "    <tr>\n",
       "      <th>1</th>\n",
       "      <td>Central</td>\n",
       "      <td>BRFSS Region</td>\n",
       "      <td>2019</td>\n",
       "      <td>25,686</td>\n",
       "      <td>4.5</td>\n",
       "      <td>2016</td>\n",
       "      <td>185,172</td>\n",
       "      <td>32.8</td>\n",
       "      <td>120813.0</td>\n",
       "      <td>21.4</td>\n",
       "    </tr>\n",
       "    <tr>\n",
       "      <th>2</th>\n",
       "      <td>Kansas City Metro</td>\n",
       "      <td>BRFSS Region</td>\n",
       "      <td>2019</td>\n",
       "      <td>28,688</td>\n",
       "      <td>3.0</td>\n",
       "      <td>2016</td>\n",
       "      <td>313,842</td>\n",
       "      <td>33.5</td>\n",
       "      <td>208916.0</td>\n",
       "      <td>22.3</td>\n",
       "    </tr>\n",
       "    <tr>\n",
       "      <th>3</th>\n",
       "      <td>Northeast</td>\n",
       "      <td>BRFSS Region</td>\n",
       "      <td>2019</td>\n",
       "      <td>10,691</td>\n",
       "      <td>5.6</td>\n",
       "      <td>2016</td>\n",
       "      <td>69,617</td>\n",
       "      <td>35.8</td>\n",
       "      <td>47837.0</td>\n",
       "      <td>24.6</td>\n",
       "    </tr>\n",
       "    <tr>\n",
       "      <th>4</th>\n",
       "      <td>Northwest</td>\n",
       "      <td>BRFSS Region</td>\n",
       "      <td>2019</td>\n",
       "      <td>10,080</td>\n",
       "      <td>5.4</td>\n",
       "      <td>2016</td>\n",
       "      <td>60,439</td>\n",
       "      <td>32.2</td>\n",
       "      <td>42608.0</td>\n",
       "      <td>22.7</td>\n",
       "    </tr>\n",
       "    <tr>\n",
       "      <th>...</th>\n",
       "      <td>...</td>\n",
       "      <td>...</td>\n",
       "      <td>...</td>\n",
       "      <td>...</td>\n",
       "      <td>...</td>\n",
       "      <td>...</td>\n",
       "      <td>...</td>\n",
       "      <td>...</td>\n",
       "      <td>...</td>\n",
       "      <td>...</td>\n",
       "    </tr>\n",
       "    <tr>\n",
       "      <th>118</th>\n",
       "      <td>Washington</td>\n",
       "      <td>County</td>\n",
       "      <td>2019</td>\n",
       "      <td>25,686</td>\n",
       "      <td>4.5</td>\n",
       "      <td>2016</td>\n",
       "      <td>8,260</td>\n",
       "      <td>43.2</td>\n",
       "      <td>6767.0</td>\n",
       "      <td>35.4</td>\n",
       "    </tr>\n",
       "    <tr>\n",
       "      <th>119</th>\n",
       "      <td>Wayne</td>\n",
       "      <td>County</td>\n",
       "      <td>2019</td>\n",
       "      <td>24,660</td>\n",
       "      <td>5.7</td>\n",
       "      <td>2016</td>\n",
       "      <td>5,141</td>\n",
       "      <td>49.2</td>\n",
       "      <td>2848.0</td>\n",
       "      <td>27.2</td>\n",
       "    </tr>\n",
       "    <tr>\n",
       "      <th>120</th>\n",
       "      <td>Webster</td>\n",
       "      <td>County</td>\n",
       "      <td>2019</td>\n",
       "      <td>42,127</td>\n",
       "      <td>5.7</td>\n",
       "      <td>2016</td>\n",
       "      <td>9,832</td>\n",
       "      <td>35.4</td>\n",
       "      <td>NaN</td>\n",
       "      <td>NaN</td>\n",
       "    </tr>\n",
       "    <tr>\n",
       "      <th>121</th>\n",
       "      <td>Worth</td>\n",
       "      <td>County</td>\n",
       "      <td>2019</td>\n",
       "      <td>10,080</td>\n",
       "      <td>5.4</td>\n",
       "      <td>2016</td>\n",
       "      <td>728</td>\n",
       "      <td>45.1</td>\n",
       "      <td>NaN</td>\n",
       "      <td>NaN</td>\n",
       "    </tr>\n",
       "    <tr>\n",
       "      <th>122</th>\n",
       "      <td>Wright</td>\n",
       "      <td>County</td>\n",
       "      <td>2019</td>\n",
       "      <td>24,660</td>\n",
       "      <td>5.7</td>\n",
       "      <td>2016</td>\n",
       "      <td>5,281</td>\n",
       "      <td>38.7</td>\n",
       "      <td>NaN</td>\n",
       "      <td>NaN</td>\n",
       "    </tr>\n",
       "  </tbody>\n",
       "</table>\n",
       "<p>123 rows × 10 columns</p>\n",
       "</div>"
      ],
      "text/plain": [
       "             Geography Geography Type  HD_Date Year hd_Population Estimate  \\\n",
       "0             Missouri      Statewide          2019                207,371   \n",
       "1              Central   BRFSS Region          2019                 25,686   \n",
       "2    Kansas City Metro   BRFSS Region          2019                 28,688   \n",
       "3            Northeast   BRFSS Region          2019                 10,691   \n",
       "4            Northwest   BRFSS Region          2019                 10,080   \n",
       "..                 ...            ...           ...                    ...   \n",
       "118         Washington         County          2019                 25,686   \n",
       "119              Wayne         County          2019                 24,660   \n",
       "120            Webster         County          2019                 42,127   \n",
       "121              Worth         County          2019                 10,080   \n",
       "122             Wright         County          2019                 24,660   \n",
       "\n",
       "     hd_Weighted Percent  Riskfactors_Data Years HBP_Population Estimate  \\\n",
       "0                    4.4                    2016               1,590,674   \n",
       "1                    4.5                    2016                 185,172   \n",
       "2                    3.0                    2016                 313,842   \n",
       "3                    5.6                    2016                  69,617   \n",
       "4                    5.4                    2016                  60,439   \n",
       "..                   ...                     ...                     ...   \n",
       "118                  4.5                    2016                   8,260   \n",
       "119                  5.7                    2016                   5,141   \n",
       "120                  5.7                    2016                   9,832   \n",
       "121                  5.4                    2016                     728   \n",
       "122                  5.7                    2016                   5,281   \n",
       "\n",
       "     HBP_Weighted Percent  smoking_Population Estimate  \\\n",
       "0                    33.8                    1035350.0   \n",
       "1                    32.8                     120813.0   \n",
       "2                    33.5                     208916.0   \n",
       "3                    35.8                      47837.0   \n",
       "4                    32.2                      42608.0   \n",
       "..                    ...                          ...   \n",
       "118                  43.2                       6767.0   \n",
       "119                  49.2                       2848.0   \n",
       "120                  35.4                          NaN   \n",
       "121                  45.1                          NaN   \n",
       "122                  38.7                          NaN   \n",
       "\n",
       "     smoking_Weighted Percent  \n",
       "0                        22.0  \n",
       "1                        21.4  \n",
       "2                        22.3  \n",
       "3                        24.6  \n",
       "4                        22.7  \n",
       "..                        ...  \n",
       "118                      35.4  \n",
       "119                      27.2  \n",
       "120                       NaN  \n",
       "121                       NaN  \n",
       "122                       NaN  \n",
       "\n",
       "[123 rows x 10 columns]"
      ]
     },
     "execution_count": 11,
     "metadata": {},
     "output_type": "execute_result"
    }
   ],
   "source": [
    "hd_rfs"
   ]
  },
  {
   "cell_type": "markdown",
   "metadata": {},
   "source": [
    "### 2. Data Diversity\n",
    "\n",
    "Use Python to identify how many unique values each column in your data has.  Use Python to identify which column has the greatest number of distinct values (aka the most diversity)?  If your data has a unique identifier (e.g. a person or visit or record ID) then find the column with the next most number of unique values."
   ]
  },
  {
   "cell_type": "code",
   "execution_count": 12,
   "metadata": {},
   "outputs": [
    {
     "data": {
      "text/plain": [
       "{'Geography': 123,\n",
       " 'Geography Type': 3,\n",
       " 'HD_Date Year': 1,\n",
       " 'hd_Population Estimate': 8,\n",
       " 'hd_Weighted Percent': 7,\n",
       " 'Riskfactors_Data Years': 1,\n",
       " 'HBP_Population Estimate': 123,\n",
       " 'HBP_Weighted Percent': 95,\n",
       " 'smoking_Population Estimate': 120,\n",
       " 'smoking_Weighted Percent': 88}"
      ]
     },
     "execution_count": 12,
     "metadata": {},
     "output_type": "execute_result"
    }
   ],
   "source": [
    "unumbers = {}\n",
    "for i in hd_rfs.columns:\n",
    "    a = len(hd_rfs[i].unique())\n",
    "    unumbers[i] = a\n",
    "unumbers"
   ]
  },
  {
   "cell_type": "code",
   "execution_count": 13,
   "metadata": {},
   "outputs": [
    {
     "name": "stdout",
     "output_type": "stream",
     "text": [
      "'Geography' column and 'HBP_Population Estimate' column have the greatest number of distinct values.\n"
     ]
    }
   ],
   "source": [
    "maxcols = []\n",
    "for i in unumbers:\n",
    "    if unumbers[i] == max(unumbers.values()):\n",
    "        maxcols.append(i)\n",
    "maxcols\n",
    "print(\"'{}' column and '{}' column have the greatest number of distinct values.\".format(maxcols[0],maxcols[1]))"
   ]
  },
  {
   "cell_type": "markdown",
   "metadata": {},
   "source": [
    "### 3. Data Redundancy\n",
    "\n",
    "Use Python to identify any columns in your data where the value for every row is the same.  For example, if you had a gender column and all the rows said 'M', then you would want to write the code that helped you determine that."
   ]
  },
  {
   "cell_type": "code",
   "execution_count": 14,
   "metadata": {},
   "outputs": [
    {
     "data": {
      "text/plain": [
       "['HD_Date Year', 'Riskfactors_Data Years']"
      ]
     },
     "execution_count": 14,
     "metadata": {},
     "output_type": "execute_result"
    }
   ],
   "source": [
    "ucols = []\n",
    "for i in unumbers:\n",
    "    if unumbers[i] == 1:\n",
    "        ucols.append(i)\n",
    "ucols"
   ]
  },
  {
   "cell_type": "markdown",
   "metadata": {},
   "source": [
    "### 4. Range of Values\n",
    "\n",
    "Your data almost certainly has some numeric columns that can be summed or averaged.  Create a histogram that shows the distribution of values for this column."
   ]
  },
  {
   "cell_type": "code",
   "execution_count": 15,
   "metadata": {},
   "outputs": [],
   "source": [
    "import matplotlib.pyplot as plt"
   ]
  },
  {
   "cell_type": "code",
   "execution_count": 16,
   "metadata": {},
   "outputs": [
    {
     "data": {
      "text/plain": [
       "<matplotlib.axes._subplots.AxesSubplot at 0x7fcd270d4cc0>"
      ]
     },
     "execution_count": 16,
     "metadata": {},
     "output_type": "execute_result"
    },
    {
     "data": {
      "image/png": "[encoded data removed]",
      "text/plain": [
       "<Figure size 432x288 with 1 Axes>"
      ]
     },
     "metadata": {
      "needs_background": "light"
     },
     "output_type": "display_data"
    }
   ],
   "source": [
    "hd_rfs['HBP_Weighted Percent'].hist(bins = 30)"
   ]
  },
  {
   "cell_type": "markdown",
   "metadata": {},
   "source": [
    "### 5. Discussion\n",
    "\n",
    "Do any additional exploration of this data that you think may be interesting and include your code here.  Then go onto Slack and make a post about what you've observed.  Share your observation.  Share your code, if you like.  Share a screenshot of the data or a chart based on the data.\n",
    "\n",
    "Then comment on at least two other people's observations that they share on Slack.  (Use the reply as thread option in Slack to keep the conversation organized.)"
   ]
  },
  {
   "cell_type": "code",
   "execution_count": 17,
   "metadata": {},
   "outputs": [
    {
     "data": {
      "text/plain": [
       "(0.0, 70.0)"
      ]
     },
     "execution_count": 17,
     "metadata": {},
     "output_type": "execute_result"
    },
    {
     "data": {
      "image/png": "[encoded data removed]",
      "text/plain": [
       "<Figure size 432x288 with 1 Axes>"
      ]
     },
     "metadata": {
      "needs_background": "light"
     },
     "output_type": "display_data"
    }
   ],
   "source": [
    "graph = hd_rfs[['hd_Weighted Percent','HBP_Weighted Percent','smoking_Weighted Percent']].plot.kde()\n",
    "graph.set_xlim(0, 70)"
   ]
  },
  {
   "cell_type": "markdown",
   "metadata": {},
   "source": [
    "\n",
    "\n",
    "---\n",
    "\n",
    "\n",
    "\n",
    "## Submitting Your Work\n",
    "\n",
    "In order to submit your work, you'll need to use the `git` command line program to **add** your homework file (this file) to your local repository, **commit** your changes to your local repository, and then **push** those changes up to github.com.  From there, I'll be able to **pull** the changes down and do my grading.  I'll provide some feedback, **commit** and **push** my comments back to you.  Next week, I'll show you how to **pull** down my comments.\n",
    "\n",
    "To run through everything one last time and submit your work:\n",
    "1. Use the `Kernel` -> `Restart Kernel and Run All Cells` menu option to run everything from top to bottom and stop here.\n",
    "2. Follow the instruction on the prompt below to either ssave and submit your work, or continue working.\n",
    "\n",
    "If anything fails along the way with this submission part of the process, let me know.  I'll help you troubleshoort."
   ]
  },
  {
   "cell_type": "markdown",
   "metadata": {},
   "source": [
    "---"
   ]
  },
  {
   "cell_type": "code",
   "execution_count": 18,
   "metadata": {
    "jupyter": {
     "source_hidden": true
    }
   },
   "outputs": [
    {
     "name": "stdin",
     "output_type": "stream",
     "text": [
      "\n",
      "Are you ready to submit your work?\n",
      "1. Click the Save icon (or do Ctrl-S / Cmd-S)\n",
      "2. Type \"yes\" or \"no\" below\n",
      "3. Press Enter\n",
      "\n",
      " yes\n"
     ]
    },
    {
     "name": "stdout",
     "output_type": "stream",
     "text": [
      "[main 5193c24] Submitting the week 12 programming assignment\n",
      " 2 files changed, 29 insertions(+), 9 deletions(-)\n",
      "To github.com:shiv80/hds5210-2022.git\n",
      " ! [rejected]        main -> main (fetch first)\n",
      "error: failed to push some refs to 'git@github.com:shiv80/hds5210-2022.git'\n",
      "hint: Updates were rejected because the remote contains work that you do\n",
      "hint: not have locally. This is usually caused by another repository pushing\n",
      "hint: to the same ref. You may want to first integrate the remote changes\n",
      "hint: (e.g., 'git pull ...') before pushing again.\n",
      "hint: See the 'Note about fast-forwards' in 'git push --help' for details.\n"
     ]
    }
   ],
   "source": [
    "a=input('''\n",
    "Are you ready to submit your work?\n",
    "1. Click the Save icon (or do Ctrl-S / Cmd-S)\n",
    "2. Type \"yes\" or \"no\" below\n",
    "3. Press Enter\n",
    "\n",
    "''')\n",
    "\n",
    "if a=='yes':\n",
    "    !git add week13_assignment_2.ipynb\n",
    "    !git commit -a -m \"Submitting the week 12 programming assignment\"\n",
    "    !git push\n",
    "else:\n",
    "    print('''\n",
    "    \n",
    "OK. We can wait.\n",
    "''')"
   ]
  },
  {
   "cell_type": "code",
   "execution_count": null,
   "metadata": {},
   "outputs": [],
   "source": []
  }
 ],
 "metadata": {
  "celltoolbar": "Create Assignment",
  "kernelspec": {
   "display_name": "Python 3",
   "language": "python",
   "name": "python3"
  },
  "language_info": {
   "codemirror_mode": {
    "name": "ipython",
    "version": 3
   },
   "file_extension": ".py",
   "mimetype": "text/x-python",
   "name": "python",
   "nbconvert_exporter": "python",
   "pygments_lexer": "ipython3",
   "version": "3.6.7"
  }
 },
 "nbformat": 4,
 "nbformat_minor": 2
}
