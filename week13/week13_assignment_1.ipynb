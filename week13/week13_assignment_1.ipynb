{
 "cells": [
  {
   "cell_type": "markdown",
   "metadata": {
    "nbgrader": {
     "grade": false,
     "grade_id": "cell-fc1c39d0d6f8b82a",
     "locked": true,
     "schema_version": 1,
     "solution": false
    }
   },
   "source": [
    "# Week 13 Review Assignmnet\n",
    "\n",
    "For the questions below, we're going to refer exclusively to an HHCAPS survey data set that is available in `/data/hhcaps.csv`.  Use whatever commands you want to calculate the information required to get to the answer.  Then, enter your answer in the answers cell as usual.\n",
    "\n",
    "**NOTE: Enter your answers as string values (inside quotation marks \"\") even if the answer is actually numeric.**\n",
    "\n",
    "---\n",
    "---\n"
   ]
  },
  {
   "cell_type": "code",
   "execution_count": 1,
   "metadata": {
    "nbgrader": {
     "grade": false,
     "grade_id": "intro",
     "locked": true,
     "schema_version": 1,
     "solution": false
    }
   },
   "outputs": [],
   "source": [
    "%matplotlib inline\n",
    "import pandas as pd\n",
    "\n",
    "hhcaps = pd.read_csv('/data/hhcaps.csv')"
   ]
  },
  {
   "cell_type": "markdown",
   "metadata": {
    "nbgrader": {
     "grade": false,
     "grade_id": "q01-intro",
     "locked": true,
     "schema_version": 1,
     "solution": false
    }
   },
   "source": [
    "\n",
    "#01\n",
    "How many columns does this file contain?"
   ]
  },
  {
   "cell_type": "code",
   "execution_count": 2,
   "metadata": {},
   "outputs": [
    {
     "data": {
      "text/plain": [
       "39"
      ]
     },
     "execution_count": 2,
     "metadata": {},
     "output_type": "execute_result"
    }
   ],
   "source": [
    "len(hhcaps.columns)"
   ]
  },
  {
   "cell_type": "code",
   "execution_count": 3,
   "metadata": {
    "nbgrader": {
     "grade": false,
     "grade_id": "q01-solution",
     "locked": false,
     "schema_version": 1,
     "solution": true
    }
   },
   "outputs": [],
   "source": [
    "answers={}\n",
    "answers['40.1'] = \"39\""
   ]
  },
  {
   "cell_type": "markdown",
   "metadata": {
    "nbgrader": {
     "grade": false,
     "grade_id": "q02-intro",
     "locked": true,
     "schema_version": 1,
     "solution": false
    }
   },
   "source": [
    "## #02 - \n",
    "\n",
    "How many different values for State are there in this file?"
   ]
  },
  {
   "cell_type": "code",
   "execution_count": 4,
   "metadata": {},
   "outputs": [
    {
     "data": {
      "text/plain": [
       "55"
      ]
     },
     "execution_count": 4,
     "metadata": {},
     "output_type": "execute_result"
    }
   ],
   "source": [
    "len(hhcaps.State.unique())"
   ]
  },
  {
   "cell_type": "code",
   "execution_count": 5,
   "metadata": {
    "nbgrader": {
     "grade": false,
     "grade_id": "q02-solution",
     "locked": false,
     "schema_version": 1,
     "solution": true
    }
   },
   "outputs": [],
   "source": [
    "answers['40.2'] = \"55\""
   ]
  },
  {
   "cell_type": "markdown",
   "metadata": {
    "nbgrader": {
     "grade": false,
     "grade_id": "q03-intro",
     "locked": true,
     "schema_version": 1,
     "solution": false
    }
   },
   "source": [
    "## #03 - \n",
    "\n",
    "Which of those State values has the highest frequency of occurence?"
   ]
  },
  {
   "cell_type": "code",
   "execution_count": 6,
   "metadata": {
    "nbgrader": {
     "grade": false,
     "grade_id": "q03-solution",
     "locked": false,
     "schema_version": 1,
     "solution": true
    }
   },
   "outputs": [
    {
     "data": {
      "text/plain": [
       "TX    2518\n",
       "CA    1319\n",
       "FL    1069\n",
       "OH     781\n",
       "IL     735\n",
       "MI     597\n",
       "PA     425\n",
       "MA     261\n",
       "OK     256\n",
       "VA     244\n",
       "IN     229\n",
       "MN     197\n",
       "LA     195\n",
       "CO     187\n",
       "NC     174\n",
       "AR     172\n",
       "AZ     169\n",
       "MO     169\n",
       "IA     163\n",
       "AL     152\n",
       "NV     143\n",
       "NY     141\n",
       "TN     140\n",
       "WI     119\n",
       "KS     117\n",
       "GA     106\n",
       "KY     104\n",
       "UT      98\n",
       "CT      91\n",
       "NM      77\n",
       "NE      75\n",
       "SC      70\n",
       "WA      63\n",
       "WV      61\n",
       "OR      57\n",
       "MD      53\n",
       "MS      48\n",
       "NJ      47\n",
       "ID      45\n",
       "PR      45\n",
       "SD      33\n",
       "NH      31\n",
       "DC      28\n",
       "MT      27\n",
       "RI      27\n",
       "WY      26\n",
       "DE      26\n",
       "ME      24\n",
       "ND      18\n",
       "HI      16\n",
       "AK      14\n",
       "VT      11\n",
       "GU       4\n",
       "MP       2\n",
       "VI       1\n",
       "Name: State, dtype: int64"
      ]
     },
     "execution_count": 6,
     "metadata": {},
     "output_type": "execute_result"
    }
   ],
   "source": [
    "hhcaps['State'].value_counts()"
   ]
  },
  {
   "cell_type": "code",
   "execution_count": 7,
   "metadata": {
    "nbgrader": {
     "grade": true,
     "grade_id": "q03-test",
     "locked": true,
     "points": 2,
     "schema_version": 1,
     "solution": false
    }
   },
   "outputs": [],
   "source": [
    "answers['40.3'] = \"TX\""
   ]
  },
  {
   "cell_type": "markdown",
   "metadata": {
    "nbgrader": {
     "grade": false,
     "grade_id": "q04-intro",
     "locked": true,
     "schema_version": 1,
     "solution": false
    }
   },
   "source": [
    "## #04 - \n",
    "\n",
    "Which of those State values has the best average performance on the `Star Rating for health team communicated well with them` score?"
   ]
  },
  {
   "cell_type": "code",
   "execution_count": 8,
   "metadata": {
    "nbgrader": {
     "grade": false,
     "grade_id": "q04-solution",
     "locked": false,
     "schema_version": 1,
     "solution": true
    }
   },
   "outputs": [
    {
     "data": {
      "text/plain": [
       "State\n",
       "ME    4.650000\n",
       "WV    4.647059\n",
       "MS    4.636364\n",
       "AL    4.507692\n",
       "LA    4.487805\n",
       "KY    4.484536\n",
       "AR    4.384615\n",
       "TN    4.372881\n",
       "MT    4.333333\n",
       "SC    4.333333\n",
       "MO    4.300885\n",
       "VT    4.272727\n",
       "ND    4.250000\n",
       "NE    4.250000\n",
       "IA    4.204082\n",
       "SD    4.166667\n",
       "KS    4.166667\n",
       "PA    4.148325\n",
       "NC    4.138158\n",
       "NH    4.136364\n",
       "OK    4.128655\n",
       "WI    4.101449\n",
       "IN    4.030075\n",
       "VI    4.000000\n",
       "ID    3.972222\n",
       "RI    3.947368\n",
       "GA    3.917526\n",
       "VA    3.865772\n",
       "DE    3.846154\n",
       "WY    3.833333\n",
       "NJ    3.833333\n",
       "HI    3.818182\n",
       "MA    3.817308\n",
       "TX    3.811648\n",
       "CO    3.770833\n",
       "MI    3.716279\n",
       "NM    3.714286\n",
       "MD    3.695652\n",
       "IL    3.667820\n",
       "OH    3.666667\n",
       "FL    3.645228\n",
       "WA    3.642857\n",
       "UT    3.603774\n",
       "CT    3.550725\n",
       "MN    3.544554\n",
       "AK    3.500000\n",
       "OR    3.409091\n",
       "NY    3.378641\n",
       "AZ    3.277108\n",
       "CA    3.104508\n",
       "NV    3.000000\n",
       "PR    2.846154\n",
       "DC    2.000000\n",
       "GU         NaN\n",
       "MP         NaN\n",
       "Name: Star Rating for health team communicated well with them, dtype: float64"
      ]
     },
     "execution_count": 8,
     "metadata": {},
     "output_type": "execute_result"
    }
   ],
   "source": [
    "hhcaps.groupby('State')['Star Rating for health team communicated well with them'].agg('mean').sort_values(ascending = False)"
   ]
  },
  {
   "cell_type": "code",
   "execution_count": 9,
   "metadata": {
    "nbgrader": {
     "grade": true,
     "grade_id": "q04-test",
     "locked": true,
     "points": 2,
     "schema_version": 1,
     "solution": false
    }
   },
   "outputs": [],
   "source": [
    "answers['40.4'] = \"ME\""
   ]
  },
  {
   "cell_type": "markdown",
   "metadata": {
    "nbgrader": {
     "grade": false,
     "grade_id": "q05-intro",
     "locked": true,
     "schema_version": 1,
     "solution": false
    }
   },
   "source": [
    "## #05 - \n",
    "\n",
    "What was the average score on `Star Rating for how patients rated overall care from agency` for providers listed as having a `Type of Ownership` of `Hospital Based Program`\n",
    "\n",
    "**NOTE: Enter your answer with two decimal precision: 0.00**"
   ]
  },
  {
   "cell_type": "code",
   "execution_count": 10,
   "metadata": {
    "nbgrader": {
     "grade": false,
     "grade_id": "q05-solution",
     "locked": false,
     "schema_version": 1,
     "solution": true
    }
   },
   "outputs": [
    {
     "data": {
      "text/plain": [
       "Local                                     9125\n",
       "Official Health Agency                    1338\n",
       "Hospital Based Program                     878\n",
       "Visiting Nurse Association                 580\n",
       "Skilled Nursing Facility Based Program      54\n",
       "Combination Government Voluntary            24\n",
       "Rehabilitation Facility Based Program        1\n",
       "Name: Type of Ownership, dtype: int64"
      ]
     },
     "execution_count": 10,
     "metadata": {},
     "output_type": "execute_result"
    }
   ],
   "source": [
    "hhcaps['Type of Ownership'].value_counts()"
   ]
  },
  {
   "cell_type": "code",
   "execution_count": 11,
   "metadata": {},
   "outputs": [
    {
     "data": {
      "text/plain": [
       "3.69"
      ]
     },
     "execution_count": 11,
     "metadata": {},
     "output_type": "execute_result"
    }
   ],
   "source": [
    "filter1 = hhcaps['Type of Ownership'] == 'Hospital Based Program'\n",
    "round(hhcaps[filter1]['Star Rating for how patients rated overall care from agency'].agg('mean'), 2)"
   ]
  },
  {
   "cell_type": "code",
   "execution_count": 12,
   "metadata": {
    "nbgrader": {
     "grade": true,
     "grade_id": "q05-test",
     "locked": true,
     "points": 2,
     "schema_version": 1,
     "solution": false
    }
   },
   "outputs": [],
   "source": [
    "answers['40.5'] = \"3.69\""
   ]
  },
  {
   "cell_type": "markdown",
   "metadata": {},
   "source": [
    "---\n",
    "\n",
    "Checking Your Work\n",
    "---\n",
    "\n",
    "After completing your work above and running each cell, you can check your answers by running the code below. \n",
    "\n",
    "The easiest way to do this is to use the `Kernel` -> `Restart Kernel and Run All Cells` menu option. This option restarts Python and runs every cell from top to bottom until it encounters an exception of some kind.  It will stop after running the cell below and outputing a summary of how many answers you have correct or incorrect.\n"
   ]
  },
  {
   "cell_type": "code",
   "execution_count": 13,
   "metadata": {
    "jupyter": {
     "source_hidden": true
    }
   },
   "outputs": [
    {
     "name": "stdout",
     "output_type": "stream",
     "text": [
      "   Q#               Yours  Correct?\n",
      " 40.1                  39        OK\n",
      " 40.2                  55        OK\n",
      " 40.3                  TX        OK\n",
      " 40.4                  ME        OK\n",
      " 40.5                3.69        OK\n"
     ]
    }
   ],
   "source": [
    "import getpass\n",
    "import boto3\n",
    "import json\n",
    "\n",
    "test = {\n",
    "    \"user\": getpass.getuser(),\n",
    "    \"week\": \"week13\",\n",
    "    \"answers\": answers\n",
    "}\n",
    "\n",
    "client = boto3.client('lambda')\n",
    "\n",
    "response = client.invoke(\n",
    "    FunctionName=\"hds5210\",\n",
    "    InvocationType=\"RequestResponse\",\n",
    "    Payload=json.dumps(test))\n",
    "\n",
    "result = json.loads(response['Payload'].read().decode('utf-8'))\n",
    "# print(result)\n",
    "\n",
    "try:\n",
    "    print('{0:>5}{1:>20}{2:>10}'.format('Q#','Yours','Correct?'))\n",
    "    for row in result.get('results'):\n",
    "        print('{0:>5}{1:>20}{2:>10}'.format(str(row[0]),str(row[1]),str(row[2])))\n",
    "except:\n",
    "    print(result)"
   ]
  },
  {
   "cell_type": "markdown",
   "metadata": {},
   "source": [
    "---\n",
    "\n",
    "## Check your work above\n",
    "\n",
    "If you didn't get them all correct, take a few minutes to think through those that aren't correct.\n",
    "\n",
    "\n",
    "## Submitting Your Work\n",
    "\n",
    "In order to submit your work, you'll need to use the `git` command line program to **add** your homework file (this file) to your local repository, **commit** your changes to your local repository, and then **push** those changes up to github.com.  From there, I'll be able to **pull** the changes down and do my grading.  I'll provide some feedback, **commit** and **push** my comments back to you.  Next week, I'll show you how to **pull** down my comments.\n",
    "\n",
    "To run through everything one last time and submit your work:\n",
    "1. Use the `Kernel` -> `Restart Kernel and Run All Cells` menu option to run everything from top to bottom and stop here.\n",
    "2. Follow the instruction on the prompt below to either ssave and submit your work, or continue working.\n",
    "\n",
    "If anything fails along the way with this submission part of the process, let me know.  I'll help you troubleshoort."
   ]
  },
  {
   "cell_type": "markdown",
   "metadata": {},
   "source": [
    "---"
   ]
  },
  {
   "cell_type": "code",
   "execution_count": 14,
   "metadata": {
    "jupyter": {
     "source_hidden": true
    }
   },
   "outputs": [
    {
     "name": "stdin",
     "output_type": "stream",
     "text": [
      "\n",
      "Are you ready to submit your work?\n",
      "1. Click the Save icon (or do Ctrl-S / Cmd-S)\n",
      "2. Type \"yes\" or \"no\" below\n",
      "3. Press Enter\n",
      "\n",
      " yes\n"
     ]
    },
    {
     "name": "stdout",
     "output_type": "stream",
     "text": [
      "On branch main\n",
      "Your branch is up to date with 'origin/main'.\n",
      "\n",
      "Untracked files:\n",
      "\t\u001b[31m../Untitled.ipynb\u001b[m\n",
      "\t\u001b[31m../week02/\u001b[m\n",
      "\t\u001b[31m../week04/week04_examples.ipynb\u001b[m\n",
      "\t\u001b[31m../week04/week04_inclass.ipynb\u001b[m\n",
      "\t\u001b[31m../week04/week04_lookups.ipynb\u001b[m\n",
      "\t\u001b[31m../week05/californiaDDS.ipynb\u001b[m\n",
      "\t\u001b[31m../week05/week05_inclass.ipynb\u001b[m\n",
      "\t\u001b[31m../week06/module29-xml-examples.ipynb\u001b[m\n",
      "\t\u001b[31m../week06/week06_inclass_1.ipynb\u001b[m\n",
      "\t\u001b[31m../week07/week07_inclass.ipynb\u001b[m\n",
      "\t\u001b[31m../week10/heart_2020_cleaned.csv\u001b[m\n",
      "\t\u001b[31m../week11/complications_all.csv\u001b[m\n",
      "\t\u001b[31m../week12/Untitled.ipynb\u001b[m\n",
      "\t\u001b[31mblood pressure.csv\u001b[m\n",
      "\t\u001b[31mcoronary.csv\u001b[m\n",
      "\t\u001b[31mcurrent smoking.xlsx\u001b[m\n",
      "\t\u001b[31m../week14/\u001b[m\n",
      "\n",
      "nothing added to commit but untracked files present\n",
      "Everything up-to-date\n"
     ]
    }
   ],
   "source": [
    "a=input('''\n",
    "Are you ready to submit your work?\n",
    "1. Click the Save icon (or do Ctrl-S / Cmd-S)\n",
    "2. Type \"yes\" or \"no\" below\n",
    "3. Press Enter\n",
    "\n",
    "''')\n",
    "\n",
    "if a=='yes':\n",
    "    !git add week13_assignment_1.ipynb\n",
    "    !git commit -a -m \"Submitting the week 13 review exercises\"\n",
    "    !git push\n",
    "else:\n",
    "    print('''\n",
    "    \n",
    "OK. We can wait.\n",
    "''')"
   ]
  },
  {
   "cell_type": "code",
   "execution_count": null,
   "metadata": {},
   "outputs": [],
   "source": []
  }
 ],
 "metadata": {
  "celltoolbar": "Create Assignment",
  "kernelspec": {
   "display_name": "Python 3",
   "language": "python",
   "name": "python3"
  },
  "language_info": {
   "codemirror_mode": {
    "name": "ipython",
    "version": 3
   },
   "file_extension": ".py",
   "mimetype": "text/x-python",
   "name": "python",
   "nbconvert_exporter": "python",
   "pygments_lexer": "ipython3",
   "version": "3.6.7"
  }
 },
 "nbformat": 4,
 "nbformat_minor": 2
}
